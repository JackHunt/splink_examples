{
 "cells": [
  {
   "cell_type": "markdown",
   "id": "3fbefa5e-184f-4376-bcc4-2a5bdb3e37fc",
   "metadata": {},
   "source": [
    "# Setup"
   ]
  },
  {
   "cell_type": "code",
   "execution_count": 1,
   "id": "07a2c45f-3f6c-4df6-aa46-b2598b717277",
   "metadata": {},
   "outputs": [],
   "source": [
    "from splink import (\n",
    "    splink_datasets,\n",
    "    Linker,\n",
    "    SettingsCreator,\n",
    "    block_on,\n",
    "    DuckDBAPI\n",
    ")\n",
    "import splink.comparison_library as cl"
   ]
  },
  {
   "cell_type": "markdown",
   "id": "4b583940-0360-4e59-9e28-5ad4cbb39724",
   "metadata": {},
   "source": [
    "# Load Data"
   ]
  },
  {
   "cell_type": "code",
   "execution_count": 2,
   "id": "5e298bb4-f100-4793-8a0a-f7e81bf48a74",
   "metadata": {},
   "outputs": [],
   "source": [
    "df = splink_datasets.fake_1000"
   ]
  },
  {
   "cell_type": "markdown",
   "id": "864f69e9-d335-42da-af1a-a97efcc66dbd",
   "metadata": {},
   "source": [
    "# Setup Linker"
   ]
  },
  {
   "cell_type": "code",
   "execution_count": 8,
   "id": "0357ff05-97d1-4375-922f-be88035d55ee",
   "metadata": {},
   "outputs": [],
   "source": [
    "settings = SettingsCreator(\n",
    "    link_type=\"dedupe_only\",\n",
    "    comparisons=[\n",
    "        cl.NameComparison(\"first_name\"),\n",
    "        cl.NameComparison(\"surname\"),\n",
    "        cl.LevenshteinAtThresholds(\"dob\", 1),\n",
    "        cl.ExactMatch(\"city\").configure(term_frequency_adjustments=True),\n",
    "        cl.EmailComparison(\"email\"),\n",
    "    ],\n",
    "    blocking_rules_to_generate_predictions=[\n",
    "        block_on(\"first_name\", \"city\"),\n",
    "        block_on(\"surname\"),\n",
    "\n",
    "    ],\n",
    "    retain_intermediate_calculation_columns=True,\n",
    ")"
   ]
  },
  {
   "cell_type": "code",
   "execution_count": 6,
   "id": "00f443bf-6629-49a8-8d6a-9dc1ab21ebd0",
   "metadata": {},
   "outputs": [],
   "source": [
    "linker = Linker(df, settings, db_api=DuckDBAPI())"
   ]
  },
  {
   "cell_type": "markdown",
   "id": "fe94b35a-1fd2-4bba-a558-4d3aac370093",
   "metadata": {},
   "source": [
    "# Estimation"
   ]
  },
  {
   "cell_type": "markdown",
   "id": "ca3e6c0b-1962-4ae6-b07f-ae1b4186ba95",
   "metadata": {},
   "source": [
    "## Probability Two Random Records Match"
   ]
  },
  {
   "cell_type": "code",
   "execution_count": 9,
   "id": "a6afdaad-b294-42d4-b066-5e7f075ee862",
   "metadata": {},
   "outputs": [
    {
     "name": "stderr",
     "output_type": "stream",
     "text": [
      "Probability two random records match is estimated to be  0.00298.\n",
      "This means that amongst all possible pairwise record comparisons, one in 335.56 are expected to match.  With 499,500 total possible comparisons, we expect a total of around 1,488.57 matching pairs\n"
     ]
    }
   ],
   "source": [
    "deterministic_rules = [\n",
    "    block_on(\"first_name\", \"dob\"),\n",
    "    \"l.first_name = r.first_name and levenshtein(r.surname, l.surname) <= 2\",\n",
    "    block_on(\"email\")\n",
    "]\n",
    "\n",
    "linker.training.estimate_probability_two_random_records_match(\n",
    "    deterministic_rules,\n",
    "    recall=0.7\n",
    ")"
   ]
  },
  {
   "cell_type": "markdown",
   "id": "dd184b91-c16c-43fd-b158-c443185ba0d9",
   "metadata": {},
   "source": [
    "## u-Probability"
   ]
  },
  {
   "cell_type": "code",
   "execution_count": 11,
   "id": "3518771e-b982-4fb3-b6da-2e8d8394e9b1",
   "metadata": {},
   "outputs": [
    {
     "name": "stderr",
     "output_type": "stream",
     "text": [
      "----- Estimating u probabilities using random sampling -----\n",
      "\n",
      "Estimated u probabilities using random sampling\n",
      "\n",
      "Your model is not yet fully trained. Missing estimates for:\n",
      "    - first_name (no m values are trained).\n",
      "    - surname (no m values are trained).\n",
      "    - dob (no m values are trained).\n",
      "    - city (no m values are trained).\n",
      "    - email (no m values are trained).\n"
     ]
    }
   ],
   "source": [
    "linker.training.estimate_u_using_random_sampling(\n",
    "    max_pairs=1e9\n",
    ")"
   ]
  },
  {
   "cell_type": "markdown",
   "id": "9b11002a-88b1-464b-b819-0c93c2a96c30",
   "metadata": {},
   "source": [
    "## m-Probability"
   ]
  },
  {
   "cell_type": "markdown",
   "id": "891fc451-cb2f-44d7-bdf2-d90500aae580",
   "metadata": {},
   "source": [
    "### Direct Estimation"
   ]
  },
  {
   "cell_type": "code",
   "execution_count": 13,
   "id": "5d6ff765-40c4-4f94-87d2-a7d8fe8af935",
   "metadata": {},
   "outputs": [],
   "source": [
    "# If this column existed, we could do this:\n",
    "# linker.training.estimate_m_from_label_column(\n",
    "#     \"social_security_number\"\n",
    "# )"
   ]
  },
  {
   "cell_type": "markdown",
   "id": "772b3090-c1d8-4c51-a4b9-39639dd39a95",
   "metadata": {},
   "source": [
    "### Expectation Maximisation"
   ]
  },
  {
   "cell_type": "markdown",
   "id": "92ab6742-7687-4723-a1a6-0c1584dce8c8",
   "metadata": {},
   "source": [
    "#### First Pass"
   ]
  },
  {
   "cell_type": "code",
   "execution_count": 14,
   "id": "bb9cce63-a1c9-4741-8e16-538a6b573293",
   "metadata": {},
   "outputs": [
    {
     "name": "stderr",
     "output_type": "stream",
     "text": [
      "\n",
      "----- Starting EM training session -----\n",
      "\n",
      "Estimating the m probabilities of the model by blocking on:\n",
      "(l.\"first_name\" = r.\"first_name\") AND (l.\"surname\" = r.\"surname\")\n",
      "\n",
      "Parameter estimates will be made for the following comparison(s):\n",
      "    - dob\n",
      "    - city\n",
      "    - email\n",
      "\n",
      "Parameter estimates cannot be made for the following comparison(s) since they are used in the blocking rules: \n",
      "    - first_name\n",
      "    - surname\n",
      "\n",
      "WARNING:\n",
      "Level Jaro-Winkler >0.88 on username on comparison email not observed in dataset, unable to train m value\n",
      "\n",
      "Iteration 1: Largest change in params was -0.521 in the m_probability of dob, level `Exact match on dob`\n",
      "Iteration 2: Largest change in params was 0.0516 in probability_two_random_records_match\n",
      "Iteration 3: Largest change in params was 0.0183 in probability_two_random_records_match\n",
      "Iteration 4: Largest change in params was 0.00744 in probability_two_random_records_match\n",
      "Iteration 5: Largest change in params was 0.00349 in probability_two_random_records_match\n",
      "Iteration 6: Largest change in params was 0.00183 in probability_two_random_records_match\n",
      "Iteration 7: Largest change in params was 0.00103 in probability_two_random_records_match\n",
      "Iteration 8: Largest change in params was 0.000607 in probability_two_random_records_match\n",
      "Iteration 9: Largest change in params was 0.000367 in probability_two_random_records_match\n",
      "Iteration 10: Largest change in params was 0.000226 in probability_two_random_records_match\n",
      "Iteration 11: Largest change in params was 0.00014 in probability_two_random_records_match\n",
      "Iteration 12: Largest change in params was 8.73e-05 in probability_two_random_records_match\n",
      "\n",
      "EM converged after 12 iterations\n",
      "m probability not trained for email - Jaro-Winkler >0.88 on username (comparison vector value: 1). This usually means the comparison level was never observed in the training data.\n",
      "\n",
      "Your model is not yet fully trained. Missing estimates for:\n",
      "    - first_name (no m values are trained).\n",
      "    - surname (no m values are trained).\n",
      "    - email (some m values are not trained).\n"
     ]
    }
   ],
   "source": [
    "training_session_fname_sname = (\n",
    "    linker.training.estimate_parameters_using_expectation_maximisation(\n",
    "        block_on(\n",
    "            \"first_name\",\n",
    "            \"surname\"\n",
    "        )\n",
    "    )\n",
    ")"
   ]
  },
  {
   "cell_type": "markdown",
   "id": "0cbf3ca4-6289-4fdd-a637-dca59d0f116e",
   "metadata": {},
   "source": [
    "#### Second Pass"
   ]
  },
  {
   "cell_type": "code",
   "execution_count": 15,
   "id": "b10aecba-55c1-4be7-bebb-63ad56f6f6ed",
   "metadata": {},
   "outputs": [
    {
     "name": "stderr",
     "output_type": "stream",
     "text": [
      "\n",
      "----- Starting EM training session -----\n",
      "\n",
      "Estimating the m probabilities of the model by blocking on:\n",
      "l.\"dob\" = r.\"dob\"\n",
      "\n",
      "Parameter estimates will be made for the following comparison(s):\n",
      "    - first_name\n",
      "    - surname\n",
      "    - city\n",
      "    - email\n",
      "\n",
      "Parameter estimates cannot be made for the following comparison(s) since they are used in the blocking rules: \n",
      "    - dob\n",
      "\n",
      "WARNING:\n",
      "Level Jaro-Winkler >0.88 on username on comparison email not observed in dataset, unable to train m value\n",
      "\n",
      "Iteration 1: Largest change in params was -0.407 in the m_probability of surname, level `Exact match on surname`\n",
      "Iteration 2: Largest change in params was 0.0929 in probability_two_random_records_match\n",
      "Iteration 3: Largest change in params was 0.0548 in the m_probability of first_name, level `All other comparisons`\n",
      "Iteration 4: Largest change in params was 0.0186 in probability_two_random_records_match\n",
      "Iteration 5: Largest change in params was 0.00758 in probability_two_random_records_match\n",
      "Iteration 6: Largest change in params was 0.00339 in probability_two_random_records_match\n",
      "Iteration 7: Largest change in params was 0.0016 in probability_two_random_records_match\n",
      "Iteration 8: Largest change in params was 0.000773 in probability_two_random_records_match\n",
      "Iteration 9: Largest change in params was 0.000379 in probability_two_random_records_match\n",
      "Iteration 10: Largest change in params was 0.000189 in probability_two_random_records_match\n",
      "Iteration 11: Largest change in params was 9.68e-05 in probability_two_random_records_match\n",
      "\n",
      "EM converged after 11 iterations\n",
      "m probability not trained for email - Jaro-Winkler >0.88 on username (comparison vector value: 1). This usually means the comparison level was never observed in the training data.\n",
      "\n",
      "Your model is not yet fully trained. Missing estimates for:\n",
      "    - email (some m values are not trained).\n"
     ]
    }
   ],
   "source": [
    "training_session_dob = linker.training.estimate_parameters_using_expectation_maximisation(\n",
    "    block_on(\"dob\")\n",
    ")"
   ]
  },
  {
   "cell_type": "markdown",
   "id": "a9d5d751-6046-49e3-a800-4a1d7b27a401",
   "metadata": {},
   "source": [
    "# Visualise Params"
   ]
  },
  {
   "cell_type": "markdown",
   "id": "30cfae01-c892-411c-882b-c9b4938f4a11",
   "metadata": {},
   "source": [
    "## Match Weights"
   ]
  },
  {
   "cell_type": "code",
   "execution_count": 16,
   "id": "9b0a1d89-4d77-4015-b9e8-4c8efd5f819c",
   "metadata": {},
   "outputs": [
    {
     "data": {
      "text/html": [
       "\n",
       "<style>\n",
       "  #altair-viz-14f7b9a9ad0e41aaac6c31f09ca2d1f3.vega-embed {\n",
       "    width: 100%;\n",
       "    display: flex;\n",
       "  }\n",
       "\n",
       "  #altair-viz-14f7b9a9ad0e41aaac6c31f09ca2d1f3.vega-embed details,\n",
       "  #altair-viz-14f7b9a9ad0e41aaac6c31f09ca2d1f3.vega-embed details summary {\n",
       "    position: relative;\n",
       "  }\n",
       "</style>\n",
       "<div id=\"altair-viz-14f7b9a9ad0e41aaac6c31f09ca2d1f3\"></div>\n",
       "<script type=\"text/javascript\">\n",
       "  var VEGA_DEBUG = (typeof VEGA_DEBUG == \"undefined\") ? {} : VEGA_DEBUG;\n",
       "  (function(spec, embedOpt){\n",
       "    let outputDiv = document.currentScript.previousElementSibling;\n",
       "    if (outputDiv.id !== \"altair-viz-14f7b9a9ad0e41aaac6c31f09ca2d1f3\") {\n",
       "      outputDiv = document.getElementById(\"altair-viz-14f7b9a9ad0e41aaac6c31f09ca2d1f3\");\n",
       "    }\n",
       "\n",
       "    const paths = {\n",
       "      \"vega\": \"https://cdn.jsdelivr.net/npm/vega@5?noext\",\n",
       "      \"vega-lib\": \"https://cdn.jsdelivr.net/npm/vega-lib?noext\",\n",
       "      \"vega-lite\": \"https://cdn.jsdelivr.net/npm/vega-lite@5.20.1?noext\",\n",
       "      \"vega-embed\": \"https://cdn.jsdelivr.net/npm/vega-embed@6?noext\",\n",
       "    };\n",
       "\n",
       "    function maybeLoadScript(lib, version) {\n",
       "      var key = `${lib.replace(\"-\", \"\")}_version`;\n",
       "      return (VEGA_DEBUG[key] == version) ?\n",
       "        Promise.resolve(paths[lib]) :\n",
       "        new Promise(function(resolve, reject) {\n",
       "          var s = document.createElement('script');\n",
       "          document.getElementsByTagName(\"head\")[0].appendChild(s);\n",
       "          s.async = true;\n",
       "          s.onload = () => {\n",
       "            VEGA_DEBUG[key] = version;\n",
       "            return resolve(paths[lib]);\n",
       "          };\n",
       "          s.onerror = () => reject(`Error loading script: ${paths[lib]}`);\n",
       "          s.src = paths[lib];\n",
       "        });\n",
       "    }\n",
       "\n",
       "    function showError(err) {\n",
       "      outputDiv.innerHTML = `<div class=\"error\" style=\"color:red;\">${err}</div>`;\n",
       "      throw err;\n",
       "    }\n",
       "\n",
       "    function displayChart(vegaEmbed) {\n",
       "      vegaEmbed(outputDiv, spec, embedOpt)\n",
       "        .catch(err => showError(`Javascript Error: ${err.message}<br>This usually means there's a typo in your chart specification. See the javascript console for the full traceback.`));\n",
       "    }\n",
       "\n",
       "    if(typeof define === \"function\" && define.amd) {\n",
       "      requirejs.config({paths});\n",
       "      let deps = [\"vega-embed\"];\n",
       "      require(deps, displayChart, err => showError(`Error loading script: ${err.message}`));\n",
       "    } else {\n",
       "      maybeLoadScript(\"vega\", \"5\")\n",
       "        .then(() => maybeLoadScript(\"vega-lite\", \"5.20.1\"))\n",
       "        .then(() => maybeLoadScript(\"vega-embed\", \"6\"))\n",
       "        .catch(showError)\n",
       "        .then(() => displayChart(vegaEmbed));\n",
       "    }\n",
       "  })({\"config\": {\"view\": {\"continuousWidth\": 300, \"continuousHeight\": 300, \"discreteHeight\": 60, \"discreteWidth\": 400}, \"header\": {\"title\": null}, \"mark\": {\"tooltip\": null}, \"title\": {\"anchor\": \"middle\"}}, \"vconcat\": [{\"mark\": {\"type\": \"bar\", \"clip\": true, \"height\": 15}, \"encoding\": {\"color\": {\"field\": \"log2_bayes_factor\", \"scale\": {\"domain\": [-10, 0, 10], \"interpolate\": \"lab\", \"range\": [\"red\", \"#bbbbbb\", \"green\"]}, \"title\": \"Match weight\", \"type\": \"quantitative\"}, \"tooltip\": [{\"field\": \"comparison_name\", \"title\": \"Comparison name\", \"type\": \"nominal\"}, {\"field\": \"probability_two_random_records_match\", \"format\": \".4f\", \"title\": \"Probability two random records match\", \"type\": \"nominal\"}, {\"field\": \"log2_bayes_factor\", \"format\": \",.4f\", \"title\": \"Equivalent match weight\", \"type\": \"quantitative\"}, {\"field\": \"bayes_factor_description\", \"title\": \"Match weight description\", \"type\": \"nominal\"}], \"x\": {\"axis\": {\"domain\": false, \"gridColor\": {\"condition\": {\"test\": \"abs(datum.value / 10)  <= 1 & datum.value % 10 === 0\", \"value\": \"#aaa\"}, \"value\": \"#ddd\"}, \"gridDash\": {\"condition\": {\"test\": \"abs(datum.value / 10) == 1\", \"value\": [3]}, \"value\": null}, \"gridWidth\": {\"condition\": {\"test\": \"abs(datum.value / 10)  <= 1 & datum.value % 10 === 0\", \"value\": 2}, \"value\": 1}, \"labels\": false, \"ticks\": false, \"title\": \"\"}, \"field\": \"log2_bayes_factor\", \"scale\": {\"domain\": [-9, 9]}, \"type\": \"quantitative\"}, \"y\": {\"axis\": {\"title\": \"Prior (starting) match weight\", \"titleAlign\": \"right\", \"titleAngle\": 0, \"titleFontWeight\": \"normal\"}, \"field\": \"label_for_charts\", \"sort\": {\"field\": \"comparison_vector_value\", \"order\": \"descending\"}, \"type\": \"nominal\"}}, \"height\": 20, \"transform\": [{\"filter\": \"(datum.comparison_name == 'probability_two_random_records_match')\"}]}, {\"mark\": {\"type\": \"bar\", \"clip\": true}, \"encoding\": {\"color\": {\"field\": \"log2_bayes_factor\", \"scale\": {\"domain\": [-10, 0, 10], \"interpolate\": \"lab\", \"range\": [\"red\", \"#bbbbbb\", \"green\"]}, \"title\": \"Match weight\", \"type\": \"quantitative\"}, \"row\": {\"field\": \"comparison_name\", \"header\": {\"labelAlign\": \"left\", \"labelAnchor\": \"middle\", \"labelAngle\": 0}, \"sort\": {\"field\": \"comparison_sort_order\"}, \"type\": \"nominal\"}, \"tooltip\": [{\"field\": \"comparison_name\", \"title\": \"Comparison name\", \"type\": \"nominal\"}, {\"field\": \"label_for_charts\", \"title\": \"Label\", \"type\": \"ordinal\"}, {\"field\": \"sql_condition\", \"title\": \"SQL condition\", \"type\": \"nominal\"}, {\"field\": \"m_probability\", \"format\": \".10~g\", \"title\": \"M probability\", \"type\": \"quantitative\"}, {\"field\": \"u_probability\", \"format\": \".10~g\", \"title\": \"U probability\", \"type\": \"quantitative\"}, {\"field\": \"bayes_factor\", \"format\": \",.6f\", \"title\": \"Bayes factor = m/u\", \"type\": \"quantitative\"}, {\"field\": \"log2_bayes_factor\", \"format\": \".4~g\", \"title\": \"Match weight = log2(m/u)\", \"type\": \"quantitative\"}, {\"field\": \"bayes_factor_description\", \"title\": \"Match weight description\", \"type\": \"nominal\"}, {\"field\": \"m_probability_description\", \"title\": \"m probability description\", \"type\": \"nominal\"}, {\"field\": \"u_probability_description\", \"title\": \"u probability description\", \"type\": \"nominal\"}], \"x\": {\"axis\": {\"gridColor\": {\"condition\": {\"test\": \"abs(datum.value / 10)  <= 1 & datum.value % 10 === 0\", \"value\": \"#aaa\"}, \"value\": \"#ddd\"}, \"gridDash\": {\"condition\": {\"test\": \"abs(datum.value / 10) == 1\", \"value\": [3]}, \"value\": null}, \"gridWidth\": {\"condition\": {\"test\": \"abs(datum.value / 10)  <= 1 & datum.value % 10 === 0\", \"value\": 2}, \"value\": 1}, \"title\": \"Comparison level match weight = log2(m/u)\"}, \"field\": \"log2_bayes_factor\", \"scale\": {\"domain\": [-9, 9]}, \"type\": \"quantitative\"}, \"y\": {\"axis\": {\"title\": null}, \"field\": \"label_for_charts\", \"sort\": {\"field\": \"comparison_vector_value\", \"order\": \"descending\"}, \"type\": \"nominal\"}}, \"height\": {\"step\": 12}, \"resolve\": {\"axis\": {\"y\": \"independent\"}, \"scale\": {\"y\": \"independent\"}}, \"transform\": [{\"filter\": \"(datum.comparison_name != 'probability_two_random_records_match')\"}]}], \"data\": {\"name\": \"data-c2b1da9a0a945137801f80795b207e76\"}, \"params\": [{\"name\": \"mouse_zoom\", \"select\": {\"type\": \"interval\", \"encodings\": [\"x\"]}, \"bind\": \"scales\", \"views\": []}], \"resolve\": {\"axis\": {\"y\": \"independent\"}, \"scale\": {\"y\": \"independent\"}}, \"title\": {\"text\": \"Model parameters (components of final match weight)\", \"subtitle\": \"Use mousewheel to zoom\"}, \"$schema\": \"https://vega.github.io/schema/vega-lite/v5.9.3.json\", \"datasets\": {\"data-c2b1da9a0a945137801f80795b207e76\": [{\"comparison_name\": \"probability_two_random_records_match\", \"sql_condition\": null, \"label_for_charts\": \"\", \"m_probability\": null, \"u_probability\": null, \"m_probability_description\": null, \"u_probability_description\": null, \"has_tf_adjustments\": false, \"tf_adjustment_column\": null, \"tf_adjustment_weight\": null, \"is_null_level\": false, \"bayes_factor\": 0.002989030659078392, \"log2_bayes_factor\": -8.386106589561935, \"comparison_vector_value\": 0, \"max_comparison_vector_value\": 0, \"bayes_factor_description\": \"The probability that two random records drawn at random match is 0.003 or one in  335.6 records.This is equivalent to a starting match weight of -8.386.\", \"probability_two_random_records_match\": 0.00298012298012298, \"comparison_sort_order\": -1}, {\"comparison_name\": \"first_name\", \"sql_condition\": \"\\\"first_name_l\\\" = \\\"first_name_r\\\"\", \"label_for_charts\": \"Exact match on first_name\", \"m_probability\": 0.49142094931763725, \"u_probability\": 0.0057935713975033705, \"m_probability_description\": \"Amongst matching record comparisons, 49.14% of records (i.e. one in 2.035) are in the exact match on first_name comparison level\", \"u_probability_description\": \"Amongst non-matching record comparisons, 0.5794% of records (i.e. one in 173) are in the exact match on first_name comparison level\", \"has_tf_adjustments\": true, \"tf_adjustment_column\": \"first_name\", \"tf_adjustment_weight\": 1.0, \"is_null_level\": false, \"bayes_factor\": 84.82176460782131, \"log2_bayes_factor\": 6.40636259155045, \"comparison_vector_value\": 4, \"max_comparison_vector_value\": 4, \"bayes_factor_description\": \"If comparison level is `exact match on first_name` then comparison is 84.82 times more likely to be a match\", \"probability_two_random_records_match\": 0.00298012298012298, \"comparison_sort_order\": 0}, {\"comparison_name\": \"first_name\", \"sql_condition\": \"jaro_winkler_similarity(\\\"first_name_l\\\", \\\"first_name_r\\\") >= 0.92\", \"label_for_charts\": \"Jaro-Winkler distance of first_name >= 0.92\", \"m_probability\": 0.15176057384758346, \"u_probability\": 0.0023429457903817435, \"m_probability_description\": \"Amongst matching record comparisons, 15.18% of records (i.e. one in 6.589) are in the jaro-winkler distance of first_name >= 0.92 comparison level\", \"u_probability_description\": \"Amongst non-matching record comparisons, 0.2343% of records (i.e. one in 427) are in the jaro-winkler distance of first_name >= 0.92 comparison level\", \"has_tf_adjustments\": false, \"tf_adjustment_column\": null, \"tf_adjustment_weight\": 1.0, \"is_null_level\": false, \"bayes_factor\": 64.77340383656791, \"log2_bayes_factor\": 6.017329654456136, \"comparison_vector_value\": 3, \"max_comparison_vector_value\": 4, \"bayes_factor_description\": \"If comparison level is `jaro-winkler distance of first_name >= 0.92` then comparison is 64.77 times more likely to be a match\", \"probability_two_random_records_match\": 0.00298012298012298, \"comparison_sort_order\": 0}, {\"comparison_name\": \"first_name\", \"sql_condition\": \"jaro_winkler_similarity(\\\"first_name_l\\\", \\\"first_name_r\\\") >= 0.88\", \"label_for_charts\": \"Jaro-Winkler distance of first_name >= 0.88\", \"m_probability\": 0.07406496776118929, \"u_probability\": 0.0015484319951285285, \"m_probability_description\": \"Amongst matching record comparisons, 7.406% of records (i.e. one in 13.5) are in the jaro-winkler distance of first_name >= 0.88 comparison level\", \"u_probability_description\": \"Amongst non-matching record comparisons, 0.1548% of records (i.e. one in 646) are in the jaro-winkler distance of first_name >= 0.88 comparison level\", \"has_tf_adjustments\": false, \"tf_adjustment_column\": null, \"tf_adjustment_weight\": 1.0, \"is_null_level\": false, \"bayes_factor\": 47.832238028019745, \"log2_bayes_factor\": 5.579911390213005, \"comparison_vector_value\": 2, \"max_comparison_vector_value\": 4, \"bayes_factor_description\": \"If comparison level is `jaro-winkler distance of first_name >= 0.88` then comparison is 47.83 times more likely to be a match\", \"probability_two_random_records_match\": 0.00298012298012298, \"comparison_sort_order\": 0}, {\"comparison_name\": \"first_name\", \"sql_condition\": \"jaro_winkler_similarity(\\\"first_name_l\\\", \\\"first_name_r\\\") >= 0.7\", \"label_for_charts\": \"Jaro-Winkler distance of first_name >= 0.7\", \"m_probability\": 0.07908610771504862, \"u_probability\": 0.018934945558406913, \"m_probability_description\": \"Amongst matching record comparisons, 7.909% of records (i.e. one in 12.64) are in the jaro-winkler distance of first_name >= 0.7 comparison level\", \"u_probability_description\": \"Amongst non-matching record comparisons, 1.893% of records (i.e. one in 52.81) are in the jaro-winkler distance of first_name >= 0.7 comparison level\", \"has_tf_adjustments\": false, \"tf_adjustment_column\": null, \"tf_adjustment_weight\": 1.0, \"is_null_level\": false, \"bayes_factor\": 4.176727494203712, \"log2_bayes_factor\": 2.0623730195874392, \"comparison_vector_value\": 1, \"max_comparison_vector_value\": 4, \"bayes_factor_description\": \"If comparison level is `jaro-winkler distance of first_name >= 0.7` then comparison is 4.177 times more likely to be a match\", \"probability_two_random_records_match\": 0.00298012298012298, \"comparison_sort_order\": 0}, {\"comparison_name\": \"first_name\", \"sql_condition\": \"ELSE\", \"label_for_charts\": \"All other comparisons\", \"m_probability\": 0.20366740135854144, \"u_probability\": 0.9713801052585794, \"m_probability_description\": \"Amongst matching record comparisons, 20.37% of records (i.e. one in 4.91) are in the all other comparisons comparison level\", \"u_probability_description\": \"Amongst non-matching record comparisons, 97.14% of records (i.e. one in 1.029) are in the all other comparisons comparison level\", \"has_tf_adjustments\": false, \"tf_adjustment_column\": null, \"tf_adjustment_weight\": 1.0, \"is_null_level\": false, \"bayes_factor\": 0.20966807973108076, \"log2_bayes_factor\": -2.2538208553839874, \"comparison_vector_value\": 0, \"max_comparison_vector_value\": 4, \"bayes_factor_description\": \"If comparison level is `all other comparisons` then comparison is 4.769 times less likely to be a match\", \"probability_two_random_records_match\": 0.00298012298012298, \"comparison_sort_order\": 0}, {\"comparison_name\": \"surname\", \"sql_condition\": \"\\\"surname_l\\\" = \\\"surname_r\\\"\", \"label_for_charts\": \"Exact match on surname\", \"m_probability\": 0.43457460622893707, \"u_probability\": 0.004889975550122249, \"m_probability_description\": \"Amongst matching record comparisons, 43.46% of records (i.e. one in 2.301) are in the exact match on surname comparison level\", \"u_probability_description\": \"Amongst non-matching record comparisons, 0.489% of records (i.e. one in 204) are in the exact match on surname comparison level\", \"has_tf_adjustments\": true, \"tf_adjustment_column\": \"surname\", \"tf_adjustment_weight\": 1.0, \"is_null_level\": false, \"bayes_factor\": 88.87050697381763, \"log2_bayes_factor\": 6.473632813130571, \"comparison_vector_value\": 4, \"max_comparison_vector_value\": 4, \"bayes_factor_description\": \"If comparison level is `exact match on surname` then comparison is 88.87 times more likely to be a match\", \"probability_two_random_records_match\": 0.00298012298012298, \"comparison_sort_order\": 1}, {\"comparison_name\": \"surname\", \"sql_condition\": \"jaro_winkler_similarity(\\\"surname_l\\\", \\\"surname_r\\\") >= 0.92\", \"label_for_charts\": \"Jaro-Winkler distance of surname >= 0.92\", \"m_probability\": 0.22529103510053097, \"u_probability\": 0.00283905173880724, \"m_probability_description\": \"Amongst matching record comparisons, 22.53% of records (i.e. one in 4.439) are in the jaro-winkler distance of surname >= 0.92 comparison level\", \"u_probability_description\": \"Amongst non-matching record comparisons, 0.2839% of records (i.e. one in 352) are in the jaro-winkler distance of surname >= 0.92 comparison level\", \"has_tf_adjustments\": false, \"tf_adjustment_column\": null, \"tf_adjustment_weight\": 1.0, \"is_null_level\": false, \"bayes_factor\": 79.35432525621447, \"log2_bayes_factor\": 6.31023695506981, \"comparison_vector_value\": 3, \"max_comparison_vector_value\": 4, \"bayes_factor_description\": \"If comparison level is `jaro-winkler distance of surname >= 0.92` then comparison is 79.35 times more likely to be a match\", \"probability_two_random_records_match\": 0.00298012298012298, \"comparison_sort_order\": 1}, {\"comparison_name\": \"surname\", \"sql_condition\": \"jaro_winkler_similarity(\\\"surname_l\\\", \\\"surname_r\\\") >= 0.88\", \"label_for_charts\": \"Jaro-Winkler distance of surname >= 0.88\", \"m_probability\": 0.04432221456939867, \"u_probability\": 0.0011314412292407403, \"m_probability_description\": \"Amongst matching record comparisons, 4.432% of records (i.e. one in 22.56) are in the jaro-winkler distance of surname >= 0.88 comparison level\", \"u_probability_description\": \"Amongst non-matching record comparisons, 0.1131% of records (i.e. one in 884) are in the jaro-winkler distance of surname >= 0.88 comparison level\", \"has_tf_adjustments\": false, \"tf_adjustment_column\": null, \"tf_adjustment_weight\": 1.0, \"is_null_level\": false, \"bayes_factor\": 39.173236244132035, \"log2_bayes_factor\": 5.291796414406481, \"comparison_vector_value\": 2, \"max_comparison_vector_value\": 4, \"bayes_factor_description\": \"If comparison level is `jaro-winkler distance of surname >= 0.88` then comparison is 39.17 times more likely to be a match\", \"probability_two_random_records_match\": 0.00298012298012298, \"comparison_sort_order\": 1}, {\"comparison_name\": \"surname\", \"sql_condition\": \"jaro_winkler_similarity(\\\"surname_l\\\", \\\"surname_r\\\") >= 0.7\", \"label_for_charts\": \"Jaro-Winkler distance of surname >= 0.7\", \"m_probability\": 0.07784087870954862, \"u_probability\": 0.014729633311540402, \"m_probability_description\": \"Amongst matching record comparisons, 7.784% of records (i.e. one in 12.85) are in the jaro-winkler distance of surname >= 0.7 comparison level\", \"u_probability_description\": \"Amongst non-matching record comparisons, 1.473% of records (i.e. one in 67.89) are in the jaro-winkler distance of surname >= 0.7 comparison level\", \"has_tf_adjustments\": false, \"tf_adjustment_column\": null, \"tf_adjustment_weight\": 1.0, \"is_null_level\": false, \"bayes_factor\": 5.284644706569965, \"log2_bayes_factor\": 2.401806480633523, \"comparison_vector_value\": 1, \"max_comparison_vector_value\": 4, \"bayes_factor_description\": \"If comparison level is `jaro-winkler distance of surname >= 0.7` then comparison is 5.285 times more likely to be a match\", \"probability_two_random_records_match\": 0.00298012298012298, \"comparison_sort_order\": 1}, {\"comparison_name\": \"surname\", \"sql_condition\": \"ELSE\", \"label_for_charts\": \"All other comparisons\", \"m_probability\": 0.21797126539158473, \"u_probability\": 0.9764098981702893, \"m_probability_description\": \"Amongst matching record comparisons, 21.8% of records (i.e. one in 4.588) are in the all other comparisons comparison level\", \"u_probability_description\": \"Amongst non-matching record comparisons, 97.64% of records (i.e. one in 1.024) are in the all other comparisons comparison level\", \"has_tf_adjustments\": false, \"tf_adjustment_column\": null, \"tf_adjustment_weight\": 1.0, \"is_null_level\": false, \"bayes_factor\": 0.2232374598004841, \"log2_bayes_factor\": -2.163348959593663, \"comparison_vector_value\": 0, \"max_comparison_vector_value\": 4, \"bayes_factor_description\": \"If comparison level is `all other comparisons` then comparison is 4.48 times less likely to be a match\", \"probability_two_random_records_match\": 0.00298012298012298, \"comparison_sort_order\": 1}, {\"comparison_name\": \"dob\", \"sql_condition\": \"\\\"dob_l\\\" = \\\"dob_r\\\"\", \"label_for_charts\": \"Exact match on dob\", \"m_probability\": 0.391421665288299, \"u_probability\": 0.0017477477477477479, \"m_probability_description\": \"Amongst matching record comparisons, 39.14% of records (i.e. one in 2.555) are in the exact match on dob comparison level\", \"u_probability_description\": \"Amongst non-matching record comparisons, 0.1748% of records (i.e. one in 572) are in the exact match on dob comparison level\", \"has_tf_adjustments\": false, \"tf_adjustment_column\": null, \"tf_adjustment_weight\": 1.0, \"is_null_level\": false, \"bayes_factor\": 223.9577569433051, \"log2_bayes_factor\": 7.807082825648325, \"comparison_vector_value\": 2, \"max_comparison_vector_value\": 2, \"bayes_factor_description\": \"If comparison level is `exact match on dob` then comparison is 224 times more likely to be a match\", \"probability_two_random_records_match\": 0.00298012298012298, \"comparison_sort_order\": 2}, {\"comparison_name\": \"dob\", \"sql_condition\": \"levenshtein(\\\"dob_l\\\", \\\"dob_r\\\") <= 1\", \"label_for_charts\": \"Levenshtein distance of dob <= 1\", \"m_probability\": 0.14937817941895062, \"u_probability\": 0.0016016016016016017, \"m_probability_description\": \"Amongst matching record comparisons, 14.94% of records (i.e. one in 6.694) are in the levenshtein distance of dob <= 1 comparison level\", \"u_probability_description\": \"Amongst non-matching record comparisons, 0.1602% of records (i.e. one in 624) are in the levenshtein distance of dob <= 1 comparison level\", \"has_tf_adjustments\": false, \"tf_adjustment_column\": null, \"tf_adjustment_weight\": 1.0, \"is_null_level\": false, \"bayes_factor\": 93.26800077470729, \"log2_bayes_factor\": 6.543310288053253, \"comparison_vector_value\": 1, \"max_comparison_vector_value\": 2, \"bayes_factor_description\": \"If comparison level is `levenshtein distance of dob <= 1` then comparison is 93.27 times more likely to be a match\", \"probability_two_random_records_match\": 0.00298012298012298, \"comparison_sort_order\": 2}, {\"comparison_name\": \"dob\", \"sql_condition\": \"ELSE\", \"label_for_charts\": \"All other comparisons\", \"m_probability\": 0.45920015529275027, \"u_probability\": 0.9966506506506506, \"m_probability_description\": \"Amongst matching record comparisons, 45.92% of records (i.e. one in 2.178) are in the all other comparisons comparison level\", \"u_probability_description\": \"Amongst non-matching record comparisons, 99.67% of records (i.e. one in 1.003) are in the all other comparisons comparison level\", \"has_tf_adjustments\": false, \"tf_adjustment_column\": null, \"tf_adjustment_weight\": 1.0, \"is_null_level\": false, \"bayes_factor\": 0.4607433457179477, \"log2_bayes_factor\": -1.1179647649923978, \"comparison_vector_value\": 0, \"max_comparison_vector_value\": 2, \"bayes_factor_description\": \"If comparison level is `all other comparisons` then comparison is 2.17 times less likely to be a match\", \"probability_two_random_records_match\": 0.00298012298012298, \"comparison_sort_order\": 2}, {\"comparison_name\": \"city\", \"sql_condition\": \"\\\"city_l\\\" = \\\"city_r\\\"\", \"label_for_charts\": \"Exact match on city\", \"m_probability\": 0.5625747223574907, \"u_probability\": 0.0551475711801453, \"m_probability_description\": \"Amongst matching record comparisons, 56.26% of records (i.e. one in 1.778) are in the exact match on city comparison level\", \"u_probability_description\": \"Amongst non-matching record comparisons, 5.515% of records (i.e. one in 18.13) are in the exact match on city comparison level\", \"has_tf_adjustments\": true, \"tf_adjustment_column\": \"city\", \"tf_adjustment_weight\": 1.0, \"is_null_level\": false, \"bayes_factor\": 10.201260188228085, \"log2_bayes_factor\": 3.3506754779672043, \"comparison_vector_value\": 1, \"max_comparison_vector_value\": 1, \"bayes_factor_description\": \"If comparison level is `exact match on city` then comparison is 10.2 times more likely to be a match\", \"probability_two_random_records_match\": 0.00298012298012298, \"comparison_sort_order\": 3}, {\"comparison_name\": \"city\", \"sql_condition\": \"ELSE\", \"label_for_charts\": \"All other comparisons\", \"m_probability\": 0.43742527764250916, \"u_probability\": 0.9448524288198547, \"m_probability_description\": \"Amongst matching record comparisons, 43.74% of records (i.e. one in 2.286) are in the all other comparisons comparison level\", \"u_probability_description\": \"Amongst non-matching record comparisons, 94.49% of records (i.e. one in 1.058) are in the all other comparisons comparison level\", \"has_tf_adjustments\": false, \"tf_adjustment_column\": null, \"tf_adjustment_weight\": 1.0, \"is_null_level\": false, \"bayes_factor\": 0.4629561869136165, \"log2_bayes_factor\": -1.1110524282124967, \"comparison_vector_value\": 0, \"max_comparison_vector_value\": 1, \"bayes_factor_description\": \"If comparison level is `all other comparisons` then comparison is 2.16 times less likely to be a match\", \"probability_two_random_records_match\": 0.00298012298012298, \"comparison_sort_order\": 3}, {\"comparison_name\": \"email\", \"sql_condition\": \"\\\"email_l\\\" = \\\"email_r\\\"\", \"label_for_charts\": \"Exact match on email\", \"m_probability\": 0.5529665836585225, \"u_probability\": 0.0021938713143283602, \"m_probability_description\": \"Amongst matching record comparisons, 55.3% of records (i.e. one in 1.808) are in the exact match on email comparison level\", \"u_probability_description\": \"Amongst non-matching record comparisons, 0.2194% of records (i.e. one in 456) are in the exact match on email comparison level\", \"has_tf_adjustments\": true, \"tf_adjustment_column\": \"email\", \"tf_adjustment_weight\": 1.0, \"is_null_level\": false, \"bayes_factor\": 252.0506011665546, \"log2_bayes_factor\": 7.977569585101858, \"comparison_vector_value\": 4, \"max_comparison_vector_value\": 4, \"bayes_factor_description\": \"If comparison level is `exact match on email` then comparison is 252 times more likely to be a match\", \"probability_two_random_records_match\": 0.00298012298012298, \"comparison_sort_order\": 4}, {\"comparison_name\": \"email\", \"sql_condition\": \"NULLIF(regexp_extract(\\\"email_l\\\", '^[^@]+', 0), '') = NULLIF(regexp_extract(\\\"email_r\\\", '^[^@]+', 0), '')\", \"label_for_charts\": \"Exact match on username\", \"m_probability\": 0.22087412626737135, \"u_probability\": 0.0010390328952024346, \"m_probability_description\": \"Amongst matching record comparisons, 22.09% of records (i.e. one in 4.527) are in the exact match on username comparison level\", \"u_probability_description\": \"Amongst non-matching record comparisons, 0.1039% of records (i.e. one in 962) are in the exact match on username comparison level\", \"has_tf_adjustments\": false, \"tf_adjustment_column\": null, \"tf_adjustment_weight\": 1.0, \"is_null_level\": false, \"bayes_factor\": 212.57664438462123, \"log2_bayes_factor\": 7.731839287671784, \"comparison_vector_value\": 3, \"max_comparison_vector_value\": 4, \"bayes_factor_description\": \"If comparison level is `exact match on username` then comparison is 213 times more likely to be a match\", \"probability_two_random_records_match\": 0.00298012298012298, \"comparison_sort_order\": 4}, {\"comparison_name\": \"email\", \"sql_condition\": \"jaro_winkler_similarity(\\\"email_l\\\", \\\"email_r\\\") >= 0.88\", \"label_for_charts\": \"Jaro-Winkler distance of email >= 0.88\", \"m_probability\": 0.21412999464826887, \"u_probability\": 0.0009135769109519858, \"m_probability_description\": \"Amongst matching record comparisons, 21.41% of records (i.e. one in 4.67) are in the jaro-winkler distance of email >= 0.88 comparison level\", \"u_probability_description\": \"Amongst non-matching record comparisons, 0.09136% of records (i.e. one in 1,095) are in the jaro-winkler distance of email >= 0.88 comparison level\", \"has_tf_adjustments\": false, \"tf_adjustment_column\": null, \"tf_adjustment_weight\": 1.0, \"is_null_level\": false, \"bayes_factor\": 234.38639055045334, \"log2_bayes_factor\": 7.872744993087005, \"comparison_vector_value\": 2, \"max_comparison_vector_value\": 4, \"bayes_factor_description\": \"If comparison level is `jaro-winkler distance of email >= 0.88` then comparison is 234 times more likely to be a match\", \"probability_two_random_records_match\": 0.00298012298012298, \"comparison_sort_order\": 4}, {\"comparison_name\": \"email\", \"sql_condition\": \"jaro_winkler_similarity(NULLIF(regexp_extract(\\\"email_l\\\", '^[^@]+', 0), ''), NULLIF(regexp_extract(\\\"email_r\\\", '^[^@]+', 0), '')) >= 0.88\", \"label_for_charts\": \"Jaro-Winkler >0.88 on username\", \"m_probability\": 0.012500000000000011, \"u_probability\": 0.000501823937001795, \"m_probability_description\": \"Amongst matching record comparisons, 1.25% of records (i.e. one in 80) are in the jaro-winkler >0.88 on username comparison level\", \"u_probability_description\": \"Amongst non-matching record comparisons, 0.05018% of records (i.e. one in 1,993) are in the jaro-winkler >0.88 on username comparison level\", \"has_tf_adjustments\": false, \"tf_adjustment_column\": null, \"tf_adjustment_weight\": 1.0, \"is_null_level\": false, \"bayes_factor\": 24.909134615384634, \"log2_bayes_factor\": 4.638602995720225, \"comparison_vector_value\": 1, \"max_comparison_vector_value\": 4, \"bayes_factor_description\": \"If comparison level is `jaro-winkler >0.88 on username` then comparison is 24.91 times more likely to be a match\", \"probability_two_random_records_match\": 0.00298012298012298, \"comparison_sort_order\": 4}, {\"comparison_name\": \"email\", \"sql_condition\": \"ELSE\", \"label_for_charts\": \"All other comparisons\", \"m_probability\": 0.012029295425837184, \"u_probability\": 0.9953516949425154, \"m_probability_description\": \"Amongst matching record comparisons, 1.203% of records (i.e. one in 83.13) are in the all other comparisons comparison level\", \"u_probability_description\": \"Amongst non-matching record comparisons, 99.54% of records (i.e. one in 1.005) are in the all other comparisons comparison level\", \"has_tf_adjustments\": false, \"tf_adjustment_column\": null, \"tf_adjustment_weight\": 1.0, \"is_null_level\": false, \"bayes_factor\": 0.012085472388261631, \"log2_bayes_factor\": -6.370582324541893, \"comparison_vector_value\": 0, \"max_comparison_vector_value\": 4, \"bayes_factor_description\": \"If comparison level is `all other comparisons` then comparison is 82.74 times less likely to be a match\", \"probability_two_random_records_match\": 0.00298012298012298, \"comparison_sort_order\": 4}]}}, {\"mode\": \"vega-lite\"});\n",
       "</script>"
      ],
      "text/plain": [
       "alt.VConcatChart(...)"
      ]
     },
     "execution_count": 16,
     "metadata": {},
     "output_type": "execute_result"
    }
   ],
   "source": [
    "linker.visualisations.match_weights_chart()"
   ]
  },
  {
   "cell_type": "markdown",
   "id": "c950234b-3eea-4216-8fe0-b34b635b0c73",
   "metadata": {},
   "source": [
    "## m and u Parameters"
   ]
  },
  {
   "cell_type": "code",
   "execution_count": 17,
   "id": "27a1c85e-4897-46b6-9397-0fc9a1df6ec9",
   "metadata": {},
   "outputs": [
    {
     "data": {
      "text/html": [
       "\n",
       "<style>\n",
       "  #altair-viz-2dbc94fd97e74c7082ae539737a47dd4.vega-embed {\n",
       "    width: 100%;\n",
       "    display: flex;\n",
       "  }\n",
       "\n",
       "  #altair-viz-2dbc94fd97e74c7082ae539737a47dd4.vega-embed details,\n",
       "  #altair-viz-2dbc94fd97e74c7082ae539737a47dd4.vega-embed details summary {\n",
       "    position: relative;\n",
       "  }\n",
       "</style>\n",
       "<div id=\"altair-viz-2dbc94fd97e74c7082ae539737a47dd4\"></div>\n",
       "<script type=\"text/javascript\">\n",
       "  var VEGA_DEBUG = (typeof VEGA_DEBUG == \"undefined\") ? {} : VEGA_DEBUG;\n",
       "  (function(spec, embedOpt){\n",
       "    let outputDiv = document.currentScript.previousElementSibling;\n",
       "    if (outputDiv.id !== \"altair-viz-2dbc94fd97e74c7082ae539737a47dd4\") {\n",
       "      outputDiv = document.getElementById(\"altair-viz-2dbc94fd97e74c7082ae539737a47dd4\");\n",
       "    }\n",
       "\n",
       "    const paths = {\n",
       "      \"vega\": \"https://cdn.jsdelivr.net/npm/vega@5?noext\",\n",
       "      \"vega-lib\": \"https://cdn.jsdelivr.net/npm/vega-lib?noext\",\n",
       "      \"vega-lite\": \"https://cdn.jsdelivr.net/npm/vega-lite@5.20.1?noext\",\n",
       "      \"vega-embed\": \"https://cdn.jsdelivr.net/npm/vega-embed@6?noext\",\n",
       "    };\n",
       "\n",
       "    function maybeLoadScript(lib, version) {\n",
       "      var key = `${lib.replace(\"-\", \"\")}_version`;\n",
       "      return (VEGA_DEBUG[key] == version) ?\n",
       "        Promise.resolve(paths[lib]) :\n",
       "        new Promise(function(resolve, reject) {\n",
       "          var s = document.createElement('script');\n",
       "          document.getElementsByTagName(\"head\")[0].appendChild(s);\n",
       "          s.async = true;\n",
       "          s.onload = () => {\n",
       "            VEGA_DEBUG[key] = version;\n",
       "            return resolve(paths[lib]);\n",
       "          };\n",
       "          s.onerror = () => reject(`Error loading script: ${paths[lib]}`);\n",
       "          s.src = paths[lib];\n",
       "        });\n",
       "    }\n",
       "\n",
       "    function showError(err) {\n",
       "      outputDiv.innerHTML = `<div class=\"error\" style=\"color:red;\">${err}</div>`;\n",
       "      throw err;\n",
       "    }\n",
       "\n",
       "    function displayChart(vegaEmbed) {\n",
       "      vegaEmbed(outputDiv, spec, embedOpt)\n",
       "        .catch(err => showError(`Javascript Error: ${err.message}<br>This usually means there's a typo in your chart specification. See the javascript console for the full traceback.`));\n",
       "    }\n",
       "\n",
       "    if(typeof define === \"function\" && define.amd) {\n",
       "      requirejs.config({paths});\n",
       "      let deps = [\"vega-embed\"];\n",
       "      require(deps, displayChart, err => showError(`Error loading script: ${err.message}`));\n",
       "    } else {\n",
       "      maybeLoadScript(\"vega\", \"5\")\n",
       "        .then(() => maybeLoadScript(\"vega-lite\", \"5.20.1\"))\n",
       "        .then(() => maybeLoadScript(\"vega-embed\", \"6\"))\n",
       "        .catch(showError)\n",
       "        .then(() => displayChart(vegaEmbed));\n",
       "    }\n",
       "  })({\"config\": {\"view\": {\"continuousWidth\": 300, \"continuousHeight\": 300, \"discreteHeight\": 300, \"discreteWidth\": 400}, \"header\": {\"title\": null}, \"title\": {\"anchor\": \"middle\", \"offset\": 10}}, \"hconcat\": [{\"mark\": \"bar\", \"encoding\": {\"color\": {\"value\": \"green\"}, \"row\": {\"field\": \"comparison_name\", \"header\": {\"labelAlign\": \"left\", \"labelAnchor\": \"middle\", \"labelAngle\": 0}, \"sort\": {\"field\": \"comparison_sort_order\"}, \"type\": \"nominal\"}, \"tooltip\": [{\"field\": \"comparison_name\", \"title\": \"Comparison name\", \"type\": \"nominal\"}, {\"field\": \"label_for_charts\", \"title\": \"Label\", \"type\": \"ordinal\"}, {\"field\": \"sql_condition\", \"title\": \"SQL condition\", \"type\": \"nominal\"}, {\"field\": \"m_probability\", \"format\": \".10~g\", \"title\": \"M probability\", \"type\": \"quantitative\"}, {\"field\": \"u_probability\", \"format\": \".10~g\", \"title\": \"U probability\", \"type\": \"quantitative\"}, {\"field\": \"bayes_factor\", \"format\": \",.6f\", \"title\": \"Bayes factor = m/u\", \"type\": \"quantitative\"}, {\"field\": \"log2_bayes_factor\", \"format\": \".4~g\", \"title\": \"Match weight = log2(m/u)\", \"type\": \"quantitative\"}, {\"field\": \"bayes_factor_description\", \"title\": \"Match weight description\", \"type\": \"nominal\"}, {\"field\": \"m_probability_description\", \"title\": \"m probability description\", \"type\": \"nominal\"}, {\"field\": \"u_probability_description\", \"title\": \"u probability description\", \"type\": \"nominal\"}], \"x\": {\"axis\": {\"title\": \"Proportion of record comparisons\"}, \"field\": \"m_probability\", \"type\": \"quantitative\"}, \"y\": {\"axis\": {\"title\": null}, \"field\": \"label_for_charts\", \"sort\": {\"field\": \"comparison_vector_value\", \"order\": \"descending\"}, \"type\": \"nominal\"}}, \"height\": {\"step\": 12}, \"resolve\": {\"scale\": {\"y\": \"independent\"}}, \"title\": {\"text\": \"Amongst matching record comparisons:\", \"fontSize\": 12, \"fontWeight\": \"bold\"}, \"transform\": [{\"filter\": \"(datum.bayes_factor != 'no-op filter due to vega lite issue 4680')\"}], \"width\": 150}, {\"mark\": \"bar\", \"encoding\": {\"color\": {\"value\": \"red\"}, \"row\": {\"field\": \"comparison_name\", \"header\": {\"labels\": false}, \"sort\": {\"field\": \"comparison_sort_order\"}, \"type\": \"nominal\"}, \"tooltip\": [{\"field\": \"comparison_name\", \"title\": \"Comparison name\", \"type\": \"nominal\"}, {\"field\": \"label_for_charts\", \"title\": \"Label\", \"type\": \"ordinal\"}, {\"field\": \"sql_condition\", \"title\": \"SQL condition\", \"type\": \"nominal\"}, {\"field\": \"m_probability\", \"format\": \".10~g\", \"title\": \"M probability\", \"type\": \"quantitative\"}, {\"field\": \"u_probability\", \"format\": \".10~g\", \"title\": \"U probability\", \"type\": \"quantitative\"}, {\"field\": \"bayes_factor\", \"format\": \",.6f\", \"title\": \"Bayes factor = m/u\", \"type\": \"quantitative\"}, {\"field\": \"log2_bayes_factor\", \"format\": \".4~g\", \"title\": \"Match weight = log2(m/u)\", \"type\": \"quantitative\"}, {\"field\": \"bayes_factor_description\", \"title\": \"Match weight description\", \"type\": \"nominal\"}, {\"field\": \"m_probability_description\", \"title\": \"m probability description\", \"type\": \"nominal\"}, {\"field\": \"u_probability_description\", \"title\": \"u probability description\", \"type\": \"nominal\"}], \"x\": {\"axis\": {\"title\": \"Proportion of record comparisons\"}, \"field\": \"u_probability\", \"type\": \"quantitative\"}, \"y\": {\"axis\": {\"title\": null}, \"field\": \"label_for_charts\", \"sort\": {\"field\": \"comparison_vector_value\", \"order\": \"descending\"}, \"type\": \"nominal\"}}, \"height\": {\"step\": 12}, \"resolve\": {\"scale\": {\"y\": \"independent\"}}, \"title\": {\"text\": \"Amongst non-matching record comparisons:\", \"fontSize\": 12, \"fontWeight\": \"bold\"}, \"transform\": [{\"filter\": \"(datum.bayes_factor != 'no-op filter2 due to vega lite issue 4680')\"}], \"width\": 150}], \"data\": {\"name\": \"data-a94a991d6f02ce72f8d75f534b62d379\"}, \"title\": {\"text\": \"Proportion of record comparisons in each comparison level by match status\", \"subtitle\": \"(m and u probabilities)\"}, \"$schema\": \"https://vega.github.io/schema/vega-lite/v5.9.3.json\", \"datasets\": {\"data-a94a991d6f02ce72f8d75f534b62d379\": [{\"comparison_name\": \"first_name\", \"sql_condition\": \"\\\"first_name_l\\\" = \\\"first_name_r\\\"\", \"label_for_charts\": \"Exact match on first_name\", \"m_probability\": 0.49142094931763725, \"u_probability\": 0.0057935713975033705, \"m_probability_description\": \"Amongst matching record comparisons, 49.14% of records (i.e. one in 2.035) are in the exact match on first_name comparison level\", \"u_probability_description\": \"Amongst non-matching record comparisons, 0.5794% of records (i.e. one in 173) are in the exact match on first_name comparison level\", \"has_tf_adjustments\": true, \"tf_adjustment_column\": \"first_name\", \"tf_adjustment_weight\": 1.0, \"is_null_level\": false, \"bayes_factor\": 84.82176460782131, \"log2_bayes_factor\": 6.40636259155045, \"comparison_vector_value\": 4, \"max_comparison_vector_value\": 4, \"bayes_factor_description\": \"If comparison level is `exact match on first_name` then comparison is 84.82 times more likely to be a match\", \"probability_two_random_records_match\": 0.00298012298012298, \"comparison_sort_order\": 0}, {\"comparison_name\": \"first_name\", \"sql_condition\": \"jaro_winkler_similarity(\\\"first_name_l\\\", \\\"first_name_r\\\") >= 0.92\", \"label_for_charts\": \"Jaro-Winkler distance of first_name >= 0.92\", \"m_probability\": 0.15176057384758346, \"u_probability\": 0.0023429457903817435, \"m_probability_description\": \"Amongst matching record comparisons, 15.18% of records (i.e. one in 6.589) are in the jaro-winkler distance of first_name >= 0.92 comparison level\", \"u_probability_description\": \"Amongst non-matching record comparisons, 0.2343% of records (i.e. one in 427) are in the jaro-winkler distance of first_name >= 0.92 comparison level\", \"has_tf_adjustments\": false, \"tf_adjustment_column\": null, \"tf_adjustment_weight\": 1.0, \"is_null_level\": false, \"bayes_factor\": 64.77340383656791, \"log2_bayes_factor\": 6.017329654456136, \"comparison_vector_value\": 3, \"max_comparison_vector_value\": 4, \"bayes_factor_description\": \"If comparison level is `jaro-winkler distance of first_name >= 0.92` then comparison is 64.77 times more likely to be a match\", \"probability_two_random_records_match\": 0.00298012298012298, \"comparison_sort_order\": 0}, {\"comparison_name\": \"first_name\", \"sql_condition\": \"jaro_winkler_similarity(\\\"first_name_l\\\", \\\"first_name_r\\\") >= 0.88\", \"label_for_charts\": \"Jaro-Winkler distance of first_name >= 0.88\", \"m_probability\": 0.07406496776118929, \"u_probability\": 0.0015484319951285285, \"m_probability_description\": \"Amongst matching record comparisons, 7.406% of records (i.e. one in 13.5) are in the jaro-winkler distance of first_name >= 0.88 comparison level\", \"u_probability_description\": \"Amongst non-matching record comparisons, 0.1548% of records (i.e. one in 646) are in the jaro-winkler distance of first_name >= 0.88 comparison level\", \"has_tf_adjustments\": false, \"tf_adjustment_column\": null, \"tf_adjustment_weight\": 1.0, \"is_null_level\": false, \"bayes_factor\": 47.832238028019745, \"log2_bayes_factor\": 5.579911390213005, \"comparison_vector_value\": 2, \"max_comparison_vector_value\": 4, \"bayes_factor_description\": \"If comparison level is `jaro-winkler distance of first_name >= 0.88` then comparison is 47.83 times more likely to be a match\", \"probability_two_random_records_match\": 0.00298012298012298, \"comparison_sort_order\": 0}, {\"comparison_name\": \"first_name\", \"sql_condition\": \"jaro_winkler_similarity(\\\"first_name_l\\\", \\\"first_name_r\\\") >= 0.7\", \"label_for_charts\": \"Jaro-Winkler distance of first_name >= 0.7\", \"m_probability\": 0.07908610771504862, \"u_probability\": 0.018934945558406913, \"m_probability_description\": \"Amongst matching record comparisons, 7.909% of records (i.e. one in 12.64) are in the jaro-winkler distance of first_name >= 0.7 comparison level\", \"u_probability_description\": \"Amongst non-matching record comparisons, 1.893% of records (i.e. one in 52.81) are in the jaro-winkler distance of first_name >= 0.7 comparison level\", \"has_tf_adjustments\": false, \"tf_adjustment_column\": null, \"tf_adjustment_weight\": 1.0, \"is_null_level\": false, \"bayes_factor\": 4.176727494203712, \"log2_bayes_factor\": 2.0623730195874392, \"comparison_vector_value\": 1, \"max_comparison_vector_value\": 4, \"bayes_factor_description\": \"If comparison level is `jaro-winkler distance of first_name >= 0.7` then comparison is 4.177 times more likely to be a match\", \"probability_two_random_records_match\": 0.00298012298012298, \"comparison_sort_order\": 0}, {\"comparison_name\": \"first_name\", \"sql_condition\": \"ELSE\", \"label_for_charts\": \"All other comparisons\", \"m_probability\": 0.20366740135854144, \"u_probability\": 0.9713801052585794, \"m_probability_description\": \"Amongst matching record comparisons, 20.37% of records (i.e. one in 4.91) are in the all other comparisons comparison level\", \"u_probability_description\": \"Amongst non-matching record comparisons, 97.14% of records (i.e. one in 1.029) are in the all other comparisons comparison level\", \"has_tf_adjustments\": false, \"tf_adjustment_column\": null, \"tf_adjustment_weight\": 1.0, \"is_null_level\": false, \"bayes_factor\": 0.20966807973108076, \"log2_bayes_factor\": -2.2538208553839874, \"comparison_vector_value\": 0, \"max_comparison_vector_value\": 4, \"bayes_factor_description\": \"If comparison level is `all other comparisons` then comparison is 4.769 times less likely to be a match\", \"probability_two_random_records_match\": 0.00298012298012298, \"comparison_sort_order\": 0}, {\"comparison_name\": \"surname\", \"sql_condition\": \"\\\"surname_l\\\" = \\\"surname_r\\\"\", \"label_for_charts\": \"Exact match on surname\", \"m_probability\": 0.43457460622893707, \"u_probability\": 0.004889975550122249, \"m_probability_description\": \"Amongst matching record comparisons, 43.46% of records (i.e. one in 2.301) are in the exact match on surname comparison level\", \"u_probability_description\": \"Amongst non-matching record comparisons, 0.489% of records (i.e. one in 204) are in the exact match on surname comparison level\", \"has_tf_adjustments\": true, \"tf_adjustment_column\": \"surname\", \"tf_adjustment_weight\": 1.0, \"is_null_level\": false, \"bayes_factor\": 88.87050697381763, \"log2_bayes_factor\": 6.473632813130571, \"comparison_vector_value\": 4, \"max_comparison_vector_value\": 4, \"bayes_factor_description\": \"If comparison level is `exact match on surname` then comparison is 88.87 times more likely to be a match\", \"probability_two_random_records_match\": 0.00298012298012298, \"comparison_sort_order\": 1}, {\"comparison_name\": \"surname\", \"sql_condition\": \"jaro_winkler_similarity(\\\"surname_l\\\", \\\"surname_r\\\") >= 0.92\", \"label_for_charts\": \"Jaro-Winkler distance of surname >= 0.92\", \"m_probability\": 0.22529103510053097, \"u_probability\": 0.00283905173880724, \"m_probability_description\": \"Amongst matching record comparisons, 22.53% of records (i.e. one in 4.439) are in the jaro-winkler distance of surname >= 0.92 comparison level\", \"u_probability_description\": \"Amongst non-matching record comparisons, 0.2839% of records (i.e. one in 352) are in the jaro-winkler distance of surname >= 0.92 comparison level\", \"has_tf_adjustments\": false, \"tf_adjustment_column\": null, \"tf_adjustment_weight\": 1.0, \"is_null_level\": false, \"bayes_factor\": 79.35432525621447, \"log2_bayes_factor\": 6.31023695506981, \"comparison_vector_value\": 3, \"max_comparison_vector_value\": 4, \"bayes_factor_description\": \"If comparison level is `jaro-winkler distance of surname >= 0.92` then comparison is 79.35 times more likely to be a match\", \"probability_two_random_records_match\": 0.00298012298012298, \"comparison_sort_order\": 1}, {\"comparison_name\": \"surname\", \"sql_condition\": \"jaro_winkler_similarity(\\\"surname_l\\\", \\\"surname_r\\\") >= 0.88\", \"label_for_charts\": \"Jaro-Winkler distance of surname >= 0.88\", \"m_probability\": 0.04432221456939867, \"u_probability\": 0.0011314412292407403, \"m_probability_description\": \"Amongst matching record comparisons, 4.432% of records (i.e. one in 22.56) are in the jaro-winkler distance of surname >= 0.88 comparison level\", \"u_probability_description\": \"Amongst non-matching record comparisons, 0.1131% of records (i.e. one in 884) are in the jaro-winkler distance of surname >= 0.88 comparison level\", \"has_tf_adjustments\": false, \"tf_adjustment_column\": null, \"tf_adjustment_weight\": 1.0, \"is_null_level\": false, \"bayes_factor\": 39.173236244132035, \"log2_bayes_factor\": 5.291796414406481, \"comparison_vector_value\": 2, \"max_comparison_vector_value\": 4, \"bayes_factor_description\": \"If comparison level is `jaro-winkler distance of surname >= 0.88` then comparison is 39.17 times more likely to be a match\", \"probability_two_random_records_match\": 0.00298012298012298, \"comparison_sort_order\": 1}, {\"comparison_name\": \"surname\", \"sql_condition\": \"jaro_winkler_similarity(\\\"surname_l\\\", \\\"surname_r\\\") >= 0.7\", \"label_for_charts\": \"Jaro-Winkler distance of surname >= 0.7\", \"m_probability\": 0.07784087870954862, \"u_probability\": 0.014729633311540402, \"m_probability_description\": \"Amongst matching record comparisons, 7.784% of records (i.e. one in 12.85) are in the jaro-winkler distance of surname >= 0.7 comparison level\", \"u_probability_description\": \"Amongst non-matching record comparisons, 1.473% of records (i.e. one in 67.89) are in the jaro-winkler distance of surname >= 0.7 comparison level\", \"has_tf_adjustments\": false, \"tf_adjustment_column\": null, \"tf_adjustment_weight\": 1.0, \"is_null_level\": false, \"bayes_factor\": 5.284644706569965, \"log2_bayes_factor\": 2.401806480633523, \"comparison_vector_value\": 1, \"max_comparison_vector_value\": 4, \"bayes_factor_description\": \"If comparison level is `jaro-winkler distance of surname >= 0.7` then comparison is 5.285 times more likely to be a match\", \"probability_two_random_records_match\": 0.00298012298012298, \"comparison_sort_order\": 1}, {\"comparison_name\": \"surname\", \"sql_condition\": \"ELSE\", \"label_for_charts\": \"All other comparisons\", \"m_probability\": 0.21797126539158473, \"u_probability\": 0.9764098981702893, \"m_probability_description\": \"Amongst matching record comparisons, 21.8% of records (i.e. one in 4.588) are in the all other comparisons comparison level\", \"u_probability_description\": \"Amongst non-matching record comparisons, 97.64% of records (i.e. one in 1.024) are in the all other comparisons comparison level\", \"has_tf_adjustments\": false, \"tf_adjustment_column\": null, \"tf_adjustment_weight\": 1.0, \"is_null_level\": false, \"bayes_factor\": 0.2232374598004841, \"log2_bayes_factor\": -2.163348959593663, \"comparison_vector_value\": 0, \"max_comparison_vector_value\": 4, \"bayes_factor_description\": \"If comparison level is `all other comparisons` then comparison is 4.48 times less likely to be a match\", \"probability_two_random_records_match\": 0.00298012298012298, \"comparison_sort_order\": 1}, {\"comparison_name\": \"dob\", \"sql_condition\": \"\\\"dob_l\\\" = \\\"dob_r\\\"\", \"label_for_charts\": \"Exact match on dob\", \"m_probability\": 0.391421665288299, \"u_probability\": 0.0017477477477477479, \"m_probability_description\": \"Amongst matching record comparisons, 39.14% of records (i.e. one in 2.555) are in the exact match on dob comparison level\", \"u_probability_description\": \"Amongst non-matching record comparisons, 0.1748% of records (i.e. one in 572) are in the exact match on dob comparison level\", \"has_tf_adjustments\": false, \"tf_adjustment_column\": null, \"tf_adjustment_weight\": 1.0, \"is_null_level\": false, \"bayes_factor\": 223.9577569433051, \"log2_bayes_factor\": 7.807082825648325, \"comparison_vector_value\": 2, \"max_comparison_vector_value\": 2, \"bayes_factor_description\": \"If comparison level is `exact match on dob` then comparison is 224 times more likely to be a match\", \"probability_two_random_records_match\": 0.00298012298012298, \"comparison_sort_order\": 2}, {\"comparison_name\": \"dob\", \"sql_condition\": \"levenshtein(\\\"dob_l\\\", \\\"dob_r\\\") <= 1\", \"label_for_charts\": \"Levenshtein distance of dob <= 1\", \"m_probability\": 0.14937817941895062, \"u_probability\": 0.0016016016016016017, \"m_probability_description\": \"Amongst matching record comparisons, 14.94% of records (i.e. one in 6.694) are in the levenshtein distance of dob <= 1 comparison level\", \"u_probability_description\": \"Amongst non-matching record comparisons, 0.1602% of records (i.e. one in 624) are in the levenshtein distance of dob <= 1 comparison level\", \"has_tf_adjustments\": false, \"tf_adjustment_column\": null, \"tf_adjustment_weight\": 1.0, \"is_null_level\": false, \"bayes_factor\": 93.26800077470729, \"log2_bayes_factor\": 6.543310288053253, \"comparison_vector_value\": 1, \"max_comparison_vector_value\": 2, \"bayes_factor_description\": \"If comparison level is `levenshtein distance of dob <= 1` then comparison is 93.27 times more likely to be a match\", \"probability_two_random_records_match\": 0.00298012298012298, \"comparison_sort_order\": 2}, {\"comparison_name\": \"dob\", \"sql_condition\": \"ELSE\", \"label_for_charts\": \"All other comparisons\", \"m_probability\": 0.45920015529275027, \"u_probability\": 0.9966506506506506, \"m_probability_description\": \"Amongst matching record comparisons, 45.92% of records (i.e. one in 2.178) are in the all other comparisons comparison level\", \"u_probability_description\": \"Amongst non-matching record comparisons, 99.67% of records (i.e. one in 1.003) are in the all other comparisons comparison level\", \"has_tf_adjustments\": false, \"tf_adjustment_column\": null, \"tf_adjustment_weight\": 1.0, \"is_null_level\": false, \"bayes_factor\": 0.4607433457179477, \"log2_bayes_factor\": -1.1179647649923978, \"comparison_vector_value\": 0, \"max_comparison_vector_value\": 2, \"bayes_factor_description\": \"If comparison level is `all other comparisons` then comparison is 2.17 times less likely to be a match\", \"probability_two_random_records_match\": 0.00298012298012298, \"comparison_sort_order\": 2}, {\"comparison_name\": \"city\", \"sql_condition\": \"\\\"city_l\\\" = \\\"city_r\\\"\", \"label_for_charts\": \"Exact match on city\", \"m_probability\": 0.5625747223574907, \"u_probability\": 0.0551475711801453, \"m_probability_description\": \"Amongst matching record comparisons, 56.26% of records (i.e. one in 1.778) are in the exact match on city comparison level\", \"u_probability_description\": \"Amongst non-matching record comparisons, 5.515% of records (i.e. one in 18.13) are in the exact match on city comparison level\", \"has_tf_adjustments\": true, \"tf_adjustment_column\": \"city\", \"tf_adjustment_weight\": 1.0, \"is_null_level\": false, \"bayes_factor\": 10.201260188228085, \"log2_bayes_factor\": 3.3506754779672043, \"comparison_vector_value\": 1, \"max_comparison_vector_value\": 1, \"bayes_factor_description\": \"If comparison level is `exact match on city` then comparison is 10.2 times more likely to be a match\", \"probability_two_random_records_match\": 0.00298012298012298, \"comparison_sort_order\": 3}, {\"comparison_name\": \"city\", \"sql_condition\": \"ELSE\", \"label_for_charts\": \"All other comparisons\", \"m_probability\": 0.43742527764250916, \"u_probability\": 0.9448524288198547, \"m_probability_description\": \"Amongst matching record comparisons, 43.74% of records (i.e. one in 2.286) are in the all other comparisons comparison level\", \"u_probability_description\": \"Amongst non-matching record comparisons, 94.49% of records (i.e. one in 1.058) are in the all other comparisons comparison level\", \"has_tf_adjustments\": false, \"tf_adjustment_column\": null, \"tf_adjustment_weight\": 1.0, \"is_null_level\": false, \"bayes_factor\": 0.4629561869136165, \"log2_bayes_factor\": -1.1110524282124967, \"comparison_vector_value\": 0, \"max_comparison_vector_value\": 1, \"bayes_factor_description\": \"If comparison level is `all other comparisons` then comparison is 2.16 times less likely to be a match\", \"probability_two_random_records_match\": 0.00298012298012298, \"comparison_sort_order\": 3}, {\"comparison_name\": \"email\", \"sql_condition\": \"\\\"email_l\\\" = \\\"email_r\\\"\", \"label_for_charts\": \"Exact match on email\", \"m_probability\": 0.5529665836585225, \"u_probability\": 0.0021938713143283602, \"m_probability_description\": \"Amongst matching record comparisons, 55.3% of records (i.e. one in 1.808) are in the exact match on email comparison level\", \"u_probability_description\": \"Amongst non-matching record comparisons, 0.2194% of records (i.e. one in 456) are in the exact match on email comparison level\", \"has_tf_adjustments\": true, \"tf_adjustment_column\": \"email\", \"tf_adjustment_weight\": 1.0, \"is_null_level\": false, \"bayes_factor\": 252.0506011665546, \"log2_bayes_factor\": 7.977569585101858, \"comparison_vector_value\": 4, \"max_comparison_vector_value\": 4, \"bayes_factor_description\": \"If comparison level is `exact match on email` then comparison is 252 times more likely to be a match\", \"probability_two_random_records_match\": 0.00298012298012298, \"comparison_sort_order\": 4}, {\"comparison_name\": \"email\", \"sql_condition\": \"NULLIF(regexp_extract(\\\"email_l\\\", '^[^@]+', 0), '') = NULLIF(regexp_extract(\\\"email_r\\\", '^[^@]+', 0), '')\", \"label_for_charts\": \"Exact match on username\", \"m_probability\": 0.22087412626737135, \"u_probability\": 0.0010390328952024346, \"m_probability_description\": \"Amongst matching record comparisons, 22.09% of records (i.e. one in 4.527) are in the exact match on username comparison level\", \"u_probability_description\": \"Amongst non-matching record comparisons, 0.1039% of records (i.e. one in 962) are in the exact match on username comparison level\", \"has_tf_adjustments\": false, \"tf_adjustment_column\": null, \"tf_adjustment_weight\": 1.0, \"is_null_level\": false, \"bayes_factor\": 212.57664438462123, \"log2_bayes_factor\": 7.731839287671784, \"comparison_vector_value\": 3, \"max_comparison_vector_value\": 4, \"bayes_factor_description\": \"If comparison level is `exact match on username` then comparison is 213 times more likely to be a match\", \"probability_two_random_records_match\": 0.00298012298012298, \"comparison_sort_order\": 4}, {\"comparison_name\": \"email\", \"sql_condition\": \"jaro_winkler_similarity(\\\"email_l\\\", \\\"email_r\\\") >= 0.88\", \"label_for_charts\": \"Jaro-Winkler distance of email >= 0.88\", \"m_probability\": 0.21412999464826887, \"u_probability\": 0.0009135769109519858, \"m_probability_description\": \"Amongst matching record comparisons, 21.41% of records (i.e. one in 4.67) are in the jaro-winkler distance of email >= 0.88 comparison level\", \"u_probability_description\": \"Amongst non-matching record comparisons, 0.09136% of records (i.e. one in 1,095) are in the jaro-winkler distance of email >= 0.88 comparison level\", \"has_tf_adjustments\": false, \"tf_adjustment_column\": null, \"tf_adjustment_weight\": 1.0, \"is_null_level\": false, \"bayes_factor\": 234.38639055045334, \"log2_bayes_factor\": 7.872744993087005, \"comparison_vector_value\": 2, \"max_comparison_vector_value\": 4, \"bayes_factor_description\": \"If comparison level is `jaro-winkler distance of email >= 0.88` then comparison is 234 times more likely to be a match\", \"probability_two_random_records_match\": 0.00298012298012298, \"comparison_sort_order\": 4}, {\"comparison_name\": \"email\", \"sql_condition\": \"jaro_winkler_similarity(NULLIF(regexp_extract(\\\"email_l\\\", '^[^@]+', 0), ''), NULLIF(regexp_extract(\\\"email_r\\\", '^[^@]+', 0), '')) >= 0.88\", \"label_for_charts\": \"Jaro-Winkler >0.88 on username\", \"m_probability\": 0.012500000000000011, \"u_probability\": 0.000501823937001795, \"m_probability_description\": \"Amongst matching record comparisons, 1.25% of records (i.e. one in 80) are in the jaro-winkler >0.88 on username comparison level\", \"u_probability_description\": \"Amongst non-matching record comparisons, 0.05018% of records (i.e. one in 1,993) are in the jaro-winkler >0.88 on username comparison level\", \"has_tf_adjustments\": false, \"tf_adjustment_column\": null, \"tf_adjustment_weight\": 1.0, \"is_null_level\": false, \"bayes_factor\": 24.909134615384634, \"log2_bayes_factor\": 4.638602995720225, \"comparison_vector_value\": 1, \"max_comparison_vector_value\": 4, \"bayes_factor_description\": \"If comparison level is `jaro-winkler >0.88 on username` then comparison is 24.91 times more likely to be a match\", \"probability_two_random_records_match\": 0.00298012298012298, \"comparison_sort_order\": 4}, {\"comparison_name\": \"email\", \"sql_condition\": \"ELSE\", \"label_for_charts\": \"All other comparisons\", \"m_probability\": 0.012029295425837184, \"u_probability\": 0.9953516949425154, \"m_probability_description\": \"Amongst matching record comparisons, 1.203% of records (i.e. one in 83.13) are in the all other comparisons comparison level\", \"u_probability_description\": \"Amongst non-matching record comparisons, 99.54% of records (i.e. one in 1.005) are in the all other comparisons comparison level\", \"has_tf_adjustments\": false, \"tf_adjustment_column\": null, \"tf_adjustment_weight\": 1.0, \"is_null_level\": false, \"bayes_factor\": 0.012085472388261631, \"log2_bayes_factor\": -6.370582324541893, \"comparison_vector_value\": 0, \"max_comparison_vector_value\": 4, \"bayes_factor_description\": \"If comparison level is `all other comparisons` then comparison is 82.74 times less likely to be a match\", \"probability_two_random_records_match\": 0.00298012298012298, \"comparison_sort_order\": 4}]}}, {\"mode\": \"vega-lite\"});\n",
       "</script>"
      ],
      "text/plain": [
       "alt.HConcatChart(...)"
      ]
     },
     "execution_count": 17,
     "metadata": {},
     "output_type": "execute_result"
    }
   ],
   "source": [
    "linker.visualisations.m_u_parameters_chart()"
   ]
  },
  {
   "cell_type": "markdown",
   "id": "cfa6302a-b772-46e3-8d9c-442c47cfc508",
   "metadata": {},
   "source": [
    "## Compare Passes"
   ]
  },
  {
   "cell_type": "code",
   "execution_count": 18,
   "id": "ec2d552b-3727-4e95-b4fd-d7c355d2bab9",
   "metadata": {},
   "outputs": [
    {
     "data": {
      "text/html": [
       "\n",
       "<style>\n",
       "  #altair-viz-6f6fe0d77e1946b2b3d05586faec1cfb.vega-embed {\n",
       "    width: 100%;\n",
       "    display: flex;\n",
       "  }\n",
       "\n",
       "  #altair-viz-6f6fe0d77e1946b2b3d05586faec1cfb.vega-embed details,\n",
       "  #altair-viz-6f6fe0d77e1946b2b3d05586faec1cfb.vega-embed details summary {\n",
       "    position: relative;\n",
       "  }\n",
       "</style>\n",
       "<div id=\"altair-viz-6f6fe0d77e1946b2b3d05586faec1cfb\"></div>\n",
       "<script type=\"text/javascript\">\n",
       "  var VEGA_DEBUG = (typeof VEGA_DEBUG == \"undefined\") ? {} : VEGA_DEBUG;\n",
       "  (function(spec, embedOpt){\n",
       "    let outputDiv = document.currentScript.previousElementSibling;\n",
       "    if (outputDiv.id !== \"altair-viz-6f6fe0d77e1946b2b3d05586faec1cfb\") {\n",
       "      outputDiv = document.getElementById(\"altair-viz-6f6fe0d77e1946b2b3d05586faec1cfb\");\n",
       "    }\n",
       "\n",
       "    const paths = {\n",
       "      \"vega\": \"https://cdn.jsdelivr.net/npm/vega@5?noext\",\n",
       "      \"vega-lib\": \"https://cdn.jsdelivr.net/npm/vega-lib?noext\",\n",
       "      \"vega-lite\": \"https://cdn.jsdelivr.net/npm/vega-lite@5.20.1?noext\",\n",
       "      \"vega-embed\": \"https://cdn.jsdelivr.net/npm/vega-embed@6?noext\",\n",
       "    };\n",
       "\n",
       "    function maybeLoadScript(lib, version) {\n",
       "      var key = `${lib.replace(\"-\", \"\")}_version`;\n",
       "      return (VEGA_DEBUG[key] == version) ?\n",
       "        Promise.resolve(paths[lib]) :\n",
       "        new Promise(function(resolve, reject) {\n",
       "          var s = document.createElement('script');\n",
       "          document.getElementsByTagName(\"head\")[0].appendChild(s);\n",
       "          s.async = true;\n",
       "          s.onload = () => {\n",
       "            VEGA_DEBUG[key] = version;\n",
       "            return resolve(paths[lib]);\n",
       "          };\n",
       "          s.onerror = () => reject(`Error loading script: ${paths[lib]}`);\n",
       "          s.src = paths[lib];\n",
       "        });\n",
       "    }\n",
       "\n",
       "    function showError(err) {\n",
       "      outputDiv.innerHTML = `<div class=\"error\" style=\"color:red;\">${err}</div>`;\n",
       "      throw err;\n",
       "    }\n",
       "\n",
       "    function displayChart(vegaEmbed) {\n",
       "      vegaEmbed(outputDiv, spec, embedOpt)\n",
       "        .catch(err => showError(`Javascript Error: ${err.message}<br>This usually means there's a typo in your chart specification. See the javascript console for the full traceback.`));\n",
       "    }\n",
       "\n",
       "    if(typeof define === \"function\" && define.amd) {\n",
       "      requirejs.config({paths});\n",
       "      let deps = [\"vega-embed\"];\n",
       "      require(deps, displayChart, err => showError(`Error loading script: ${err.message}`));\n",
       "    } else {\n",
       "      maybeLoadScript(\"vega\", \"5\")\n",
       "        .then(() => maybeLoadScript(\"vega-lite\", \"5.20.1\"))\n",
       "        .then(() => maybeLoadScript(\"vega-embed\", \"6\"))\n",
       "        .catch(showError)\n",
       "        .then(() => displayChart(vegaEmbed));\n",
       "    }\n",
       "  })({\"config\": {\"view\": {\"continuousWidth\": 400, \"continuousHeight\": 300}, \"title\": {\"anchor\": \"middle\", \"fontSize\": 18, \"subtitleFontSize\": 14}}, \"data\": {\"name\": \"data-045d33edeec14841882fb5a36e792f7c\"}, \"mark\": {\"type\": \"point\", \"filled\": false, \"opacity\": 0.7, \"size\": 100}, \"encoding\": {\"color\": {\"field\": \"estimate_description\", \"type\": \"nominal\"}, \"column\": {\"align\": \"each\", \"field\": \"col_header\", \"header\": {\"labelFontSize\": 14, \"labelFontWeight\": \"bold\"}, \"title\": null, \"type\": \"nominal\"}, \"row\": {\"align\": \"each\", \"field\": \"comparison_name\", \"header\": {\"labelAlign\": \"left\", \"labelAnchor\": \"middle\", \"labelAngle\": 0, \"labelFontSize\": 12, \"labelFontWeight\": \"bold\"}, \"sort\": {\"field\": \"comparison_sort_order\"}, \"title\": null, \"type\": \"nominal\"}, \"shape\": {\"field\": \"estimate_description\", \"scale\": {\"range\": [\"circle\", \"square\", \"triangle\", \"diamond\"]}, \"type\": \"nominal\"}, \"tooltip\": [{\"field\": \"comparison_name\", \"type\": \"nominal\"}, {\"field\": \"estimate_description\", \"type\": \"nominal\"}, {\"field\": \"estimated_probability\", \"type\": \"quantitative\"}], \"x\": {\"axis\": {\"gridColor\": {\"condition\": {\"test\": \"abs(datum.value / 10)  <= 1 & datum.value % 10 === 0\", \"value\": \"#aaa\"}, \"value\": \"#ddd\"}, \"gridDash\": {\"condition\": {\"test\": \"abs(datum.value / 10) == 1\", \"value\": [3]}, \"value\": null}, \"gridWidth\": {\"condition\": {\"test\": \"abs(datum.value / 10)  <= 1 & datum.value % 10 === 0\", \"value\": 2}, \"value\": 1}}, \"field\": \"estimated_probability_as_log_odds\", \"title\": \"Estimated probability as log odds\", \"type\": \"quantitative\"}, \"y\": {\"axis\": {\"grid\": true, \"title\": null}, \"field\": \"comparison_level_label\", \"sort\": {\"field\": \"comparison_vector_value\", \"order\": \"descending\"}, \"type\": \"nominal\"}}, \"params\": [{\"name\": \"mouse_zoom\", \"select\": {\"type\": \"interval\", \"encodings\": [\"x\"]}, \"bind\": \"scales\"}], \"resolve\": {\"scale\": {\"y\": \"independent\"}}, \"title\": {\"text\": \"Comparison of parameter estimates across training sessions\", \"subtitle\": \"Use mousewheel to zoom\"}, \"transform\": [{\"calculate\": \"datum.m_or_u + '-probability (as log odds)'\", \"as\": \"col_header\"}], \"$schema\": \"https://vega.github.io/schema/vega-lite/v5.9.3.json\", \"datasets\": {\"data-045d33edeec14841882fb5a36e792f7c\": [{\"m_or_u\": \"m\", \"estimated_probability\": 0.49142094931763725, \"estimate_description\": \"EM, blocked on: l.\\\"dob\\\" = r.\\\"dob\\\"\", \"estimated_probability_as_log_odds\": -0.04951267473254679, \"sql_condition\": \"\\\"first_name_l\\\" = \\\"first_name_r\\\"\", \"comparison_level_label\": \"Exact match on first_name\", \"comparison_vector_value\": 4, \"comparison_name\": \"first_name\", \"comparison_sort_order\": 0}, {\"m_or_u\": \"m\", \"estimated_probability\": 0.15176057384758346, \"estimate_description\": \"EM, blocked on: l.\\\"dob\\\" = r.\\\"dob\\\"\", \"estimated_probability_as_log_odds\": -2.4826745018402243, \"sql_condition\": \"jaro_winkler_similarity(\\\"first_name_l\\\", \\\"first_name_r\\\") >= 0.92\", \"comparison_level_label\": \"Jaro-Winkler distance of first_name >= 0.92\", \"comparison_vector_value\": 3, \"comparison_name\": \"first_name\", \"comparison_sort_order\": 0}, {\"m_or_u\": \"m\", \"estimated_probability\": 0.07406496776118929, \"estimate_description\": \"EM, blocked on: l.\\\"dob\\\" = r.\\\"dob\\\"\", \"estimated_probability_as_log_odds\": -3.644047747288593, \"sql_condition\": \"jaro_winkler_similarity(\\\"first_name_l\\\", \\\"first_name_r\\\") >= 0.88\", \"comparison_level_label\": \"Jaro-Winkler distance of first_name >= 0.88\", \"comparison_vector_value\": 2, \"comparison_name\": \"first_name\", \"comparison_sort_order\": 0}, {\"m_or_u\": \"m\", \"estimated_probability\": 0.07908610771504862, \"estimate_description\": \"EM, blocked on: l.\\\"dob\\\" = r.\\\"dob\\\"\", \"estimated_probability_as_log_odds\": -3.5415700691823813, \"sql_condition\": \"jaro_winkler_similarity(\\\"first_name_l\\\", \\\"first_name_r\\\") >= 0.7\", \"comparison_level_label\": \"Jaro-Winkler distance of first_name >= 0.7\", \"comparison_vector_value\": 1, \"comparison_name\": \"first_name\", \"comparison_sort_order\": 0}, {\"m_or_u\": \"m\", \"estimated_probability\": 0.20366740135854144, \"estimate_description\": \"EM, blocked on: l.\\\"dob\\\" = r.\\\"dob\\\"\", \"estimated_probability_as_log_odds\": -1.9671560333554525, \"sql_condition\": \"ELSE\", \"comparison_level_label\": \"All other comparisons\", \"comparison_vector_value\": 0, \"comparison_name\": \"first_name\", \"comparison_sort_order\": 0}, {\"m_or_u\": \"m\", \"estimated_probability\": 0.43457460622893707, \"estimate_description\": \"EM, blocked on: l.\\\"dob\\\" = r.\\\"dob\\\"\", \"estimated_probability_as_log_odds\": -0.37973280230037393, \"sql_condition\": \"\\\"surname_l\\\" = \\\"surname_r\\\"\", \"comparison_level_label\": \"Exact match on surname\", \"comparison_vector_value\": 4, \"comparison_name\": \"surname\", \"comparison_sort_order\": 1}, {\"m_or_u\": \"m\", \"estimated_probability\": 0.22529103510053097, \"estimate_description\": \"EM, blocked on: l.\\\"dob\\\" = r.\\\"dob\\\"\", \"estimated_probability_as_log_odds\": -1.7818645283407526, \"sql_condition\": \"jaro_winkler_similarity(\\\"surname_l\\\", \\\"surname_r\\\") >= 0.92\", \"comparison_level_label\": \"Jaro-Winkler distance of surname >= 0.92\", \"comparison_vector_value\": 3, \"comparison_name\": \"surname\", \"comparison_sort_order\": 1}, {\"m_or_u\": \"m\", \"estimated_probability\": 0.04432221456939867, \"estimate_description\": \"EM, blocked on: l.\\\"dob\\\" = r.\\\"dob\\\"\", \"estimated_probability_as_log_odds\": -4.430422410891006, \"sql_condition\": \"jaro_winkler_similarity(\\\"surname_l\\\", \\\"surname_r\\\") >= 0.88\", \"comparison_level_label\": \"Jaro-Winkler distance of surname >= 0.88\", \"comparison_vector_value\": 2, \"comparison_name\": \"surname\", \"comparison_sort_order\": 1}, {\"m_or_u\": \"m\", \"estimated_probability\": 0.07784087870954862, \"estimate_description\": \"EM, blocked on: l.\\\"dob\\\" = r.\\\"dob\\\"\", \"estimated_probability_as_log_odds\": -3.5664158122033083, \"sql_condition\": \"jaro_winkler_similarity(\\\"surname_l\\\", \\\"surname_r\\\") >= 0.7\", \"comparison_level_label\": \"Jaro-Winkler distance of surname >= 0.7\", \"comparison_vector_value\": 1, \"comparison_name\": \"surname\", \"comparison_sort_order\": 1}, {\"m_or_u\": \"m\", \"estimated_probability\": 0.21797126539158473, \"estimate_description\": \"EM, blocked on: l.\\\"dob\\\" = r.\\\"dob\\\"\", \"estimated_probability_as_log_odds\": -1.8430836577748566, \"sql_condition\": \"ELSE\", \"comparison_level_label\": \"All other comparisons\", \"comparison_vector_value\": 0, \"comparison_name\": \"surname\", \"comparison_sort_order\": 1}, {\"m_or_u\": \"m\", \"estimated_probability\": 0.391421665288299, \"estimate_description\": \"EM, blocked on: (l.\\\"first_name\\\" = r.\\\"first_name\\\") AND (l.\\\"surname\\\" = r.\\\"surname\\\")\", \"estimated_probability_as_log_odds\": -0.636719363350655, \"sql_condition\": \"\\\"dob_l\\\" = \\\"dob_r\\\"\", \"comparison_level_label\": \"Exact match on dob\", \"comparison_vector_value\": 2, \"comparison_name\": \"dob\", \"comparison_sort_order\": 2}, {\"m_or_u\": \"m\", \"estimated_probability\": 0.14937817941895062, \"estimate_description\": \"EM, blocked on: (l.\\\"first_name\\\" = r.\\\"first_name\\\") AND (l.\\\"surname\\\" = r.\\\"surname\\\")\", \"estimated_probability_as_log_odds\": -2.5095484439202056, \"sql_condition\": \"levenshtein(\\\"dob_l\\\", \\\"dob_r\\\") <= 1\", \"comparison_level_label\": \"Levenshtein distance of dob <= 1\", \"comparison_vector_value\": 1, \"comparison_name\": \"dob\", \"comparison_sort_order\": 2}, {\"m_or_u\": \"m\", \"estimated_probability\": 0.45920015529275027, \"estimate_description\": \"EM, blocked on: (l.\\\"first_name\\\" = r.\\\"first_name\\\") AND (l.\\\"surname\\\" = r.\\\"surname\\\")\", \"estimated_probability_as_log_odds\": -0.2359716074390606, \"sql_condition\": \"ELSE\", \"comparison_level_label\": \"All other comparisons\", \"comparison_vector_value\": 0, \"comparison_name\": \"dob\", \"comparison_sort_order\": 2}, {\"m_or_u\": \"m\", \"estimated_probability\": 0.5688095702551734, \"estimate_description\": \"EM, blocked on: (l.\\\"first_name\\\" = r.\\\"first_name\\\") AND (l.\\\"surname\\\" = r.\\\"surname\\\")\", \"estimated_probability_as_log_odds\": 0.39962058070797085, \"sql_condition\": \"\\\"city_l\\\" = \\\"city_r\\\"\", \"comparison_level_label\": \"Exact match on city\", \"comparison_vector_value\": 1, \"comparison_name\": \"city\", \"comparison_sort_order\": 3}, {\"m_or_u\": \"m\", \"estimated_probability\": 0.556339874459808, \"estimate_description\": \"EM, blocked on: l.\\\"dob\\\" = r.\\\"dob\\\"\", \"estimated_probability_as_log_odds\": 0.32651161622835256, \"sql_condition\": \"\\\"city_l\\\" = \\\"city_r\\\"\", \"comparison_level_label\": \"Exact match on city\", \"comparison_vector_value\": 1, \"comparison_name\": \"city\", \"comparison_sort_order\": 3}, {\"m_or_u\": \"m\", \"estimated_probability\": 0.4311904297448265, \"estimate_description\": \"EM, blocked on: (l.\\\"first_name\\\" = r.\\\"first_name\\\") AND (l.\\\"surname\\\" = r.\\\"surname\\\")\", \"estimated_probability_as_log_odds\": -0.3996205807079711, \"sql_condition\": \"ELSE\", \"comparison_level_label\": \"All other comparisons\", \"comparison_vector_value\": 0, \"comparison_name\": \"city\", \"comparison_sort_order\": 3}, {\"m_or_u\": \"m\", \"estimated_probability\": 0.44366012554019185, \"estimate_description\": \"EM, blocked on: l.\\\"dob\\\" = r.\\\"dob\\\"\", \"estimated_probability_as_log_odds\": -0.32651161622835323, \"sql_condition\": \"ELSE\", \"comparison_level_label\": \"All other comparisons\", \"comparison_vector_value\": 0, \"comparison_name\": \"city\", \"comparison_sort_order\": 3}, {\"m_or_u\": \"m\", \"estimated_probability\": 0.5626002610028062, \"estimate_description\": \"EM, blocked on: (l.\\\"first_name\\\" = r.\\\"first_name\\\") AND (l.\\\"surname\\\" = r.\\\"surname\\\")\", \"estimated_probability_as_log_odds\": 0.3631578624420854, \"sql_condition\": \"\\\"email_l\\\" = \\\"email_r\\\"\", \"comparison_level_label\": \"Exact match on email\", \"comparison_vector_value\": 4, \"comparison_name\": \"email\", \"comparison_sort_order\": 4}, {\"m_or_u\": \"m\", \"estimated_probability\": 0.5433329063142388, \"estimate_description\": \"EM, blocked on: l.\\\"dob\\\" = r.\\\"dob\\\"\", \"estimated_probability_as_log_odds\": 0.2506935883882092, \"sql_condition\": \"\\\"email_l\\\" = \\\"email_r\\\"\", \"comparison_level_label\": \"Exact match on email\", \"comparison_vector_value\": 4, \"comparison_name\": \"email\", \"comparison_sort_order\": 4}, {\"m_or_u\": \"m\", \"estimated_probability\": 0.21816795189628346, \"estimate_description\": \"EM, blocked on: (l.\\\"first_name\\\" = r.\\\"first_name\\\") AND (l.\\\"surname\\\" = r.\\\"surname\\\")\", \"estimated_probability_as_log_odds\": -1.8414195329946113, \"sql_condition\": \"NULLIF(regexp_extract(\\\"email_l\\\", '^[^@]+', 0), '') = NULLIF(regexp_extract(\\\"email_r\\\", '^[^@]+', 0), '')\", \"comparison_level_label\": \"Exact match on username\", \"comparison_vector_value\": 3, \"comparison_name\": \"email\", \"comparison_sort_order\": 4}, {\"m_or_u\": \"m\", \"estimated_probability\": 0.22358030063845927, \"estimate_description\": \"EM, blocked on: l.\\\"dob\\\" = r.\\\"dob\\\"\", \"estimated_probability_as_log_odds\": -1.7960436428022006, \"sql_condition\": \"NULLIF(regexp_extract(\\\"email_l\\\", '^[^@]+', 0), '') = NULLIF(regexp_extract(\\\"email_r\\\", '^[^@]+', 0), '')\", \"comparison_level_label\": \"Exact match on username\", \"comparison_vector_value\": 3, \"comparison_name\": \"email\", \"comparison_sort_order\": 4}, {\"m_or_u\": \"m\", \"estimated_probability\": 0.1951885967908734, \"estimate_description\": \"EM, blocked on: (l.\\\"first_name\\\" = r.\\\"first_name\\\") AND (l.\\\"surname\\\" = r.\\\"surname\\\")\", \"estimated_probability_as_log_odds\": -2.0437819755756137, \"sql_condition\": \"jaro_winkler_similarity(\\\"email_l\\\", \\\"email_r\\\") >= 0.88\", \"comparison_level_label\": \"Jaro-Winkler distance of email >= 0.88\", \"comparison_vector_value\": 2, \"comparison_name\": \"email\", \"comparison_sort_order\": 4}, {\"m_or_u\": \"m\", \"estimated_probability\": 0.23307139250566433, \"estimate_description\": \"EM, blocked on: l.\\\"dob\\\" = r.\\\"dob\\\"\", \"estimated_probability_as_log_odds\": -1.718320348134644, \"sql_condition\": \"jaro_winkler_similarity(\\\"email_l\\\", \\\"email_r\\\") >= 0.88\", \"comparison_level_label\": \"Jaro-Winkler distance of email >= 0.88\", \"comparison_vector_value\": 2, \"comparison_name\": \"email\", \"comparison_sort_order\": 4}, {\"m_or_u\": \"m\", \"estimated_probability\": \"level not observed in training dataset\", \"estimate_description\": \"EM, blocked on: (l.\\\"first_name\\\" = r.\\\"first_name\\\") AND (l.\\\"surname\\\" = r.\\\"surname\\\")\", \"estimated_probability_as_log_odds\": null, \"sql_condition\": \"jaro_winkler_similarity(NULLIF(regexp_extract(\\\"email_l\\\", '^[^@]+', 0), ''), NULLIF(regexp_extract(\\\"email_r\\\", '^[^@]+', 0), '')) >= 0.88\", \"comparison_level_label\": \"Jaro-Winkler >0.88 on username\", \"comparison_vector_value\": 1, \"comparison_name\": \"email\", \"comparison_sort_order\": 4}, {\"m_or_u\": \"m\", \"estimated_probability\": \"level not observed in training dataset\", \"estimate_description\": \"EM, blocked on: l.\\\"dob\\\" = r.\\\"dob\\\"\", \"estimated_probability_as_log_odds\": null, \"sql_condition\": \"jaro_winkler_similarity(NULLIF(regexp_extract(\\\"email_l\\\", '^[^@]+', 0), ''), NULLIF(regexp_extract(\\\"email_r\\\", '^[^@]+', 0), '')) >= 0.88\", \"comparison_level_label\": \"Jaro-Winkler >0.88 on username\", \"comparison_vector_value\": 1, \"comparison_name\": \"email\", \"comparison_sort_order\": 4}, {\"m_or_u\": \"m\", \"estimated_probability\": 0.0240431903100368, \"estimate_description\": \"EM, blocked on: (l.\\\"first_name\\\" = r.\\\"first_name\\\") AND (l.\\\"surname\\\" = r.\\\"surname\\\")\", \"estimated_probability_as_log_odds\": -5.34311705748989, \"sql_condition\": \"ELSE\", \"comparison_level_label\": \"All other comparisons\", \"comparison_vector_value\": 0, \"comparison_name\": \"email\", \"comparison_sort_order\": 4}, {\"m_or_u\": \"m\", \"estimated_probability\": 1.540054163756616e-05, \"estimate_description\": \"EM, blocked on: l.\\\"dob\\\" = r.\\\"dob\\\"\", \"estimated_probability_as_log_odds\": -15.986637164535223, \"sql_condition\": \"ELSE\", \"comparison_level_label\": \"All other comparisons\", \"comparison_vector_value\": 0, \"comparison_name\": \"email\", \"comparison_sort_order\": 4}]}}, {\"mode\": \"vega-lite\"});\n",
       "</script>"
      ],
      "text/plain": [
       "alt.Chart(...)"
      ]
     },
     "execution_count": 18,
     "metadata": {},
     "output_type": "execute_result"
    }
   ],
   "source": [
    "linker.visualisations.parameter_estimate_comparisons_chart()"
   ]
  },
  {
   "cell_type": "markdown",
   "id": "f0fa70ef-66c1-4f03-9bed-ef68868ed98c",
   "metadata": {},
   "source": [
    "# Save"
   ]
  },
  {
   "cell_type": "code",
   "execution_count": 19,
   "id": "924a1697-badf-40d4-9378-4c8c4b8fc23a",
   "metadata": {},
   "outputs": [],
   "source": [
    "settings = linker.misc.save_model_to_json(\n",
    "    \"02_saved_model.json\",\n",
    "    overwrite=True\n",
    ")"
   ]
  },
  {
   "cell_type": "markdown",
   "id": "c996e7d1-16d8-4d6c-82f3-3b38a3425cd6",
   "metadata": {},
   "source": [
    "# Detecting Unlinkable Records"
   ]
  },
  {
   "cell_type": "code",
   "execution_count": 20,
   "id": "55929356-0fbd-4631-af4f-cd7eb6199122",
   "metadata": {},
   "outputs": [
    {
     "data": {
      "text/html": [
       "\n",
       "<style>\n",
       "  #altair-viz-fbbc800917634521acd28ae059f52e96.vega-embed {\n",
       "    width: 100%;\n",
       "    display: flex;\n",
       "  }\n",
       "\n",
       "  #altair-viz-fbbc800917634521acd28ae059f52e96.vega-embed details,\n",
       "  #altair-viz-fbbc800917634521acd28ae059f52e96.vega-embed details summary {\n",
       "    position: relative;\n",
       "  }\n",
       "</style>\n",
       "<div id=\"altair-viz-fbbc800917634521acd28ae059f52e96\"></div>\n",
       "<script type=\"text/javascript\">\n",
       "  var VEGA_DEBUG = (typeof VEGA_DEBUG == \"undefined\") ? {} : VEGA_DEBUG;\n",
       "  (function(spec, embedOpt){\n",
       "    let outputDiv = document.currentScript.previousElementSibling;\n",
       "    if (outputDiv.id !== \"altair-viz-fbbc800917634521acd28ae059f52e96\") {\n",
       "      outputDiv = document.getElementById(\"altair-viz-fbbc800917634521acd28ae059f52e96\");\n",
       "    }\n",
       "\n",
       "    const paths = {\n",
       "      \"vega\": \"https://cdn.jsdelivr.net/npm/vega@5?noext\",\n",
       "      \"vega-lib\": \"https://cdn.jsdelivr.net/npm/vega-lib?noext\",\n",
       "      \"vega-lite\": \"https://cdn.jsdelivr.net/npm/vega-lite@5.20.1?noext\",\n",
       "      \"vega-embed\": \"https://cdn.jsdelivr.net/npm/vega-embed@6?noext\",\n",
       "    };\n",
       "\n",
       "    function maybeLoadScript(lib, version) {\n",
       "      var key = `${lib.replace(\"-\", \"\")}_version`;\n",
       "      return (VEGA_DEBUG[key] == version) ?\n",
       "        Promise.resolve(paths[lib]) :\n",
       "        new Promise(function(resolve, reject) {\n",
       "          var s = document.createElement('script');\n",
       "          document.getElementsByTagName(\"head\")[0].appendChild(s);\n",
       "          s.async = true;\n",
       "          s.onload = () => {\n",
       "            VEGA_DEBUG[key] = version;\n",
       "            return resolve(paths[lib]);\n",
       "          };\n",
       "          s.onerror = () => reject(`Error loading script: ${paths[lib]}`);\n",
       "          s.src = paths[lib];\n",
       "        });\n",
       "    }\n",
       "\n",
       "    function showError(err) {\n",
       "      outputDiv.innerHTML = `<div class=\"error\" style=\"color:red;\">${err}</div>`;\n",
       "      throw err;\n",
       "    }\n",
       "\n",
       "    function displayChart(vegaEmbed) {\n",
       "      vegaEmbed(outputDiv, spec, embedOpt)\n",
       "        .catch(err => showError(`Javascript Error: ${err.message}<br>This usually means there's a typo in your chart specification. See the javascript console for the full traceback.`));\n",
       "    }\n",
       "\n",
       "    if(typeof define === \"function\" && define.amd) {\n",
       "      requirejs.config({paths});\n",
       "      let deps = [\"vega-embed\"];\n",
       "      require(deps, displayChart, err => showError(`Error loading script: ${err.message}`));\n",
       "    } else {\n",
       "      maybeLoadScript(\"vega\", \"5\")\n",
       "        .then(() => maybeLoadScript(\"vega-lite\", \"5.20.1\"))\n",
       "        .then(() => maybeLoadScript(\"vega-embed\", \"6\"))\n",
       "        .catch(showError)\n",
       "        .then(() => displayChart(vegaEmbed));\n",
       "    }\n",
       "  })({\"config\": {\"view\": {\"continuousWidth\": 400, \"continuousHeight\": 300}}, \"layer\": [{\"mark\": {\"type\": \"line\"}, \"encoding\": {\"x\": {\"axis\": {\"format\": \"+\", \"title\": \"Threshold match weight\"}, \"field\": \"match_weight\", \"type\": \"quantitative\"}, \"y\": {\"axis\": {\"format\": \"%\", \"title\": \"Percentage of unlinkable records\"}, \"field\": \"cum_prop\", \"type\": \"quantitative\"}}}, {\"mark\": {\"type\": \"point\"}, \"encoding\": {\"opacity\": {\"condition\": {\"param\": \"x_match_weight_y_cum_prop_coords_of_mouse\", \"value\": 1, \"empty\": false}, \"value\": 0}, \"tooltip\": [{\"field\": \"match_weight\", \"format\": \"+.5\", \"title\": \"Match weight\", \"type\": \"quantitative\"}, {\"field\": \"match_probability\", \"format\": \".5\", \"title\": \"Match probability\", \"type\": \"quantitative\"}, {\"field\": \"cum_prop\", \"format\": \".3%\", \"title\": \"Proportion of unlinkable records\", \"type\": \"quantitative\"}], \"x\": {\"axis\": {\"title\": \"Threshold match weight\"}, \"field\": \"match_weight\", \"type\": \"quantitative\"}, \"y\": {\"axis\": {\"format\": \"%\", \"title\": \"Percentage of unlinkable records\"}, \"field\": \"cum_prop\", \"type\": \"quantitative\"}}, \"name\": \"mouse_coords\"}, {\"mark\": {\"type\": \"rule\", \"color\": \"gray\"}, \"encoding\": {\"x\": {\"field\": \"match_weight\", \"type\": \"quantitative\"}}, \"transform\": [{\"filter\": {\"param\": \"x_match_weight_y_cum_prop_coords_of_mouse\", \"empty\": false}}]}, {\"mark\": {\"type\": \"rule\", \"color\": \"gray\"}, \"encoding\": {\"y\": {\"field\": \"cum_prop\", \"type\": \"quantitative\"}}, \"transform\": [{\"filter\": {\"param\": \"x_match_weight_y_cum_prop_coords_of_mouse\", \"empty\": false}}]}], \"data\": {\"name\": \"data-6a3e3ca5c2af2f39ba3584a28942c6e4\"}, \"height\": 400, \"params\": [{\"name\": \"x_match_weight_y_cum_prop_coords_of_mouse\", \"select\": {\"type\": \"point\", \"fields\": [\"match_weight\", \"cum_prop\"], \"nearest\": true, \"on\": \"mouseover\"}, \"views\": [\"mouse_coords\"]}], \"title\": {\"text\": \"Unlinkable records\", \"subtitle\": \"Records with insufficient information to exceed a given match threshold\"}, \"width\": 400, \"$schema\": \"https://vega.github.io/schema/vega-lite/v5.9.3.json\", \"datasets\": {\"data-6a3e3ca5c2af2f39ba3584a28942c6e4\": [{\"match_weight\": -0.58, \"match_probability\": 0.40099, \"prop\": 0.0020000000949949026, \"cum_prop\": 0.0020000000949949026}, {\"match_weight\": 3.29, \"match_probability\": 0.90709, \"prop\": 0.0010000000474974513, \"cum_prop\": 0.003000000142492354}, {\"match_weight\": 4.09, \"match_probability\": 0.9445, \"prop\": 0.0010000000474974513, \"cum_prop\": 0.004000000189989805}, {\"match_weight\": 4.45, \"match_probability\": 0.95627, \"prop\": 0.0010000000474974513, \"cum_prop\": 0.0050000002374872565}, {\"match_weight\": 4.51, \"match_probability\": 0.95795, \"prop\": 0.0010000000474974513, \"cum_prop\": 0.006000000284984708}, {\"match_weight\": 5.09, \"match_probability\": 0.97146, \"prop\": 0.0010000000474974513, \"cum_prop\": 0.007000000332482159}, {\"match_weight\": 5.91, \"match_probability\": 0.98367, \"prop\": 0.0010000000474974513, \"cum_prop\": 0.00800000037997961}, {\"match_weight\": 5.94, \"match_probability\": 0.98393, \"prop\": 0.0010000000474974513, \"cum_prop\": 0.009000000427477062}, {\"match_weight\": 6.19, \"match_probability\": 0.98649, \"prop\": 0.0010000000474974513, \"cum_prop\": 0.010000000474974513}, {\"match_weight\": 6.31, \"match_probability\": 0.98757, \"prop\": 0.0020000000949949026, \"cum_prop\": 0.012000000569969416}, {\"match_weight\": 6.61, \"match_probability\": 0.98983, \"prop\": 0.0010000000474974513, \"cum_prop\": 0.013000000617466867}, {\"match_weight\": 7.01, \"match_probability\": 0.99229, \"prop\": 0.0010000000474974513, \"cum_prop\": 0.014000000664964318}, {\"match_weight\": 7.09, \"match_probability\": 0.99274, \"prop\": 0.0010000000474974513, \"cum_prop\": 0.01500000071246177}, {\"match_weight\": 7.19, \"match_probability\": 0.9932, \"prop\": 0.0010000000474974513, \"cum_prop\": 0.01600000075995922}, {\"match_weight\": 7.27, \"match_probability\": 0.99357, \"prop\": 0.0010000000474974513, \"cum_prop\": 0.017000000807456672}, {\"match_weight\": 7.3, \"match_probability\": 0.99369, \"prop\": 0.0010000000474974513, \"cum_prop\": 0.018000000854954123}, {\"match_weight\": 7.5, \"match_probability\": 0.9945, \"prop\": 0.0010000000474974513, \"cum_prop\": 0.019000000902451575}, {\"match_weight\": 7.59, \"match_probability\": 0.99485, \"prop\": 0.003000000026077032, \"cum_prop\": 0.022000000928528607}, {\"match_weight\": 7.9, \"match_probability\": 0.99582, \"prop\": 0.003000000026077032, \"cum_prop\": 0.02500000095460564}, {\"match_weight\": 7.91, \"match_probability\": 0.99587, \"prop\": 0.0010000000474974513, \"cum_prop\": 0.02600000100210309}, {\"match_weight\": 8.19, \"match_probability\": 0.99659, \"prop\": 0.003000000026077032, \"cum_prop\": 0.029000001028180122}, {\"match_weight\": 8.26, \"match_probability\": 0.99674, \"prop\": 0.003000000026077032, \"cum_prop\": 0.032000001054257154}, {\"match_weight\": 8.41, \"match_probability\": 0.99707, \"prop\": 0.0010000000474974513, \"cum_prop\": 0.033000001101754606}, {\"match_weight\": 8.59, \"match_probability\": 0.99742, \"prop\": 0.0010000000474974513, \"cum_prop\": 0.03400000114925206}, {\"match_weight\": 8.76, \"match_probability\": 0.99769, \"prop\": 0.0010000000474974513, \"cum_prop\": 0.03500000119674951}, {\"match_weight\": 8.83, \"match_probability\": 0.9978, \"prop\": 0.0010000000474974513, \"cum_prop\": 0.03600000124424696}, {\"match_weight\": 9.3, \"match_probability\": 0.99841, \"prop\": 0.0010000000474974513, \"cum_prop\": 0.03700000129174441}, {\"match_weight\": 9.44, \"match_probability\": 0.99856, \"prop\": 0.0010000000474974513, \"cum_prop\": 0.03800000133924186}, {\"match_weight\": 9.48, \"match_probability\": 0.9986, \"prop\": 0.0010000000474974513, \"cum_prop\": 0.039000001386739314}, {\"match_weight\": 9.5, \"match_probability\": 0.99862, \"prop\": 0.0020000000949949026, \"cum_prop\": 0.041000001481734216}, {\"match_weight\": 9.59, \"match_probability\": 0.99871, \"prop\": 0.0020000000949949026, \"cum_prop\": 0.04300000157672912}, {\"match_weight\": 9.73, \"match_probability\": 0.99883, \"prop\": 0.0010000000474974513, \"cum_prop\": 0.04400000162422657}, {\"match_weight\": 9.83, \"match_probability\": 0.9989, \"prop\": 0.0010000000474974513, \"cum_prop\": 0.04500000167172402}, {\"match_weight\": 9.89, \"match_probability\": 0.99895, \"prop\": 0.0010000000474974513, \"cum_prop\": 0.04600000171922147}, {\"match_weight\": 9.94, \"match_probability\": 0.99898, \"prop\": 0.0010000000474974513, \"cum_prop\": 0.047000001766718924}, {\"match_weight\": 10.12, \"match_probability\": 0.9991, \"prop\": 0.0010000000474974513, \"cum_prop\": 0.048000001814216375}, {\"match_weight\": 10.18, \"match_probability\": 0.99914, \"prop\": 0.0010000000474974513, \"cum_prop\": 0.04900000186171383}, {\"match_weight\": 10.27, \"match_probability\": 0.99919, \"prop\": 0.0010000000474974513, \"cum_prop\": 0.05000000190921128}, {\"match_weight\": 10.36, \"match_probability\": 0.99924, \"prop\": 0.0020000000949949026, \"cum_prop\": 0.05200000200420618}, {\"match_weight\": 10.45, \"match_probability\": 0.99928, \"prop\": 0.0010000000474974513, \"cum_prop\": 0.05300000205170363}, {\"match_weight\": 10.53, \"match_probability\": 0.99932, \"prop\": 0.0010000000474974513, \"cum_prop\": 0.05400000209920108}, {\"match_weight\": 10.56, \"match_probability\": 0.99934, \"prop\": 0.0010000000474974513, \"cum_prop\": 0.055000002146698534}, {\"match_weight\": 10.59, \"match_probability\": 0.99935, \"prop\": 0.0010000000474974513, \"cum_prop\": 0.056000002194195986}, {\"match_weight\": 10.61, \"match_probability\": 0.99936, \"prop\": 0.0010000000474974513, \"cum_prop\": 0.05700000224169344}, {\"match_weight\": 10.64, \"match_probability\": 0.99937, \"prop\": 0.0010000000474974513, \"cum_prop\": 0.05800000228919089}, {\"match_weight\": 10.76, \"match_probability\": 0.99942, \"prop\": 0.0010000000474974513, \"cum_prop\": 0.05900000233668834}, {\"match_weight\": 10.94, \"match_probability\": 0.99949, \"prop\": 0.0010000000474974513, \"cum_prop\": 0.06000000238418579}, {\"match_weight\": 10.95, \"match_probability\": 0.9995, \"prop\": 0.0010000000474974513, \"cum_prop\": 0.06100000243168324}, {\"match_weight\": 11.06, \"match_probability\": 0.99953, \"prop\": 0.0010000000474974513, \"cum_prop\": 0.062000002479180694}, {\"match_weight\": 11.1, \"match_probability\": 0.99955, \"prop\": 0.0010000000474974513, \"cum_prop\": 0.06300000252667814}, {\"match_weight\": 11.15, \"match_probability\": 0.99956, \"prop\": 0.0010000000474974513, \"cum_prop\": 0.0640000025741756}, {\"match_weight\": 11.27, \"match_probability\": 0.9996, \"prop\": 0.0010000000474974513, \"cum_prop\": 0.06500000262167305}, {\"match_weight\": 11.34, \"match_probability\": 0.99961, \"prop\": 0.0020000000949949026, \"cum_prop\": 0.06700000271666795}, {\"match_weight\": 11.54, \"match_probability\": 0.99966, \"prop\": 0.0010000000474974513, \"cum_prop\": 0.0680000027641654}, {\"match_weight\": 11.76, \"match_probability\": 0.99971, \"prop\": 0.0010000000474974513, \"cum_prop\": 0.06900000281166285}, {\"match_weight\": 11.8, \"match_probability\": 0.99972, \"prop\": 0.0010000000474974513, \"cum_prop\": 0.0700000028591603}, {\"match_weight\": 11.98, \"match_probability\": 0.99975, \"prop\": 0.003000000026077032, \"cum_prop\": 0.07300000288523734}, {\"match_weight\": 12.25, \"match_probability\": 0.99979, \"prop\": 0.003000000026077032, \"cum_prop\": 0.07600000291131437}, {\"match_weight\": 12.37, \"match_probability\": 0.99981, \"prop\": 0.0010000000474974513, \"cum_prop\": 0.07700000295881182}, {\"match_weight\": 12.47, \"match_probability\": 0.99982, \"prop\": 0.004999999888241291, \"cum_prop\": 0.08200000284705311}, {\"match_weight\": 12.56, \"match_probability\": 0.99983, \"prop\": 0.0010000000474974513, \"cum_prop\": 0.08300000289455056}, {\"match_weight\": 12.73, \"match_probability\": 0.99985, \"prop\": 0.0020000000949949026, \"cum_prop\": 0.08500000298954546}, {\"match_weight\": 12.84, \"match_probability\": 0.99986, \"prop\": 0.004000000189989805, \"cum_prop\": 0.08900000317953527}, {\"match_weight\": 12.93, \"match_probability\": 0.99987, \"prop\": 0.003000000026077032, \"cum_prop\": 0.0920000032056123}, {\"match_weight\": 13.08, \"match_probability\": 0.99988, \"prop\": 0.006000000052154064, \"cum_prop\": 0.09800000325776637}, {\"match_weight\": 13.15, \"match_probability\": 0.99989, \"prop\": 0.004000000189989805, \"cum_prop\": 0.10200000344775617}, {\"match_weight\": 13.35, \"match_probability\": 0.9999, \"prop\": 0.004000000189989805, \"cum_prop\": 0.10600000363774598}, {\"match_weight\": 13.48, \"match_probability\": 0.99991, \"prop\": 0.004000000189989805, \"cum_prop\": 0.11000000382773578}, {\"match_weight\": 13.68, \"match_probability\": 0.99992, \"prop\": 0.009999999776482582, \"cum_prop\": 0.12000000360421836}, {\"match_weight\": 13.86, \"match_probability\": 0.99993, \"prop\": 0.004999999888241291, \"cum_prop\": 0.12500000349245965}, {\"match_weight\": 14.15, \"match_probability\": 0.99994, \"prop\": 0.004000000189989805, \"cum_prop\": 0.12900000368244946}, {\"match_weight\": 14.41, \"match_probability\": 0.99995, \"prop\": 0.013000000268220901, \"cum_prop\": 0.14200000395067036}, {\"match_weight\": 14.79, \"match_probability\": 0.99996, \"prop\": 0.013000000268220901, \"cum_prop\": 0.15500000421889126}, {\"match_weight\": 15.28, \"match_probability\": 0.99997, \"prop\": 0.02199999988079071, \"cum_prop\": 0.17700000409968197}, {\"match_weight\": 16.02, \"match_probability\": 0.99998, \"prop\": 0.03400000184774399, \"cum_prop\": 0.21100000594742596}, {\"match_weight\": 17.57, \"match_probability\": 0.99999, \"prop\": 0.07599999755620956, \"cum_prop\": 0.2870000035036355}]}}, {\"mode\": \"vega-lite\"});\n",
       "</script>"
      ],
      "text/plain": [
       "alt.LayerChart(...)"
      ]
     },
     "execution_count": 20,
     "metadata": {},
     "output_type": "execute_result"
    }
   ],
   "source": [
    "linker.evaluation.unlinkables_chart()"
   ]
  },
  {
   "cell_type": "code",
   "execution_count": null,
   "id": "e67e863d-e4ec-43ac-ba8a-316298a0e4f8",
   "metadata": {},
   "outputs": [],
   "source": []
  }
 ],
 "metadata": {
  "kernelspec": {
   "display_name": "Python 3 (ipykernel)",
   "language": "python",
   "name": "python3"
  },
  "language_info": {
   "codemirror_mode": {
    "name": "ipython",
    "version": 3
   },
   "file_extension": ".py",
   "mimetype": "text/x-python",
   "name": "python",
   "nbconvert_exporter": "python",
   "pygments_lexer": "ipython3",
   "version": "3.13.3"
  }
 },
 "nbformat": 4,
 "nbformat_minor": 5
}
