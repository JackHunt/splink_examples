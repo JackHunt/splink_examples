{
 "cells": [
  {
   "cell_type": "markdown",
   "id": "21323cba",
   "metadata": {},
   "source": [
    "# Setup"
   ]
  },
  {
   "cell_type": "code",
   "execution_count": 4,
   "id": "b815d53e",
   "metadata": {},
   "outputs": [],
   "source": [
    "from splink import splink_datasets, DuckDBAPI\n",
    "from splink.exploratory import completeness_chart, profile_columns"
   ]
  },
  {
   "cell_type": "markdown",
   "id": "d5d1c7cb",
   "metadata": {},
   "source": [
    "# Load Example Data"
   ]
  },
  {
   "cell_type": "code",
   "execution_count": 2,
   "id": "b3d0b80d",
   "metadata": {},
   "outputs": [
    {
     "data": {
      "text/html": [
       "<div>\n",
       "<style scoped>\n",
       "    .dataframe tbody tr th:only-of-type {\n",
       "        vertical-align: middle;\n",
       "    }\n",
       "\n",
       "    .dataframe tbody tr th {\n",
       "        vertical-align: top;\n",
       "    }\n",
       "\n",
       "    .dataframe thead th {\n",
       "        text-align: right;\n",
       "    }\n",
       "</style>\n",
       "<table border=\"1\" class=\"dataframe\">\n",
       "  <thead>\n",
       "    <tr style=\"text-align: right;\">\n",
       "      <th></th>\n",
       "      <th>unique_id</th>\n",
       "      <th>first_name</th>\n",
       "      <th>surname</th>\n",
       "      <th>dob</th>\n",
       "      <th>city</th>\n",
       "      <th>email</th>\n",
       "    </tr>\n",
       "  </thead>\n",
       "  <tbody>\n",
       "    <tr>\n",
       "      <th>0</th>\n",
       "      <td>0</td>\n",
       "      <td>Robert</td>\n",
       "      <td>Alan</td>\n",
       "      <td>1971-06-24</td>\n",
       "      <td>NaN</td>\n",
       "      <td>robert255@smith.net</td>\n",
       "    </tr>\n",
       "    <tr>\n",
       "      <th>1</th>\n",
       "      <td>1</td>\n",
       "      <td>Robert</td>\n",
       "      <td>Allen</td>\n",
       "      <td>1971-05-24</td>\n",
       "      <td>NaN</td>\n",
       "      <td>roberta25@smith.net</td>\n",
       "    </tr>\n",
       "    <tr>\n",
       "      <th>2</th>\n",
       "      <td>2</td>\n",
       "      <td>Rob</td>\n",
       "      <td>Allen</td>\n",
       "      <td>1971-06-24</td>\n",
       "      <td>London</td>\n",
       "      <td>roberta25@smith.net</td>\n",
       "    </tr>\n",
       "    <tr>\n",
       "      <th>3</th>\n",
       "      <td>3</td>\n",
       "      <td>Robert</td>\n",
       "      <td>Alen</td>\n",
       "      <td>1971-06-24</td>\n",
       "      <td>Lonon</td>\n",
       "      <td>NaN</td>\n",
       "    </tr>\n",
       "    <tr>\n",
       "      <th>4</th>\n",
       "      <td>4</td>\n",
       "      <td>Grace</td>\n",
       "      <td>NaN</td>\n",
       "      <td>1997-04-26</td>\n",
       "      <td>Hull</td>\n",
       "      <td>grace.kelly52@jones.com</td>\n",
       "    </tr>\n",
       "  </tbody>\n",
       "</table>\n",
       "</div>"
      ],
      "text/plain": [
       "   unique_id first_name surname         dob    city                    email\n",
       "0          0     Robert    Alan  1971-06-24     NaN      robert255@smith.net\n",
       "1          1     Robert   Allen  1971-05-24     NaN      roberta25@smith.net\n",
       "2          2        Rob   Allen  1971-06-24  London      roberta25@smith.net\n",
       "3          3     Robert    Alen  1971-06-24   Lonon                      NaN\n",
       "4          4      Grace     NaN  1997-04-26    Hull  grace.kelly52@jones.com"
      ]
     },
     "execution_count": 2,
     "metadata": {},
     "output_type": "execute_result"
    }
   ],
   "source": [
    "df = splink_datasets.fake_1000\n",
    "df = df.drop(columns=[\"cluster\"])\n",
    "df.head(5)"
   ]
  },
  {
   "cell_type": "markdown",
   "id": "1c159281",
   "metadata": {},
   "source": [
    "# Missingness"
   ]
  },
  {
   "cell_type": "code",
   "execution_count": 3,
   "id": "2e86f491",
   "metadata": {},
   "outputs": [
    {
     "data": {
      "text/html": [
       "\n",
       "<style>\n",
       "  #altair-viz-549c3784ac314d6f99e375f878a7de36.vega-embed {\n",
       "    width: 100%;\n",
       "    display: flex;\n",
       "  }\n",
       "\n",
       "  #altair-viz-549c3784ac314d6f99e375f878a7de36.vega-embed details,\n",
       "  #altair-viz-549c3784ac314d6f99e375f878a7de36.vega-embed details summary {\n",
       "    position: relative;\n",
       "  }\n",
       "</style>\n",
       "<div id=\"altair-viz-549c3784ac314d6f99e375f878a7de36\"></div>\n",
       "<script type=\"text/javascript\">\n",
       "  var VEGA_DEBUG = (typeof VEGA_DEBUG == \"undefined\") ? {} : VEGA_DEBUG;\n",
       "  (function(spec, embedOpt){\n",
       "    let outputDiv = document.currentScript.previousElementSibling;\n",
       "    if (outputDiv.id !== \"altair-viz-549c3784ac314d6f99e375f878a7de36\") {\n",
       "      outputDiv = document.getElementById(\"altair-viz-549c3784ac314d6f99e375f878a7de36\");\n",
       "    }\n",
       "\n",
       "    const paths = {\n",
       "      \"vega\": \"https://cdn.jsdelivr.net/npm/vega@5?noext\",\n",
       "      \"vega-lib\": \"https://cdn.jsdelivr.net/npm/vega-lib?noext\",\n",
       "      \"vega-lite\": \"https://cdn.jsdelivr.net/npm/vega-lite@5.20.1?noext\",\n",
       "      \"vega-embed\": \"https://cdn.jsdelivr.net/npm/vega-embed@6?noext\",\n",
       "    };\n",
       "\n",
       "    function maybeLoadScript(lib, version) {\n",
       "      var key = `${lib.replace(\"-\", \"\")}_version`;\n",
       "      return (VEGA_DEBUG[key] == version) ?\n",
       "        Promise.resolve(paths[lib]) :\n",
       "        new Promise(function(resolve, reject) {\n",
       "          var s = document.createElement('script');\n",
       "          document.getElementsByTagName(\"head\")[0].appendChild(s);\n",
       "          s.async = true;\n",
       "          s.onload = () => {\n",
       "            VEGA_DEBUG[key] = version;\n",
       "            return resolve(paths[lib]);\n",
       "          };\n",
       "          s.onerror = () => reject(`Error loading script: ${paths[lib]}`);\n",
       "          s.src = paths[lib];\n",
       "        });\n",
       "    }\n",
       "\n",
       "    function showError(err) {\n",
       "      outputDiv.innerHTML = `<div class=\"error\" style=\"color:red;\">${err}</div>`;\n",
       "      throw err;\n",
       "    }\n",
       "\n",
       "    function displayChart(vegaEmbed) {\n",
       "      vegaEmbed(outputDiv, spec, embedOpt)\n",
       "        .catch(err => showError(`Javascript Error: ${err.message}<br>This usually means there's a typo in your chart specification. See the javascript console for the full traceback.`));\n",
       "    }\n",
       "\n",
       "    if(typeof define === \"function\" && define.amd) {\n",
       "      requirejs.config({paths});\n",
       "      let deps = [\"vega-embed\"];\n",
       "      require(deps, displayChart, err => showError(`Error loading script: ${err.message}`));\n",
       "    } else {\n",
       "      maybeLoadScript(\"vega\", \"5\")\n",
       "        .then(() => maybeLoadScript(\"vega-lite\", \"5.20.1\"))\n",
       "        .then(() => maybeLoadScript(\"vega-embed\", \"6\"))\n",
       "        .catch(showError)\n",
       "        .then(() => displayChart(vegaEmbed));\n",
       "    }\n",
       "  })({\"config\": {\"view\": {\"continuousWidth\": 400, \"continuousHeight\": 300}}, \"layer\": [{\"mark\": \"rect\", \"encoding\": {\"color\": {\"field\": \"completeness\", \"legend\": null, \"scale\": {\"scheme\": \"darkred\", \"zero\": true}, \"type\": \"quantitative\"}, \"tooltip\": [{\"field\": \"source_dataset\", \"title\": \"Source dataset\", \"type\": \"nominal\"}, {\"field\": \"total_rows_inc_nulls\", \"format\": \",\", \"title\": \"# of records\", \"type\": \"quantitative\"}, {\"field\": \"column_name\", \"title\": \"Column name\", \"type\": \"nominal\"}, {\"field\": \"total_null_rows\", \"format\": \",\", \"title\": \"# of nulls\", \"type\": \"quantitative\"}, {\"field\": \"completeness\", \"format\": \".1%\", \"type\": \"quantitative\"}], \"x\": {\"axis\": {\"labelAngle\": 20}, \"field\": \"column_name\", \"sort\": {\"field\": \"mean_comp\", \"order\": \"descending\"}, \"title\": \"Column name\", \"type\": \"nominal\"}, \"y\": {\"field\": \"source_dataset\", \"title\": \"Source dataset\", \"type\": \"nominal\"}}, \"title\": \"Column completeness by source dataset\", \"transform\": [{\"joinaggregate\": [{\"op\": \"mean\", \"field\": \"completeness\", \"as\": \"mean_comp\"}], \"groupby\": [\"column_name\"]}]}, {\"mark\": {\"type\": \"text\"}, \"encoding\": {\"color\": {\"condition\": {\"test\": \"datum['completeness'] < 0.5\", \"value\": \"white\"}, \"value\": \"black\"}, \"text\": {\"field\": \"completeness\", \"format\": \".0%\", \"type\": \"quantitative\"}, \"x\": {\"axis\": {\"labelAngle\": 0}, \"field\": \"column_name\", \"sort\": {\"field\": \"mean_comp\", \"order\": \"descending\"}, \"type\": \"nominal\"}, \"y\": {\"field\": \"source_dataset\", \"type\": \"nominal\"}}, \"transform\": [{\"joinaggregate\": [{\"op\": \"mean\", \"field\": \"completeness\", \"as\": \"mean_comp\"}], \"groupby\": [\"column_name\"]}]}], \"data\": {\"name\": \"data-3c49970cc0ec9c32e2509f8e79608056\"}, \"height\": {\"step\": 40}, \"width\": {\"step\": 40}, \"$schema\": \"https://vega.github.io/schema/vega-lite/v5.9.3.json\", \"datasets\": {\"data-3c49970cc0ec9c32e2509f8e79608056\": [{\"source_dataset\": \"input_data_1\", \"column_name\": \"unique_id\", \"total_null_rows\": 0, \"total_rows_inc_nulls\": 1000, \"completeness\": 1.0}, {\"source_dataset\": \"input_data_1\", \"column_name\": \"first_name\", \"total_null_rows\": 169, \"total_rows_inc_nulls\": 1000, \"completeness\": 0.8309999704360962}, {\"source_dataset\": \"input_data_1\", \"column_name\": \"surname\", \"total_null_rows\": 181, \"total_rows_inc_nulls\": 1000, \"completeness\": 0.8190000057220459}, {\"source_dataset\": \"input_data_1\", \"column_name\": \"dob\", \"total_null_rows\": 0, \"total_rows_inc_nulls\": 1000, \"completeness\": 1.0}, {\"source_dataset\": \"input_data_1\", \"column_name\": \"city\", \"total_null_rows\": 187, \"total_rows_inc_nulls\": 1000, \"completeness\": 0.8130000233650208}, {\"source_dataset\": \"input_data_1\", \"column_name\": \"email\", \"total_null_rows\": 211, \"total_rows_inc_nulls\": 1000, \"completeness\": 0.7889999747276306}]}}, {\"mode\": \"vega-lite\"});\n",
       "</script>"
      ],
      "text/plain": [
       "alt.LayerChart(...)"
      ]
     },
     "execution_count": 3,
     "metadata": {},
     "output_type": "execute_result"
    }
   ],
   "source": [
    "db_api = DuckDBAPI()\n",
    "completeness_chart(df, db_api=db_api)"
   ]
  },
  {
   "cell_type": "markdown",
   "id": "6644e2cc-28b6-484a-8368-42f0afdde688",
   "metadata": {},
   "source": [
    "# Value Distributions"
   ]
  },
  {
   "cell_type": "code",
   "execution_count": 5,
   "id": "6d0dbb4b-7002-4056-811c-f575ed166c8a",
   "metadata": {},
   "outputs": [
    {
     "data": {
      "text/html": [
       "\n",
       "<style>\n",
       "  #altair-viz-aa5f3e658d6e4c168e1b8f0d96b0dbed.vega-embed {\n",
       "    width: 100%;\n",
       "    display: flex;\n",
       "  }\n",
       "\n",
       "  #altair-viz-aa5f3e658d6e4c168e1b8f0d96b0dbed.vega-embed details,\n",
       "  #altair-viz-aa5f3e658d6e4c168e1b8f0d96b0dbed.vega-embed details summary {\n",
       "    position: relative;\n",
       "  }\n",
       "</style>\n",
       "<div id=\"altair-viz-aa5f3e658d6e4c168e1b8f0d96b0dbed\"></div>\n",
       "<script type=\"text/javascript\">\n",
       "  var VEGA_DEBUG = (typeof VEGA_DEBUG == \"undefined\") ? {} : VEGA_DEBUG;\n",
       "  (function(spec, embedOpt){\n",
       "    let outputDiv = document.currentScript.previousElementSibling;\n",
       "    if (outputDiv.id !== \"altair-viz-aa5f3e658d6e4c168e1b8f0d96b0dbed\") {\n",
       "      outputDiv = document.getElementById(\"altair-viz-aa5f3e658d6e4c168e1b8f0d96b0dbed\");\n",
       "    }\n",
       "\n",
       "    const paths = {\n",
       "      \"vega\": \"https://cdn.jsdelivr.net/npm/vega@5?noext\",\n",
       "      \"vega-lib\": \"https://cdn.jsdelivr.net/npm/vega-lib?noext\",\n",
       "      \"vega-lite\": \"https://cdn.jsdelivr.net/npm/vega-lite@5.20.1?noext\",\n",
       "      \"vega-embed\": \"https://cdn.jsdelivr.net/npm/vega-embed@6?noext\",\n",
       "    };\n",
       "\n",
       "    function maybeLoadScript(lib, version) {\n",
       "      var key = `${lib.replace(\"-\", \"\")}_version`;\n",
       "      return (VEGA_DEBUG[key] == version) ?\n",
       "        Promise.resolve(paths[lib]) :\n",
       "        new Promise(function(resolve, reject) {\n",
       "          var s = document.createElement('script');\n",
       "          document.getElementsByTagName(\"head\")[0].appendChild(s);\n",
       "          s.async = true;\n",
       "          s.onload = () => {\n",
       "            VEGA_DEBUG[key] = version;\n",
       "            return resolve(paths[lib]);\n",
       "          };\n",
       "          s.onerror = () => reject(`Error loading script: ${paths[lib]}`);\n",
       "          s.src = paths[lib];\n",
       "        });\n",
       "    }\n",
       "\n",
       "    function showError(err) {\n",
       "      outputDiv.innerHTML = `<div class=\"error\" style=\"color:red;\">${err}</div>`;\n",
       "      throw err;\n",
       "    }\n",
       "\n",
       "    function displayChart(vegaEmbed) {\n",
       "      vegaEmbed(outputDiv, spec, embedOpt)\n",
       "        .catch(err => showError(`Javascript Error: ${err.message}<br>This usually means there's a typo in your chart specification. See the javascript console for the full traceback.`));\n",
       "    }\n",
       "\n",
       "    if(typeof define === \"function\" && define.amd) {\n",
       "      requirejs.config({paths});\n",
       "      let deps = [\"vega-embed\"];\n",
       "      require(deps, displayChart, err => showError(`Error loading script: ${err.message}`));\n",
       "    } else {\n",
       "      maybeLoadScript(\"vega\", \"5\")\n",
       "        .then(() => maybeLoadScript(\"vega-lite\", \"5.20.1\"))\n",
       "        .then(() => maybeLoadScript(\"vega-embed\", \"6\"))\n",
       "        .catch(showError)\n",
       "        .then(() => displayChart(vegaEmbed));\n",
       "    }\n",
       "  })({\"config\": {\"view\": {\"continuousWidth\": 400, \"continuousHeight\": 300}}, \"vconcat\": [{\"hconcat\": [{\"mark\": {\"type\": \"line\", \"interpolate\": \"step-before\"}, \"data\": {\"values\": [{\"percentile_ex_nulls\": 0.0, \"percentile_inc_nulls\": 0.0, \"value_count\": 1, \"group_name\": \"_unique_id_\", \"total_non_null_rows\": 1000, \"total_rows_inc_nulls\": 1000, \"sum_tokens_in_value_count_group\": 1000, \"distinct_value_count\": 1000}, {\"percentile_ex_nulls\": 1.0, \"percentile_inc_nulls\": 1.0, \"value_count\": 1, \"group_name\": \"_unique_id_\", \"total_non_null_rows\": 1000, \"total_rows_inc_nulls\": 1000, \"sum_tokens_in_value_count_group\": 1000, \"distinct_value_count\": 1000}]}, \"encoding\": {\"tooltip\": [{\"field\": \"value_count\", \"type\": \"quantitative\"}, {\"field\": \"percentile_ex_nulls\", \"type\": \"quantitative\"}, {\"field\": \"percentile_inc_nulls\", \"type\": \"quantitative\"}, {\"field\": \"total_non_null_rows\", \"type\": \"quantitative\"}, {\"field\": \"total_rows_inc_nulls\", \"type\": \"quantitative\"}], \"x\": {\"field\": \"percentile_ex_nulls\", \"sort\": \"descending\", \"title\": \"Percentile\", \"type\": \"quantitative\"}, \"y\": {\"field\": \"value_count\", \"title\": \"Count of values\", \"type\": \"quantitative\"}}, \"title\": {\"text\": \"Distribution of counts of values in column \\\"unique_id\\\"\", \"subtitle\": \"In this col, 0 values (0.0%) are null and there are 1000 distinct values\"}}, {\"mark\": \"bar\", \"data\": {\"values\": [{\"value_count\": 1, \"group_name\": \"_unique_id_\", \"value\": \"5\", \"total_non_null_rows\": 1000, \"total_rows_inc_nulls\": 1000, \"distinct_value_count\": 1000}, {\"value_count\": 1, \"group_name\": \"_unique_id_\", \"value\": \"9\", \"total_non_null_rows\": 1000, \"total_rows_inc_nulls\": 1000, \"distinct_value_count\": 1000}, {\"value_count\": 1, \"group_name\": \"_unique_id_\", \"value\": \"14\", \"total_non_null_rows\": 1000, \"total_rows_inc_nulls\": 1000, \"distinct_value_count\": 1000}, {\"value_count\": 1, \"group_name\": \"_unique_id_\", \"value\": \"17\", \"total_non_null_rows\": 1000, \"total_rows_inc_nulls\": 1000, \"distinct_value_count\": 1000}, {\"value_count\": 1, \"group_name\": \"_unique_id_\", \"value\": \"30\", \"total_non_null_rows\": 1000, \"total_rows_inc_nulls\": 1000, \"distinct_value_count\": 1000}, {\"value_count\": 1, \"group_name\": \"_unique_id_\", \"value\": \"44\", \"total_non_null_rows\": 1000, \"total_rows_inc_nulls\": 1000, \"distinct_value_count\": 1000}, {\"value_count\": 1, \"group_name\": \"_unique_id_\", \"value\": \"65\", \"total_non_null_rows\": 1000, \"total_rows_inc_nulls\": 1000, \"distinct_value_count\": 1000}, {\"value_count\": 1, \"group_name\": \"_unique_id_\", \"value\": \"75\", \"total_non_null_rows\": 1000, \"total_rows_inc_nulls\": 1000, \"distinct_value_count\": 1000}, {\"value_count\": 1, \"group_name\": \"_unique_id_\", \"value\": \"79\", \"total_non_null_rows\": 1000, \"total_rows_inc_nulls\": 1000, \"distinct_value_count\": 1000}, {\"value_count\": 1, \"group_name\": \"_unique_id_\", \"value\": \"104\", \"total_non_null_rows\": 1000, \"total_rows_inc_nulls\": 1000, \"distinct_value_count\": 1000}]}, \"encoding\": {\"tooltip\": [{\"field\": \"value\", \"type\": \"nominal\"}, {\"field\": \"value_count\", \"type\": \"quantitative\"}, {\"field\": \"total_non_null_rows\", \"type\": \"quantitative\"}, {\"field\": \"total_rows_inc_nulls\", \"type\": \"quantitative\"}], \"x\": {\"field\": \"value\", \"sort\": \"-y\", \"title\": null, \"type\": \"nominal\"}, \"y\": {\"field\": \"value_count\", \"title\": \"Value count\", \"type\": \"quantitative\"}}, \"title\": \"Top 10 values by value count\"}, {\"mark\": \"bar\", \"data\": {\"values\": [{\"value_count\": 1, \"group_name\": \"_unique_id_\", \"value\": \"5\", \"total_non_null_rows\": 1000, \"total_rows_inc_nulls\": 1000, \"distinct_value_count\": 1000}, {\"value_count\": 1, \"group_name\": \"_unique_id_\", \"value\": \"9\", \"total_non_null_rows\": 1000, \"total_rows_inc_nulls\": 1000, \"distinct_value_count\": 1000}, {\"value_count\": 1, \"group_name\": \"_unique_id_\", \"value\": \"14\", \"total_non_null_rows\": 1000, \"total_rows_inc_nulls\": 1000, \"distinct_value_count\": 1000}, {\"value_count\": 1, \"group_name\": \"_unique_id_\", \"value\": \"17\", \"total_non_null_rows\": 1000, \"total_rows_inc_nulls\": 1000, \"distinct_value_count\": 1000}, {\"value_count\": 1, \"group_name\": \"_unique_id_\", \"value\": \"30\", \"total_non_null_rows\": 1000, \"total_rows_inc_nulls\": 1000, \"distinct_value_count\": 1000}]}, \"encoding\": {\"tooltip\": [{\"field\": \"value\", \"type\": \"nominal\"}, {\"field\": \"value_count\", \"type\": \"quantitative\"}, {\"field\": \"total_non_null_rows\", \"type\": \"quantitative\"}, {\"field\": \"total_rows_inc_nulls\", \"type\": \"quantitative\"}], \"x\": {\"field\": \"value\", \"sort\": \"-y\", \"title\": null, \"type\": \"nominal\"}, \"y\": {\"field\": \"value_count\", \"scale\": {\"domain\": [0, 1]}, \"title\": \"Value count\", \"type\": \"quantitative\"}}, \"title\": \"Bottom 5 values by value count\"}]}, {\"hconcat\": [{\"mark\": {\"type\": \"line\", \"interpolate\": \"step-before\"}, \"data\": {\"values\": [{\"percentile_ex_nulls\": 0.966305673122406, \"percentile_inc_nulls\": 0.972000002861023, \"value_count\": 28, \"group_name\": \"_first_name_\", \"total_non_null_rows\": 831, \"total_rows_inc_nulls\": 1000, \"sum_tokens_in_value_count_group\": 28, \"distinct_value_count\": 335}, {\"percentile_ex_nulls\": 0.9470517635345459, \"percentile_inc_nulls\": 0.9559999704360962, \"value_count\": 16, \"group_name\": \"_first_name_\", \"total_non_null_rows\": 831, \"total_rows_inc_nulls\": 1000, \"sum_tokens_in_value_count_group\": 16, \"distinct_value_count\": 335}, {\"percentile_ex_nulls\": 0.9290012121200562, \"percentile_inc_nulls\": 0.9409999847412109, \"value_count\": 15, \"group_name\": \"_first_name_\", \"total_non_null_rows\": 831, \"total_rows_inc_nulls\": 1000, \"sum_tokens_in_value_count_group\": 15, \"distinct_value_count\": 335}, {\"percentile_ex_nulls\": 0.9121540188789368, \"percentile_inc_nulls\": 0.9269999861717224, \"value_count\": 14, \"group_name\": \"_first_name_\", \"total_non_null_rows\": 831, \"total_rows_inc_nulls\": 1000, \"sum_tokens_in_value_count_group\": 14, \"distinct_value_count\": 335}, {\"percentile_ex_nulls\": 0.8965102434158325, \"percentile_inc_nulls\": 0.9139999747276306, \"value_count\": 13, \"group_name\": \"_first_name_\", \"total_non_null_rows\": 831, \"total_rows_inc_nulls\": 1000, \"sum_tokens_in_value_count_group\": 13, \"distinct_value_count\": 335}, {\"percentile_ex_nulls\": 0.8820698261260986, \"percentile_inc_nulls\": 0.9020000100135803, \"value_count\": 12, \"group_name\": \"_first_name_\", \"total_non_null_rows\": 831, \"total_rows_inc_nulls\": 1000, \"sum_tokens_in_value_count_group\": 12, \"distinct_value_count\": 335}, {\"percentile_ex_nulls\": 0.8423585891723633, \"percentile_inc_nulls\": 0.8690000176429749, \"value_count\": 11, \"group_name\": \"_first_name_\", \"total_non_null_rows\": 831, \"total_rows_inc_nulls\": 1000, \"sum_tokens_in_value_count_group\": 33, \"distinct_value_count\": 335}, {\"percentile_ex_nulls\": 0.818291187286377, \"percentile_inc_nulls\": 0.8489999771118164, \"value_count\": 10, \"group_name\": \"_first_name_\", \"total_non_null_rows\": 831, \"total_rows_inc_nulls\": 1000, \"sum_tokens_in_value_count_group\": 20, \"distinct_value_count\": 335}, {\"percentile_ex_nulls\": 0.7641395926475525, \"percentile_inc_nulls\": 0.8040000200271606, \"value_count\": 9, \"group_name\": \"_first_name_\", \"total_non_null_rows\": 831, \"total_rows_inc_nulls\": 1000, \"sum_tokens_in_value_count_group\": 45, \"distinct_value_count\": 335}, {\"percentile_ex_nulls\": 0.7352586984634399, \"percentile_inc_nulls\": 0.7799999713897705, \"value_count\": 8, \"group_name\": \"_first_name_\", \"total_non_null_rows\": 831, \"total_rows_inc_nulls\": 1000, \"sum_tokens_in_value_count_group\": 24, \"distinct_value_count\": 335}, {\"percentile_ex_nulls\": 0.701564371585846, \"percentile_inc_nulls\": 0.7519999742507935, \"value_count\": 7, \"group_name\": \"_first_name_\", \"total_non_null_rows\": 831, \"total_rows_inc_nulls\": 1000, \"sum_tokens_in_value_count_group\": 28, \"distinct_value_count\": 335}, {\"percentile_ex_nulls\": 0.6293622255325317, \"percentile_inc_nulls\": 0.6920000314712524, \"value_count\": 6, \"group_name\": \"_first_name_\", \"total_non_null_rows\": 831, \"total_rows_inc_nulls\": 1000, \"sum_tokens_in_value_count_group\": 60, \"distinct_value_count\": 335}, {\"percentile_ex_nulls\": 0.539109468460083, \"percentile_inc_nulls\": 0.6169999837875366, \"value_count\": 5, \"group_name\": \"_first_name_\", \"total_non_null_rows\": 831, \"total_rows_inc_nulls\": 1000, \"sum_tokens_in_value_count_group\": 75, \"distinct_value_count\": 335}, {\"percentile_ex_nulls\": 0.42358607053756714, \"percentile_inc_nulls\": 0.5210000276565552, \"value_count\": 4, \"group_name\": \"_first_name_\", \"total_non_null_rows\": 831, \"total_rows_inc_nulls\": 1000, \"sum_tokens_in_value_count_group\": 96, \"distinct_value_count\": 335}, {\"percentile_ex_nulls\": 0.33694344758987427, \"percentile_inc_nulls\": 0.4490000009536743, \"value_count\": 3, \"group_name\": \"_first_name_\", \"total_non_null_rows\": 831, \"total_rows_inc_nulls\": 1000, \"sum_tokens_in_value_count_group\": 72, \"distinct_value_count\": 335}, {\"percentile_ex_nulls\": 0.23826712369918823, \"percentile_inc_nulls\": 0.3669999837875366, \"value_count\": 2, \"group_name\": \"_first_name_\", \"total_non_null_rows\": 831, \"total_rows_inc_nulls\": 1000, \"sum_tokens_in_value_count_group\": 82, \"distinct_value_count\": 335}, {\"percentile_ex_nulls\": 0.0, \"percentile_inc_nulls\": 0.1690000295639038, \"value_count\": 1, \"group_name\": \"_first_name_\", \"total_non_null_rows\": 831, \"total_rows_inc_nulls\": 1000, \"sum_tokens_in_value_count_group\": 198, \"distinct_value_count\": 335}, {\"percentile_ex_nulls\": 1.0, \"percentile_inc_nulls\": 1.0, \"value_count\": 28, \"group_name\": \"_first_name_\", \"total_non_null_rows\": 831, \"total_rows_inc_nulls\": 1000, \"sum_tokens_in_value_count_group\": 28, \"distinct_value_count\": 335}]}, \"encoding\": {\"tooltip\": [{\"field\": \"value_count\", \"type\": \"quantitative\"}, {\"field\": \"percentile_ex_nulls\", \"type\": \"quantitative\"}, {\"field\": \"percentile_inc_nulls\", \"type\": \"quantitative\"}, {\"field\": \"total_non_null_rows\", \"type\": \"quantitative\"}, {\"field\": \"total_rows_inc_nulls\", \"type\": \"quantitative\"}], \"x\": {\"field\": \"percentile_ex_nulls\", \"sort\": \"descending\", \"title\": \"Percentile\", \"type\": \"quantitative\"}, \"y\": {\"field\": \"value_count\", \"title\": \"Count of values\", \"type\": \"quantitative\"}}, \"title\": {\"text\": \"Distribution of counts of values in column \\\"first_name\\\"\", \"subtitle\": \"In this col, 169 values (16.9%) are null and there are 335 distinct values\"}}, {\"mark\": \"bar\", \"data\": {\"values\": [{\"value_count\": 28, \"group_name\": \"_first_name_\", \"value\": \"Oliver\", \"total_non_null_rows\": 831, \"total_rows_inc_nulls\": 1000, \"distinct_value_count\": 335}, {\"value_count\": 16, \"group_name\": \"_first_name_\", \"value\": \"Jacob\", \"total_non_null_rows\": 831, \"total_rows_inc_nulls\": 1000, \"distinct_value_count\": 335}, {\"value_count\": 15, \"group_name\": \"_first_name_\", \"value\": \"Freddie\", \"total_non_null_rows\": 831, \"total_rows_inc_nulls\": 1000, \"distinct_value_count\": 335}, {\"value_count\": 14, \"group_name\": \"_first_name_\", \"value\": \"Olivia\", \"total_non_null_rows\": 831, \"total_rows_inc_nulls\": 1000, \"distinct_value_count\": 335}, {\"value_count\": 13, \"group_name\": \"_first_name_\", \"value\": \"James\", \"total_non_null_rows\": 831, \"total_rows_inc_nulls\": 1000, \"distinct_value_count\": 335}, {\"value_count\": 12, \"group_name\": \"_first_name_\", \"value\": \"George\", \"total_non_null_rows\": 831, \"total_rows_inc_nulls\": 1000, \"distinct_value_count\": 335}, {\"value_count\": 11, \"group_name\": \"_first_name_\", \"value\": \"Alfie\", \"total_non_null_rows\": 831, \"total_rows_inc_nulls\": 1000, \"distinct_value_count\": 335}, {\"value_count\": 11, \"group_name\": \"_first_name_\", \"value\": \"Elizabeth\", \"total_non_null_rows\": 831, \"total_rows_inc_nulls\": 1000, \"distinct_value_count\": 335}, {\"value_count\": 11, \"group_name\": \"_first_name_\", \"value\": \"Jessica\", \"total_non_null_rows\": 831, \"total_rows_inc_nulls\": 1000, \"distinct_value_count\": 335}, {\"value_count\": 10, \"group_name\": \"_first_name_\", \"value\": \"Logan\", \"total_non_null_rows\": 831, \"total_rows_inc_nulls\": 1000, \"distinct_value_count\": 335}]}, \"encoding\": {\"tooltip\": [{\"field\": \"value\", \"type\": \"nominal\"}, {\"field\": \"value_count\", \"type\": \"quantitative\"}, {\"field\": \"total_non_null_rows\", \"type\": \"quantitative\"}, {\"field\": \"total_rows_inc_nulls\", \"type\": \"quantitative\"}], \"x\": {\"field\": \"value\", \"sort\": \"-y\", \"title\": null, \"type\": \"nominal\"}, \"y\": {\"field\": \"value_count\", \"title\": \"Value count\", \"type\": \"quantitative\"}}, \"title\": \"Top 10 values by value count\"}, {\"mark\": \"bar\", \"data\": {\"values\": [{\"value_count\": 1, \"group_name\": \"_first_name_\", \"value\": \"iElliot\", \"total_non_null_rows\": 831, \"total_rows_inc_nulls\": 1000, \"distinct_value_count\": 335}, {\"value_count\": 1, \"group_name\": \"_first_name_\", \"value\": \"Hayler\", \"total_non_null_rows\": 831, \"total_rows_inc_nulls\": 1000, \"distinct_value_count\": 335}, {\"value_count\": 1, \"group_name\": \"_first_name_\", \"value\": \"Lucas\", \"total_non_null_rows\": 831, \"total_rows_inc_nulls\": 1000, \"distinct_value_count\": 335}, {\"value_count\": 1, \"group_name\": \"_first_name_\", \"value\": \"eTheodroe\", \"total_non_null_rows\": 831, \"total_rows_inc_nulls\": 1000, \"distinct_value_count\": 335}, {\"value_count\": 1, \"group_name\": \"_first_name_\", \"value\": \"Fera\", \"total_non_null_rows\": 831, \"total_rows_inc_nulls\": 1000, \"distinct_value_count\": 335}]}, \"encoding\": {\"tooltip\": [{\"field\": \"value\", \"type\": \"nominal\"}, {\"field\": \"value_count\", \"type\": \"quantitative\"}, {\"field\": \"total_non_null_rows\", \"type\": \"quantitative\"}, {\"field\": \"total_rows_inc_nulls\", \"type\": \"quantitative\"}], \"x\": {\"field\": \"value\", \"sort\": \"-y\", \"title\": null, \"type\": \"nominal\"}, \"y\": {\"field\": \"value_count\", \"scale\": {\"domain\": [0, 28]}, \"title\": \"Value count\", \"type\": \"quantitative\"}}, \"title\": \"Bottom 5 values by value count\"}]}, {\"hconcat\": [{\"mark\": {\"type\": \"line\", \"interpolate\": \"step-before\"}, \"data\": {\"values\": [{\"percentile_ex_nulls\": 0.9719169735908508, \"percentile_inc_nulls\": 0.9769999980926514, \"value_count\": 23, \"group_name\": \"_surname_\", \"total_non_null_rows\": 819, \"total_rows_inc_nulls\": 1000, \"sum_tokens_in_value_count_group\": 23, \"distinct_value_count\": 371}, {\"percentile_ex_nulls\": 0.9377289414405823, \"percentile_inc_nulls\": 0.9490000009536743, \"value_count\": 14, \"group_name\": \"_surname_\", \"total_non_null_rows\": 819, \"total_rows_inc_nulls\": 1000, \"sum_tokens_in_value_count_group\": 28, \"distinct_value_count\": 371}, {\"percentile_ex_nulls\": 0.9059829115867615, \"percentile_inc_nulls\": 0.9229999780654907, \"value_count\": 13, \"group_name\": \"_surname_\", \"total_non_null_rows\": 819, \"total_rows_inc_nulls\": 1000, \"sum_tokens_in_value_count_group\": 26, \"distinct_value_count\": 371}, {\"percentile_ex_nulls\": 0.891330897808075, \"percentile_inc_nulls\": 0.9110000133514404, \"value_count\": 12, \"group_name\": \"_surname_\", \"total_non_null_rows\": 819, \"total_rows_inc_nulls\": 1000, \"sum_tokens_in_value_count_group\": 12, \"distinct_value_count\": 371}, {\"percentile_ex_nulls\": 0.8778998851776123, \"percentile_inc_nulls\": 0.8999999761581421, \"value_count\": 11, \"group_name\": \"_surname_\", \"total_non_null_rows\": 819, \"total_rows_inc_nulls\": 1000, \"sum_tokens_in_value_count_group\": 11, \"distinct_value_count\": 371}, {\"percentile_ex_nulls\": 0.8534798622131348, \"percentile_inc_nulls\": 0.8799999952316284, \"value_count\": 10, \"group_name\": \"_surname_\", \"total_non_null_rows\": 819, \"total_rows_inc_nulls\": 1000, \"sum_tokens_in_value_count_group\": 20, \"distinct_value_count\": 371}, {\"percentile_ex_nulls\": 0.831501841545105, \"percentile_inc_nulls\": 0.8619999885559082, \"value_count\": 9, \"group_name\": \"_surname_\", \"total_non_null_rows\": 819, \"total_rows_inc_nulls\": 1000, \"sum_tokens_in_value_count_group\": 18, \"distinct_value_count\": 371}, {\"percentile_ex_nulls\": 0.7728937864303589, \"percentile_inc_nulls\": 0.8140000104904175, \"value_count\": 8, \"group_name\": \"_surname_\", \"total_non_null_rows\": 819, \"total_rows_inc_nulls\": 1000, \"sum_tokens_in_value_count_group\": 48, \"distinct_value_count\": 371}, {\"percentile_ex_nulls\": 0.721611738204956, \"percentile_inc_nulls\": 0.7720000147819519, \"value_count\": 7, \"group_name\": \"_surname_\", \"total_non_null_rows\": 819, \"total_rows_inc_nulls\": 1000, \"sum_tokens_in_value_count_group\": 42, \"distinct_value_count\": 371}, {\"percentile_ex_nulls\": 0.66300368309021, \"percentile_inc_nulls\": 0.7239999771118164, \"value_count\": 6, \"group_name\": \"_surname_\", \"total_non_null_rows\": 819, \"total_rows_inc_nulls\": 1000, \"sum_tokens_in_value_count_group\": 48, \"distinct_value_count\": 371}, {\"percentile_ex_nulls\": 0.6080585718154907, \"percentile_inc_nulls\": 0.6790000200271606, \"value_count\": 5, \"group_name\": \"_surname_\", \"total_non_null_rows\": 819, \"total_rows_inc_nulls\": 1000, \"sum_tokens_in_value_count_group\": 45, \"distinct_value_count\": 371}, {\"percentile_ex_nulls\": 0.5054944753646851, \"percentile_inc_nulls\": 0.5950000286102295, \"value_count\": 4, \"group_name\": \"_surname_\", \"total_non_null_rows\": 819, \"total_rows_inc_nulls\": 1000, \"sum_tokens_in_value_count_group\": 84, \"distinct_value_count\": 371}, {\"percentile_ex_nulls\": 0.39560437202453613, \"percentile_inc_nulls\": 0.5049999952316284, \"value_count\": 3, \"group_name\": \"_surname_\", \"total_non_null_rows\": 819, \"total_rows_inc_nulls\": 1000, \"sum_tokens_in_value_count_group\": 90, \"distinct_value_count\": 371}, {\"percentile_ex_nulls\": 0.28815627098083496, \"percentile_inc_nulls\": 0.4169999957084656, \"value_count\": 2, \"group_name\": \"_surname_\", \"total_non_null_rows\": 819, \"total_rows_inc_nulls\": 1000, \"sum_tokens_in_value_count_group\": 88, \"distinct_value_count\": 371}, {\"percentile_ex_nulls\": 0.0, \"percentile_inc_nulls\": 0.1809999942779541, \"value_count\": 1, \"group_name\": \"_surname_\", \"total_non_null_rows\": 819, \"total_rows_inc_nulls\": 1000, \"sum_tokens_in_value_count_group\": 236, \"distinct_value_count\": 371}, {\"percentile_ex_nulls\": 1.0, \"percentile_inc_nulls\": 1.0, \"value_count\": 23, \"group_name\": \"_surname_\", \"total_non_null_rows\": 819, \"total_rows_inc_nulls\": 1000, \"sum_tokens_in_value_count_group\": 23, \"distinct_value_count\": 371}]}, \"encoding\": {\"tooltip\": [{\"field\": \"value_count\", \"type\": \"quantitative\"}, {\"field\": \"percentile_ex_nulls\", \"type\": \"quantitative\"}, {\"field\": \"percentile_inc_nulls\", \"type\": \"quantitative\"}, {\"field\": \"total_non_null_rows\", \"type\": \"quantitative\"}, {\"field\": \"total_rows_inc_nulls\", \"type\": \"quantitative\"}], \"x\": {\"field\": \"percentile_ex_nulls\", \"sort\": \"descending\", \"title\": \"Percentile\", \"type\": \"quantitative\"}, \"y\": {\"field\": \"value_count\", \"title\": \"Count of values\", \"type\": \"quantitative\"}}, \"title\": {\"text\": \"Distribution of counts of values in column \\\"surname\\\"\", \"subtitle\": \"In this col, 181 values (18.1%) are null and there are 371 distinct values\"}}, {\"mark\": \"bar\", \"data\": {\"values\": [{\"value_count\": 23, \"group_name\": \"_surname_\", \"value\": \"Jones\", \"total_non_null_rows\": 819, \"total_rows_inc_nulls\": 1000, \"distinct_value_count\": 371}, {\"value_count\": 14, \"group_name\": \"_surname_\", \"value\": \"Davies\", \"total_non_null_rows\": 819, \"total_rows_inc_nulls\": 1000, \"distinct_value_count\": 371}, {\"value_count\": 14, \"group_name\": \"_surname_\", \"value\": \"Taylor\", \"total_non_null_rows\": 819, \"total_rows_inc_nulls\": 1000, \"distinct_value_count\": 371}, {\"value_count\": 13, \"group_name\": \"_surname_\", \"value\": \"Campbell\", \"total_non_null_rows\": 819, \"total_rows_inc_nulls\": 1000, \"distinct_value_count\": 371}, {\"value_count\": 13, \"group_name\": \"_surname_\", \"value\": \"Hall\", \"total_non_null_rows\": 819, \"total_rows_inc_nulls\": 1000, \"distinct_value_count\": 371}, {\"value_count\": 12, \"group_name\": \"_surname_\", \"value\": \"Morgan\", \"total_non_null_rows\": 819, \"total_rows_inc_nulls\": 1000, \"distinct_value_count\": 371}, {\"value_count\": 11, \"group_name\": \"_surname_\", \"value\": \"Smith\", \"total_non_null_rows\": 819, \"total_rows_inc_nulls\": 1000, \"distinct_value_count\": 371}, {\"value_count\": 10, \"group_name\": \"_surname_\", \"value\": \"Russell\", \"total_non_null_rows\": 819, \"total_rows_inc_nulls\": 1000, \"distinct_value_count\": 371}, {\"value_count\": 10, \"group_name\": \"_surname_\", \"value\": \"King\", \"total_non_null_rows\": 819, \"total_rows_inc_nulls\": 1000, \"distinct_value_count\": 371}, {\"value_count\": 9, \"group_name\": \"_surname_\", \"value\": \"Dixon\", \"total_non_null_rows\": 819, \"total_rows_inc_nulls\": 1000, \"distinct_value_count\": 371}]}, \"encoding\": {\"tooltip\": [{\"field\": \"value\", \"type\": \"nominal\"}, {\"field\": \"value_count\", \"type\": \"quantitative\"}, {\"field\": \"total_non_null_rows\", \"type\": \"quantitative\"}, {\"field\": \"total_rows_inc_nulls\", \"type\": \"quantitative\"}], \"x\": {\"field\": \"value\", \"sort\": \"-y\", \"title\": null, \"type\": \"nominal\"}, \"y\": {\"field\": \"value_count\", \"title\": \"Value count\", \"type\": \"quantitative\"}}, \"title\": \"Top 10 values by value count\"}, {\"mark\": \"bar\", \"data\": {\"values\": [{\"value_count\": 1, \"group_name\": \"_surname_\", \"value\": \"Sstephens\", \"total_non_null_rows\": 819, \"total_rows_inc_nulls\": 1000, \"distinct_value_count\": 371}, {\"value_count\": 1, \"group_name\": \"_surname_\", \"value\": \"Bron\", \"total_non_null_rows\": 819, \"total_rows_inc_nulls\": 1000, \"distinct_value_count\": 371}, {\"value_count\": 1, \"group_name\": \"_surname_\", \"value\": \"Atkinnos\", \"total_non_null_rows\": 819, \"total_rows_inc_nulls\": 1000, \"distinct_value_count\": 371}, {\"value_count\": 1, \"group_name\": \"_surname_\", \"value\": \"BBird\", \"total_non_null_rows\": 819, \"total_rows_inc_nulls\": 1000, \"distinct_value_count\": 371}, {\"value_count\": 1, \"group_name\": \"_surname_\", \"value\": \"Griffihs\", \"total_non_null_rows\": 819, \"total_rows_inc_nulls\": 1000, \"distinct_value_count\": 371}]}, \"encoding\": {\"tooltip\": [{\"field\": \"value\", \"type\": \"nominal\"}, {\"field\": \"value_count\", \"type\": \"quantitative\"}, {\"field\": \"total_non_null_rows\", \"type\": \"quantitative\"}, {\"field\": \"total_rows_inc_nulls\", \"type\": \"quantitative\"}], \"x\": {\"field\": \"value\", \"sort\": \"-y\", \"title\": null, \"type\": \"nominal\"}, \"y\": {\"field\": \"value_count\", \"scale\": {\"domain\": [0, 23]}, \"title\": \"Value count\", \"type\": \"quantitative\"}}, \"title\": \"Bottom 5 values by value count\"}]}, {\"hconcat\": [{\"mark\": {\"type\": \"line\", \"interpolate\": \"step-before\"}, \"data\": {\"values\": [{\"percentile_ex_nulls\": 0.9099999666213989, \"percentile_inc_nulls\": 0.9099999666213989, \"value_count\": 6, \"group_name\": \"_dob_\", \"total_non_null_rows\": 1000, \"total_rows_inc_nulls\": 1000, \"sum_tokens_in_value_count_group\": 90, \"distinct_value_count\": 565}, {\"percentile_ex_nulls\": 0.8050000071525574, \"percentile_inc_nulls\": 0.8050000071525574, \"value_count\": 5, \"group_name\": \"_dob_\", \"total_non_null_rows\": 1000, \"total_rows_inc_nulls\": 1000, \"sum_tokens_in_value_count_group\": 105, \"distinct_value_count\": 565}, {\"percentile_ex_nulls\": 0.652999997138977, \"percentile_inc_nulls\": 0.652999997138977, \"value_count\": 4, \"group_name\": \"_dob_\", \"total_non_null_rows\": 1000, \"total_rows_inc_nulls\": 1000, \"sum_tokens_in_value_count_group\": 152, \"distinct_value_count\": 565}, {\"percentile_ex_nulls\": 0.5090000033378601, \"percentile_inc_nulls\": 0.5090000033378601, \"value_count\": 3, \"group_name\": \"_dob_\", \"total_non_null_rows\": 1000, \"total_rows_inc_nulls\": 1000, \"sum_tokens_in_value_count_group\": 144, \"distinct_value_count\": 565}, {\"percentile_ex_nulls\": 0.37699997425079346, \"percentile_inc_nulls\": 0.37699997425079346, \"value_count\": 2, \"group_name\": \"_dob_\", \"total_non_null_rows\": 1000, \"total_rows_inc_nulls\": 1000, \"sum_tokens_in_value_count_group\": 132, \"distinct_value_count\": 565}, {\"percentile_ex_nulls\": 0.0, \"percentile_inc_nulls\": 0.0, \"value_count\": 1, \"group_name\": \"_dob_\", \"total_non_null_rows\": 1000, \"total_rows_inc_nulls\": 1000, \"sum_tokens_in_value_count_group\": 377, \"distinct_value_count\": 565}, {\"percentile_ex_nulls\": 1.0, \"percentile_inc_nulls\": 1.0, \"value_count\": 6, \"group_name\": \"_dob_\", \"total_non_null_rows\": 1000, \"total_rows_inc_nulls\": 1000, \"sum_tokens_in_value_count_group\": 90, \"distinct_value_count\": 565}]}, \"encoding\": {\"tooltip\": [{\"field\": \"value_count\", \"type\": \"quantitative\"}, {\"field\": \"percentile_ex_nulls\", \"type\": \"quantitative\"}, {\"field\": \"percentile_inc_nulls\", \"type\": \"quantitative\"}, {\"field\": \"total_non_null_rows\", \"type\": \"quantitative\"}, {\"field\": \"total_rows_inc_nulls\", \"type\": \"quantitative\"}], \"x\": {\"field\": \"percentile_ex_nulls\", \"sort\": \"descending\", \"title\": \"Percentile\", \"type\": \"quantitative\"}, \"y\": {\"field\": \"value_count\", \"title\": \"Count of values\", \"type\": \"quantitative\"}}, \"title\": {\"text\": \"Distribution of counts of values in column \\\"dob\\\"\", \"subtitle\": \"In this col, 0 values (0.0%) are null and there are 565 distinct values\"}}, {\"mark\": \"bar\", \"data\": {\"values\": [{\"value_count\": 6, \"group_name\": \"_dob_\", \"value\": \"1973-09-29\", \"total_non_null_rows\": 1000, \"total_rows_inc_nulls\": 1000, \"distinct_value_count\": 565}, {\"value_count\": 6, \"group_name\": \"_dob_\", \"value\": \"2011-05-26\", \"total_non_null_rows\": 1000, \"total_rows_inc_nulls\": 1000, \"distinct_value_count\": 565}, {\"value_count\": 6, \"group_name\": \"_dob_\", \"value\": \"2008-02-23\", \"total_non_null_rows\": 1000, \"total_rows_inc_nulls\": 1000, \"distinct_value_count\": 565}, {\"value_count\": 6, \"group_name\": \"_dob_\", \"value\": \"1990-03-08\", \"total_non_null_rows\": 1000, \"total_rows_inc_nulls\": 1000, \"distinct_value_count\": 565}, {\"value_count\": 6, \"group_name\": \"_dob_\", \"value\": \"1972-06-12\", \"total_non_null_rows\": 1000, \"total_rows_inc_nulls\": 1000, \"distinct_value_count\": 565}, {\"value_count\": 6, \"group_name\": \"_dob_\", \"value\": \"1973-03-23\", \"total_non_null_rows\": 1000, \"total_rows_inc_nulls\": 1000, \"distinct_value_count\": 565}, {\"value_count\": 6, \"group_name\": \"_dob_\", \"value\": \"1983-11-06\", \"total_non_null_rows\": 1000, \"total_rows_inc_nulls\": 1000, \"distinct_value_count\": 565}, {\"value_count\": 6, \"group_name\": \"_dob_\", \"value\": \"2002-09-15\", \"total_non_null_rows\": 1000, \"total_rows_inc_nulls\": 1000, \"distinct_value_count\": 565}, {\"value_count\": 6, \"group_name\": \"_dob_\", \"value\": \"2017-01-11\", \"total_non_null_rows\": 1000, \"total_rows_inc_nulls\": 1000, \"distinct_value_count\": 565}, {\"value_count\": 6, \"group_name\": \"_dob_\", \"value\": \"2006-12-21\", \"total_non_null_rows\": 1000, \"total_rows_inc_nulls\": 1000, \"distinct_value_count\": 565}]}, \"encoding\": {\"tooltip\": [{\"field\": \"value\", \"type\": \"nominal\"}, {\"field\": \"value_count\", \"type\": \"quantitative\"}, {\"field\": \"total_non_null_rows\", \"type\": \"quantitative\"}, {\"field\": \"total_rows_inc_nulls\", \"type\": \"quantitative\"}], \"x\": {\"field\": \"value\", \"sort\": \"-y\", \"title\": null, \"type\": \"nominal\"}, \"y\": {\"field\": \"value_count\", \"title\": \"Value count\", \"type\": \"quantitative\"}}, \"title\": \"Top 10 values by value count\"}, {\"mark\": \"bar\", \"data\": {\"values\": [{\"value_count\": 1, \"group_name\": \"_dob_\", \"value\": \"2015-05-04\", \"total_non_null_rows\": 1000, \"total_rows_inc_nulls\": 1000, \"distinct_value_count\": 565}, {\"value_count\": 1, \"group_name\": \"_dob_\", \"value\": \"1971-05-24\", \"total_non_null_rows\": 1000, \"total_rows_inc_nulls\": 1000, \"distinct_value_count\": 565}, {\"value_count\": 1, \"group_name\": \"_dob_\", \"value\": \"1976-08-15\", \"total_non_null_rows\": 1000, \"total_rows_inc_nulls\": 1000, \"distinct_value_count\": 565}, {\"value_count\": 1, \"group_name\": \"_dob_\", \"value\": \"1996-11-10\", \"total_non_null_rows\": 1000, \"total_rows_inc_nulls\": 1000, \"distinct_value_count\": 565}, {\"value_count\": 1, \"group_name\": \"_dob_\", \"value\": \"1987-05-25\", \"total_non_null_rows\": 1000, \"total_rows_inc_nulls\": 1000, \"distinct_value_count\": 565}]}, \"encoding\": {\"tooltip\": [{\"field\": \"value\", \"type\": \"nominal\"}, {\"field\": \"value_count\", \"type\": \"quantitative\"}, {\"field\": \"total_non_null_rows\", \"type\": \"quantitative\"}, {\"field\": \"total_rows_inc_nulls\", \"type\": \"quantitative\"}], \"x\": {\"field\": \"value\", \"sort\": \"-y\", \"title\": null, \"type\": \"nominal\"}, \"y\": {\"field\": \"value_count\", \"scale\": {\"domain\": [0, 6]}, \"title\": \"Value count\", \"type\": \"quantitative\"}}, \"title\": \"Bottom 5 values by value count\"}]}, {\"hconcat\": [{\"mark\": {\"type\": \"line\", \"interpolate\": \"step-before\"}, \"data\": {\"values\": [{\"percentile_ex_nulls\": 0.787207841873169, \"percentile_inc_nulls\": 0.8270000219345093, \"value_count\": 173, \"group_name\": \"_city_\", \"total_non_null_rows\": 813, \"total_rows_inc_nulls\": 1000, \"sum_tokens_in_value_count_group\": 173, \"distinct_value_count\": 218}, {\"percentile_ex_nulls\": 0.7380073666572571, \"percentile_inc_nulls\": 0.7870000004768372, \"value_count\": 40, \"group_name\": \"_city_\", \"total_non_null_rows\": 813, \"total_rows_inc_nulls\": 1000, \"sum_tokens_in_value_count_group\": 40, \"distinct_value_count\": 218}, {\"percentile_ex_nulls\": 0.6974169611930847, \"percentile_inc_nulls\": 0.7540000081062317, \"value_count\": 33, \"group_name\": \"_city_\", \"total_non_null_rows\": 813, \"total_rows_inc_nulls\": 1000, \"sum_tokens_in_value_count_group\": 33, \"distinct_value_count\": 218}, {\"percentile_ex_nulls\": 0.6715867519378662, \"percentile_inc_nulls\": 0.7330000400543213, \"value_count\": 21, \"group_name\": \"_city_\", \"total_non_null_rows\": 813, \"total_rows_inc_nulls\": 1000, \"sum_tokens_in_value_count_group\": 21, \"distinct_value_count\": 218}, {\"percentile_ex_nulls\": 0.6494464874267578, \"percentile_inc_nulls\": 0.7150000333786011, \"value_count\": 18, \"group_name\": \"_city_\", \"total_non_null_rows\": 813, \"total_rows_inc_nulls\": 1000, \"sum_tokens_in_value_count_group\": 18, \"distinct_value_count\": 218}, {\"percentile_ex_nulls\": 0.6076260805130005, \"percentile_inc_nulls\": 0.6809999942779541, \"value_count\": 17, \"group_name\": \"_city_\", \"total_non_null_rows\": 813, \"total_rows_inc_nulls\": 1000, \"sum_tokens_in_value_count_group\": 34, \"distinct_value_count\": 218}, {\"percentile_ex_nulls\": 0.5682656764984131, \"percentile_inc_nulls\": 0.6489999890327454, \"value_count\": 16, \"group_name\": \"_city_\", \"total_non_null_rows\": 813, \"total_rows_inc_nulls\": 1000, \"sum_tokens_in_value_count_group\": 32, \"distinct_value_count\": 218}, {\"percentile_ex_nulls\": 0.5166051387786865, \"percentile_inc_nulls\": 0.6069999933242798, \"value_count\": 14, \"group_name\": \"_city_\", \"total_non_null_rows\": 813, \"total_rows_inc_nulls\": 1000, \"sum_tokens_in_value_count_group\": 42, \"distinct_value_count\": 218}, {\"percentile_ex_nulls\": 0.48462486267089844, \"percentile_inc_nulls\": 0.5809999704360962, \"value_count\": 13, \"group_name\": \"_city_\", \"total_non_null_rows\": 813, \"total_rows_inc_nulls\": 1000, \"sum_tokens_in_value_count_group\": 26, \"distinct_value_count\": 218}, {\"percentile_ex_nulls\": 0.4403443932533264, \"percentile_inc_nulls\": 0.5449999570846558, \"value_count\": 12, \"group_name\": \"_city_\", \"total_non_null_rows\": 813, \"total_rows_inc_nulls\": 1000, \"sum_tokens_in_value_count_group\": 36, \"distinct_value_count\": 218}, {\"percentile_ex_nulls\": 0.41574418544769287, \"percentile_inc_nulls\": 0.5249999761581421, \"value_count\": 10, \"group_name\": \"_city_\", \"total_non_null_rows\": 813, \"total_rows_inc_nulls\": 1000, \"sum_tokens_in_value_count_group\": 20, \"distinct_value_count\": 218}, {\"percentile_ex_nulls\": 0.3936039209365845, \"percentile_inc_nulls\": 0.5069999694824219, \"value_count\": 9, \"group_name\": \"_city_\", \"total_non_null_rows\": 813, \"total_rows_inc_nulls\": 1000, \"sum_tokens_in_value_count_group\": 18, \"distinct_value_count\": 218}, {\"percentile_ex_nulls\": 0.3640836477279663, \"percentile_inc_nulls\": 0.4829999804496765, \"value_count\": 8, \"group_name\": \"_city_\", \"total_non_null_rows\": 813, \"total_rows_inc_nulls\": 1000, \"sum_tokens_in_value_count_group\": 24, \"distinct_value_count\": 218}, {\"percentile_ex_nulls\": 0.31242311000823975, \"percentile_inc_nulls\": 0.44099998474121094, \"value_count\": 7, \"group_name\": \"_city_\", \"total_non_null_rows\": 813, \"total_rows_inc_nulls\": 1000, \"sum_tokens_in_value_count_group\": 42, \"distinct_value_count\": 218}, {\"percentile_ex_nulls\": 0.2829028367996216, \"percentile_inc_nulls\": 0.4169999957084656, \"value_count\": 6, \"group_name\": \"_city_\", \"total_non_null_rows\": 813, \"total_rows_inc_nulls\": 1000, \"sum_tokens_in_value_count_group\": 24, \"distinct_value_count\": 218}, {\"percentile_ex_nulls\": 0.25830256938934326, \"percentile_inc_nulls\": 0.3970000147819519, \"value_count\": 5, \"group_name\": \"_city_\", \"total_non_null_rows\": 813, \"total_rows_inc_nulls\": 1000, \"sum_tokens_in_value_count_group\": 20, \"distinct_value_count\": 218}, {\"percentile_ex_nulls\": 0.24354243278503418, \"percentile_inc_nulls\": 0.38499999046325684, \"value_count\": 4, \"group_name\": \"_city_\", \"total_non_null_rows\": 813, \"total_rows_inc_nulls\": 1000, \"sum_tokens_in_value_count_group\": 12, \"distinct_value_count\": 218}, {\"percentile_ex_nulls\": 0.2287822961807251, \"percentile_inc_nulls\": 0.37300002574920654, \"value_count\": 3, \"group_name\": \"_city_\", \"total_non_null_rows\": 813, \"total_rows_inc_nulls\": 1000, \"sum_tokens_in_value_count_group\": 12, \"distinct_value_count\": 218}, {\"percentile_ex_nulls\": 0.19680196046829224, \"percentile_inc_nulls\": 0.34700000286102295, \"value_count\": 2, \"group_name\": \"_city_\", \"total_non_null_rows\": 813, \"total_rows_inc_nulls\": 1000, \"sum_tokens_in_value_count_group\": 26, \"distinct_value_count\": 218}, {\"percentile_ex_nulls\": 0.0, \"percentile_inc_nulls\": 0.18699997663497925, \"value_count\": 1, \"group_name\": \"_city_\", \"total_non_null_rows\": 813, \"total_rows_inc_nulls\": 1000, \"sum_tokens_in_value_count_group\": 160, \"distinct_value_count\": 218}, {\"percentile_ex_nulls\": 1.0, \"percentile_inc_nulls\": 1.0, \"value_count\": 173, \"group_name\": \"_city_\", \"total_non_null_rows\": 813, \"total_rows_inc_nulls\": 1000, \"sum_tokens_in_value_count_group\": 173, \"distinct_value_count\": 218}]}, \"encoding\": {\"tooltip\": [{\"field\": \"value_count\", \"type\": \"quantitative\"}, {\"field\": \"percentile_ex_nulls\", \"type\": \"quantitative\"}, {\"field\": \"percentile_inc_nulls\", \"type\": \"quantitative\"}, {\"field\": \"total_non_null_rows\", \"type\": \"quantitative\"}, {\"field\": \"total_rows_inc_nulls\", \"type\": \"quantitative\"}], \"x\": {\"field\": \"percentile_ex_nulls\", \"sort\": \"descending\", \"title\": \"Percentile\", \"type\": \"quantitative\"}, \"y\": {\"field\": \"value_count\", \"title\": \"Count of values\", \"type\": \"quantitative\"}}, \"title\": {\"text\": \"Distribution of counts of values in column \\\"city\\\"\", \"subtitle\": \"In this col, 187 values (18.7%) are null and there are 218 distinct values\"}}, {\"mark\": \"bar\", \"data\": {\"values\": [{\"value_count\": 173, \"group_name\": \"_city_\", \"value\": \"London\", \"total_non_null_rows\": 813, \"total_rows_inc_nulls\": 1000, \"distinct_value_count\": 218}, {\"value_count\": 40, \"group_name\": \"_city_\", \"value\": \"Birmingham\", \"total_non_null_rows\": 813, \"total_rows_inc_nulls\": 1000, \"distinct_value_count\": 218}, {\"value_count\": 33, \"group_name\": \"_city_\", \"value\": \"Liverpool\", \"total_non_null_rows\": 813, \"total_rows_inc_nulls\": 1000, \"distinct_value_count\": 218}, {\"value_count\": 21, \"group_name\": \"_city_\", \"value\": \"Coventry\", \"total_non_null_rows\": 813, \"total_rows_inc_nulls\": 1000, \"distinct_value_count\": 218}, {\"value_count\": 18, \"group_name\": \"_city_\", \"value\": \"Newcastle-upon-Tyne\", \"total_non_null_rows\": 813, \"total_rows_inc_nulls\": 1000, \"distinct_value_count\": 218}, {\"value_count\": 17, \"group_name\": \"_city_\", \"value\": \"Leeds\", \"total_non_null_rows\": 813, \"total_rows_inc_nulls\": 1000, \"distinct_value_count\": 218}, {\"value_count\": 17, \"group_name\": \"_city_\", \"value\": \"Manchester\", \"total_non_null_rows\": 813, \"total_rows_inc_nulls\": 1000, \"distinct_value_count\": 218}, {\"value_count\": 16, \"group_name\": \"_city_\", \"value\": \"Aberdeen\", \"total_non_null_rows\": 813, \"total_rows_inc_nulls\": 1000, \"distinct_value_count\": 218}, {\"value_count\": 16, \"group_name\": \"_city_\", \"value\": \"Bristol\", \"total_non_null_rows\": 813, \"total_rows_inc_nulls\": 1000, \"distinct_value_count\": 218}, {\"value_count\": 14, \"group_name\": \"_city_\", \"value\": \"Southend-on-Sea\", \"total_non_null_rows\": 813, \"total_rows_inc_nulls\": 1000, \"distinct_value_count\": 218}]}, \"encoding\": {\"tooltip\": [{\"field\": \"value\", \"type\": \"nominal\"}, {\"field\": \"value_count\", \"type\": \"quantitative\"}, {\"field\": \"total_non_null_rows\", \"type\": \"quantitative\"}, {\"field\": \"total_rows_inc_nulls\", \"type\": \"quantitative\"}], \"x\": {\"field\": \"value\", \"sort\": \"-y\", \"title\": null, \"type\": \"nominal\"}, \"y\": {\"field\": \"value_count\", \"title\": \"Value count\", \"type\": \"quantitative\"}}, \"title\": \"Top 10 values by value count\"}, {\"mark\": \"bar\", \"data\": {\"values\": [{\"value_count\": 1, \"group_name\": \"_city_\", \"value\": \"BlBton\", \"total_non_null_rows\": 813, \"total_rows_inc_nulls\": 1000, \"distinct_value_count\": 218}, {\"value_count\": 1, \"group_name\": \"_city_\", \"value\": \"LondoLn\", \"total_non_null_rows\": 813, \"total_rows_inc_nulls\": 1000, \"distinct_value_count\": 218}, {\"value_count\": 1, \"group_name\": \"_city_\", \"value\": \"ReadRing\", \"total_non_null_rows\": 813, \"total_rows_inc_nulls\": 1000, \"distinct_value_count\": 218}, {\"value_count\": 1, \"group_name\": \"_city_\", \"value\": \"Stockton-on-Tes\", \"total_non_null_rows\": 813, \"total_rows_inc_nulls\": 1000, \"distinct_value_count\": 218}, {\"value_count\": 1, \"group_name\": \"_city_\", \"value\": \"Sundrland\", \"total_non_null_rows\": 813, \"total_rows_inc_nulls\": 1000, \"distinct_value_count\": 218}]}, \"encoding\": {\"tooltip\": [{\"field\": \"value\", \"type\": \"nominal\"}, {\"field\": \"value_count\", \"type\": \"quantitative\"}, {\"field\": \"total_non_null_rows\", \"type\": \"quantitative\"}, {\"field\": \"total_rows_inc_nulls\", \"type\": \"quantitative\"}], \"x\": {\"field\": \"value\", \"sort\": \"-y\", \"title\": null, \"type\": \"nominal\"}, \"y\": {\"field\": \"value_count\", \"scale\": {\"domain\": [0, 173]}, \"title\": \"Value count\", \"type\": \"quantitative\"}}, \"title\": \"Bottom 5 values by value count\"}]}, {\"hconcat\": [{\"mark\": {\"type\": \"line\", \"interpolate\": \"step-before\"}, \"data\": {\"values\": [{\"percentile_ex_nulls\": 0.9619771838188171, \"percentile_inc_nulls\": 0.9700000286102295, \"value_count\": 6, \"group_name\": \"_email_\", \"total_non_null_rows\": 789, \"total_rows_inc_nulls\": 1000, \"sum_tokens_in_value_count_group\": 30, \"distinct_value_count\": 424}, {\"percentile_ex_nulls\": 0.8479087352752686, \"percentile_inc_nulls\": 0.8799999952316284, \"value_count\": 5, \"group_name\": \"_email_\", \"total_non_null_rows\": 789, \"total_rows_inc_nulls\": 1000, \"sum_tokens_in_value_count_group\": 90, \"distinct_value_count\": 424}, {\"percentile_ex_nulls\": 0.6653992533683777, \"percentile_inc_nulls\": 0.7360000014305115, \"value_count\": 4, \"group_name\": \"_email_\", \"total_non_null_rows\": 789, \"total_rows_inc_nulls\": 1000, \"sum_tokens_in_value_count_group\": 144, \"distinct_value_count\": 424}, {\"percentile_ex_nulls\": 0.47148287296295166, \"percentile_inc_nulls\": 0.5830000042915344, \"value_count\": 3, \"group_name\": \"_email_\", \"total_non_null_rows\": 789, \"total_rows_inc_nulls\": 1000, \"sum_tokens_in_value_count_group\": 153, \"distinct_value_count\": 424}, {\"percentile_ex_nulls\": 0.32446134090423584, \"percentile_inc_nulls\": 0.46700000762939453, \"value_count\": 2, \"group_name\": \"_email_\", \"total_non_null_rows\": 789, \"total_rows_inc_nulls\": 1000, \"sum_tokens_in_value_count_group\": 116, \"distinct_value_count\": 424}, {\"percentile_ex_nulls\": 0.0, \"percentile_inc_nulls\": 0.21100002527236938, \"value_count\": 1, \"group_name\": \"_email_\", \"total_non_null_rows\": 789, \"total_rows_inc_nulls\": 1000, \"sum_tokens_in_value_count_group\": 256, \"distinct_value_count\": 424}, {\"percentile_ex_nulls\": 1.0, \"percentile_inc_nulls\": 1.0, \"value_count\": 6, \"group_name\": \"_email_\", \"total_non_null_rows\": 789, \"total_rows_inc_nulls\": 1000, \"sum_tokens_in_value_count_group\": 30, \"distinct_value_count\": 424}]}, \"encoding\": {\"tooltip\": [{\"field\": \"value_count\", \"type\": \"quantitative\"}, {\"field\": \"percentile_ex_nulls\", \"type\": \"quantitative\"}, {\"field\": \"percentile_inc_nulls\", \"type\": \"quantitative\"}, {\"field\": \"total_non_null_rows\", \"type\": \"quantitative\"}, {\"field\": \"total_rows_inc_nulls\", \"type\": \"quantitative\"}], \"x\": {\"field\": \"percentile_ex_nulls\", \"sort\": \"descending\", \"title\": \"Percentile\", \"type\": \"quantitative\"}, \"y\": {\"field\": \"value_count\", \"title\": \"Count of values\", \"type\": \"quantitative\"}}, \"title\": {\"text\": \"Distribution of counts of values in column \\\"email\\\"\", \"subtitle\": \"In this col, 211 values (21.1%) are null and there are 424 distinct values\"}}, {\"mark\": \"bar\", \"data\": {\"values\": [{\"value_count\": 6, \"group_name\": \"_email_\", \"value\": \"iwilkinson@bush.com\", \"total_non_null_rows\": 789, \"total_rows_inc_nulls\": 1000, \"distinct_value_count\": 424}, {\"value_count\": 6, \"group_name\": \"_email_\", \"value\": \"fb@nelson.com\", \"total_non_null_rows\": 789, \"total_rows_inc_nulls\": 1000, \"distinct_value_count\": 424}, {\"value_count\": 6, \"group_name\": \"_email_\", \"value\": \"j.williams@levine-johnson.com\", \"total_non_null_rows\": 789, \"total_rows_inc_nulls\": 1000, \"distinct_value_count\": 424}, {\"value_count\": 6, \"group_name\": \"_email_\", \"value\": \"omoore64@randall.com\", \"total_non_null_rows\": 789, \"total_rows_inc_nulls\": 1000, \"distinct_value_count\": 424}, {\"value_count\": 6, \"group_name\": \"_email_\", \"value\": \"jessica.miller@johnson.com\", \"total_non_null_rows\": 789, \"total_rows_inc_nulls\": 1000, \"distinct_value_count\": 424}, {\"value_count\": 5, \"group_name\": \"_email_\", \"value\": \"noahh78@diaz-clark.com\", \"total_non_null_rows\": 789, \"total_rows_inc_nulls\": 1000, \"distinct_value_count\": 424}, {\"value_count\": 5, \"group_name\": \"_email_\", \"value\": \"lily.robinson73@peterson.biz\", \"total_non_null_rows\": 789, \"total_rows_inc_nulls\": 1000, \"distinct_value_count\": 424}, {\"value_count\": 5, \"group_name\": \"_email_\", \"value\": \"james.d@merritt-scott.com\", \"total_non_null_rows\": 789, \"total_rows_inc_nulls\": 1000, \"distinct_value_count\": 424}, {\"value_count\": 5, \"group_name\": \"_email_\", \"value\": \"hollythomson3@levine-jones.com\", \"total_non_null_rows\": 789, \"total_rows_inc_nulls\": 1000, \"distinct_value_count\": 424}, {\"value_count\": 5, \"group_name\": \"_email_\", \"value\": \"jacob.a83@clark.com\", \"total_non_null_rows\": 789, \"total_rows_inc_nulls\": 1000, \"distinct_value_count\": 424}]}, \"encoding\": {\"tooltip\": [{\"field\": \"value\", \"type\": \"nominal\"}, {\"field\": \"value_count\", \"type\": \"quantitative\"}, {\"field\": \"total_non_null_rows\", \"type\": \"quantitative\"}, {\"field\": \"total_rows_inc_nulls\", \"type\": \"quantitative\"}], \"x\": {\"field\": \"value\", \"sort\": \"-y\", \"title\": null, \"type\": \"nominal\"}, \"y\": {\"field\": \"value_count\", \"title\": \"Value count\", \"type\": \"quantitative\"}}, \"title\": \"Top 10 values by value count\"}, {\"mark\": \"bar\", \"data\": {\"values\": [{\"value_count\": 1, \"group_name\": \"_email_\", \"value\": \"lola.k63@bradle-barnes.info\", \"total_non_null_rows\": 789, \"total_rows_inc_nulls\": 1000, \"distinct_value_count\": 424}, {\"value_count\": 1, \"group_name\": \"_email_\", \"value\": \"thomas.green@clark.org\", \"total_non_null_rows\": 789, \"total_rows_inc_nulls\": 1000, \"distinct_value_count\": 424}, {\"value_count\": 1, \"group_name\": \"_email_\", \"value\": \"j.s81@simmosmco.\", \"total_non_null_rows\": 789, \"total_rows_inc_nulls\": 1000, \"distinct_value_count\": 424}, {\"value_count\": 1, \"group_name\": \"_email_\", \"value\": \"muhammadj@cortez-trujillo.com\", \"total_non_null_rows\": 789, \"total_rows_inc_nulls\": 1000, \"distinct_value_count\": 424}, {\"value_count\": 1, \"group_name\": \"_email_\", \"value\": \"gdavidron@johnson-bsown.com\", \"total_non_null_rows\": 789, \"total_rows_inc_nulls\": 1000, \"distinct_value_count\": 424}]}, \"encoding\": {\"tooltip\": [{\"field\": \"value\", \"type\": \"nominal\"}, {\"field\": \"value_count\", \"type\": \"quantitative\"}, {\"field\": \"total_non_null_rows\", \"type\": \"quantitative\"}, {\"field\": \"total_rows_inc_nulls\", \"type\": \"quantitative\"}], \"x\": {\"field\": \"value\", \"sort\": \"-y\", \"title\": null, \"type\": \"nominal\"}, \"y\": {\"field\": \"value_count\", \"scale\": {\"domain\": [0, 6]}, \"title\": \"Value count\", \"type\": \"quantitative\"}}, \"title\": \"Bottom 5 values by value count\"}]}], \"$schema\": \"https://vega.github.io/schema/vega-lite/v5.9.3.json\"}, {\"mode\": \"vega-lite\"});\n",
       "</script>"
      ],
      "text/plain": [
       "alt.VConcatChart(...)"
      ]
     },
     "execution_count": 5,
     "metadata": {},
     "output_type": "execute_result"
    }
   ],
   "source": [
    "profile_columns(df,\n",
    "                db_api=DuckDBAPI(),\n",
    "                top_n=10,\n",
    "                bottom_n=5)"
   ]
  },
  {
   "cell_type": "code",
   "execution_count": null,
   "id": "1b4f89cf-5301-4142-bda6-a559ddc33297",
   "metadata": {},
   "outputs": [],
   "source": []
  }
 ],
 "metadata": {
  "kernelspec": {
   "display_name": "Python 3 (ipykernel)",
   "language": "python",
   "name": "python3"
  },
  "language_info": {
   "codemirror_mode": {
    "name": "ipython",
    "version": 3
   },
   "file_extension": ".py",
   "mimetype": "text/x-python",
   "name": "python",
   "nbconvert_exporter": "python",
   "pygments_lexer": "ipython3",
   "version": "3.13.2"
  }
 },
 "nbformat": 4,
 "nbformat_minor": 5
}
