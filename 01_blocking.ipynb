{
 "cells": [
  {
   "cell_type": "markdown",
   "id": "8a90bb97-2bc0-4b9e-8595-63d3452ecd94",
   "metadata": {},
   "source": [
    "# Setup"
   ]
  },
  {
   "cell_type": "code",
   "execution_count": 11,
   "id": "e1097329-9430-48cc-a05c-00f5c91c1745",
   "metadata": {},
   "outputs": [],
   "source": [
    "from splink import (\n",
    "  DuckDBAPI,\n",
    "  block_on,\n",
    "  splink_datasets\n",
    ")\n",
    "\n",
    "from splink.blocking_analysis import (\n",
    "  count_comparisons_from_blocking_rule,\n",
    "  n_largest_blocks\n",
    ")"
   ]
  },
  {
   "cell_type": "markdown",
   "id": "d54755e8-9d82-433f-aa1a-382fa6e69841",
   "metadata": {},
   "source": [
    "# Load Data"
   ]
  },
  {
   "cell_type": "code",
   "execution_count": 2,
   "id": "ee4bcac1-eec6-4b6e-82a3-2e1c15889735",
   "metadata": {},
   "outputs": [],
   "source": [
    "df = splink_datasets.fake_1000"
   ]
  },
  {
   "cell_type": "markdown",
   "id": "ca5b0229-203a-4cba-89aa-df587b1d563a",
   "metadata": {},
   "source": [
    "# Counting Comparisons for Blocking Rules"
   ]
  },
  {
   "cell_type": "code",
   "execution_count": 3,
   "id": "d516cfec-00b0-418e-bce3-5d3f03b0be6a",
   "metadata": {},
   "outputs": [],
   "source": [
    "db_api = DuckDBAPI()"
   ]
  },
  {
   "cell_type": "markdown",
   "id": "e69f6e70-6ec3-402f-839e-34886c2d2290",
   "metadata": {},
   "source": [
    "## Initial and Surname"
   ]
  },
  {
   "cell_type": "code",
   "execution_count": 4,
   "id": "0e8b6e66-41cc-4979-ae8b-2b837dd63b53",
   "metadata": {},
   "outputs": [],
   "source": [
    "br_initial_surname = block_on(\"substr(first_name, 1,1)\", \"surname\")"
   ]
  },
  {
   "cell_type": "code",
   "execution_count": 5,
   "id": "4adde51d-c7e9-4799-84f9-6c8f79cf9520",
   "metadata": {},
   "outputs": [],
   "source": [
    "counts_initial_surname = count_comparisons_from_blocking_rule(\n",
    "  table_or_tables=df,\n",
    "  blocking_rule=br_initial_surname,\n",
    "  link_type=\"dedupe_only\",\n",
    "  db_api=db_api,\n",
    ")"
   ]
  },
  {
   "cell_type": "code",
   "execution_count": 6,
   "id": "2784a4fb-c15a-4671-8b23-36d73771ee09",
   "metadata": {},
   "outputs": [
    {
     "data": {
      "text/plain": [
       "{'number_of_comparisons_generated_pre_filter_conditions': 1632,\n",
       " 'number_of_comparisons_to_be_scored_post_filter_conditions': 473,\n",
       " 'filter_conditions_identified': '',\n",
       " 'equi_join_conditions_identified': 'SUBSTRING(l.first_name, 1, 1) = SUBSTRING(r.first_name, 1, 1) AND l.\"surname\" = r.\"surname\"',\n",
       " 'link_type_join_condition': 'where l.\"unique_id\" < r.\"unique_id\"'}"
      ]
     },
     "execution_count": 6,
     "metadata": {},
     "output_type": "execute_result"
    }
   ],
   "source": [
    "counts_initial_surname"
   ]
  },
  {
   "cell_type": "markdown",
   "id": "94eb01f0-fe57-4c6b-b2b9-29eac2f6bfe7",
   "metadata": {},
   "source": [
    "### Worst Offending Values"
   ]
  },
  {
   "cell_type": "code",
   "execution_count": null,
   "id": "c51818e9-f540-429b-8f14-d4bc38dd2c4a",
   "metadata": {},
   "outputs": [],
   "source": [
    "result = n_largest_blocks(\n",
    "  table_or_tables=df,\n",
    "  blocking_rule= block_on(\"city\", \"first_name\"),\n",
    "  link_type=\"dedupe_only\",\n",
    "  db_api=db_api,\n",
    "  n_largest=3\n",
    ")"
   ]
  },
  {
   "cell_type": "markdown",
   "id": "b3b5fcbc-7fde-4485-b4d9-b88f48a025a6",
   "metadata": {},
   "source": [
    "## Exact Forename and Fuzzy Surname"
   ]
  },
  {
   "cell_type": "code",
   "execution_count": 7,
   "id": "1f87d006-001c-4e20-a04a-c930971f2bcb",
   "metadata": {},
   "outputs": [],
   "source": [
    "br_forename_fuzz_surname = \"l.first_name = r.first_name and levenshtein(l.surname, r.surname) < 2\""
   ]
  },
  {
   "cell_type": "code",
   "execution_count": 8,
   "id": "35983dfa-f2d5-48c1-b397-07644fcdf6a1",
   "metadata": {},
   "outputs": [],
   "source": [
    "counts_forename_fuzz_surname = count_comparisons_from_blocking_rule(\n",
    "  table_or_tables=df,\n",
    "  blocking_rule= br_forename_fuzz_surname,\n",
    "  link_type=\"dedupe_only\",\n",
    "  db_api=db_api,\n",
    ")\n"
   ]
  },
  {
   "cell_type": "code",
   "execution_count": 9,
   "id": "3e3bbc4d-ef77-470d-9c0c-65d4d21469bf",
   "metadata": {},
   "outputs": [
    {
     "data": {
      "text/plain": [
       "{'number_of_comparisons_generated_pre_filter_conditions': 4827,\n",
       " 'number_of_comparisons_to_be_scored_post_filter_conditions': 372,\n",
       " 'filter_conditions_identified': 'LEVENSHTEIN(l.surname, r.surname) < 2',\n",
       " 'equi_join_conditions_identified': 'l.first_name = r.first_name',\n",
       " 'link_type_join_condition': 'where l.\"unique_id\" < r.\"unique_id\"'}"
      ]
     },
     "execution_count": 9,
     "metadata": {},
     "output_type": "execute_result"
    }
   ],
   "source": [
    "counts_forename_fuzz_surname"
   ]
  },
  {
   "cell_type": "markdown",
   "id": "be1b5bc2-af1c-42e6-bb75-586cbedc5a88",
   "metadata": {},
   "source": [
    "### Worst Offending Values"
   ]
  },
  {
   "cell_type": "code",
   "execution_count": null,
   "id": "348b8a91-38f7-4fc1-83c6-7decfb7032b4",
   "metadata": {},
   "outputs": [],
   "source": [
    "# TODO"
   ]
  }
 ],
 "metadata": {
  "kernelspec": {
   "display_name": "Python 3 (ipykernel)",
   "language": "python",
   "name": "python3"
  },
  "language_info": {
   "codemirror_mode": {
    "name": "ipython",
    "version": 3
   },
   "file_extension": ".py",
   "mimetype": "text/x-python",
   "name": "python",
   "nbconvert_exporter": "python",
   "pygments_lexer": "ipython3",
   "version": "3.13.2"
  }
 },
 "nbformat": 4,
 "nbformat_minor": 5
}
