{
 "cells": [
  {
   "cell_type": "markdown",
   "id": "8a90bb97-2bc0-4b9e-8595-63d3452ecd94",
   "metadata": {},
   "source": [
    "# Setup"
   ]
  },
  {
   "cell_type": "code",
   "execution_count": 1,
   "id": "e1097329-9430-48cc-a05c-00f5c91c1745",
   "metadata": {},
   "outputs": [],
   "source": [
    "from splink import (\n",
    "    DuckDBAPI,\n",
    "    block_on,\n",
    "    splink_datasets\n",
    ")\n",
    "\n",
    "from splink.blocking_analysis import (\n",
    "    count_comparisons_from_blocking_rule,\n",
    "    n_largest_blocks\n",
    ")"
   ]
  },
  {
   "cell_type": "markdown",
   "id": "d54755e8-9d82-433f-aa1a-382fa6e69841",
   "metadata": {},
   "source": [
    "# Load Data"
   ]
  },
  {
   "cell_type": "code",
   "execution_count": 2,
   "id": "ee4bcac1-eec6-4b6e-82a3-2e1c15889735",
   "metadata": {},
   "outputs": [],
   "source": [
    "df = splink_datasets.fake_1000"
   ]
  },
  {
   "cell_type": "markdown",
   "id": "ca5b0229-203a-4cba-89aa-df587b1d563a",
   "metadata": {},
   "source": [
    "# Counting Comparisons for Blocking Rules"
   ]
  },
  {
   "cell_type": "code",
   "execution_count": 3,
   "id": "268d0e00-bbe0-471d-9885-59d047a9c16d",
   "metadata": {},
   "outputs": [],
   "source": [
    "db_api = DuckDBAPI()"
   ]
  },
  {
   "cell_type": "code",
   "execution_count": 4,
   "id": "d516cfec-00b0-418e-bce3-5d3f03b0be6a",
   "metadata": {},
   "outputs": [],
   "source": [
    "def count_comparisons(blocking_rule):\n",
    "    return count_comparisons_from_blocking_rule(\n",
    "        table_or_tables=df,\n",
    "        blocking_rule=blocking_rule,\n",
    "        link_type=\"dedupe_only\",\n",
    "        db_api=db_api\n",
    "    )"
   ]
  },
  {
   "cell_type": "code",
   "execution_count": 5,
   "id": "5ac6ba59-bb15-4886-995c-7567c172dae5",
   "metadata": {},
   "outputs": [],
   "source": [
    "def find_largest_blocks(blocking_rule, n=3):\n",
    "    return "
   ]
  },
  {
   "cell_type": "markdown",
   "id": "e69f6e70-6ec3-402f-839e-34886c2d2290",
   "metadata": {},
   "source": [
    "## Initial and Surname"
   ]
  },
  {
   "cell_type": "code",
   "execution_count": 6,
   "id": "4adde51d-c7e9-4799-84f9-6c8f79cf9520",
   "metadata": {},
   "outputs": [
    {
     "data": {
      "text/plain": [
       "{'number_of_comparisons_generated_pre_filter_conditions': 1632,\n",
       " 'number_of_comparisons_to_be_scored_post_filter_conditions': 473,\n",
       " 'filter_conditions_identified': '',\n",
       " 'equi_join_conditions_identified': 'SUBSTRING(l.first_name, 1, 1) = SUBSTRING(r.first_name, 1, 1) AND l.\"surname\" = r.\"surname\"',\n",
       " 'link_type_join_condition': 'where l.\"unique_id\" < r.\"unique_id\"'}"
      ]
     },
     "execution_count": 6,
     "metadata": {},
     "output_type": "execute_result"
    }
   ],
   "source": [
    "br_fname_sname = block_on(\"substr(first_name, 1,1)\", \"surname\")\n",
    "count_comparisons(br_fname_sname)"
   ]
  },
  {
   "cell_type": "markdown",
   "id": "b3b5fcbc-7fde-4485-b4d9-b88f48a025a6",
   "metadata": {},
   "source": [
    "## Forename and Fuzzy Surname"
   ]
  },
  {
   "cell_type": "code",
   "execution_count": 7,
   "id": "1f87d006-001c-4e20-a04a-c930971f2bcb",
   "metadata": {},
   "outputs": [
    {
     "data": {
      "text/plain": [
       "{'number_of_comparisons_generated_pre_filter_conditions': 1632,\n",
       " 'number_of_comparisons_to_be_scored_post_filter_conditions': 473,\n",
       " 'filter_conditions_identified': '',\n",
       " 'equi_join_conditions_identified': 'SUBSTRING(l.first_name, 1, 1) = SUBSTRING(r.first_name, 1, 1) AND l.\"surname\" = r.\"surname\"',\n",
       " 'link_type_join_condition': 'where l.\"unique_id\" < r.\"unique_id\"'}"
      ]
     },
     "execution_count": 7,
     "metadata": {},
     "output_type": "execute_result"
    }
   ],
   "source": [
    "br_fname_fuzz_sname = \"l.first_name = r.first_name and levenshtein(l.surname, r.surname) < 2\"\n",
    "count_comparisons(br_fname_sname)"
   ]
  },
  {
   "cell_type": "markdown",
   "id": "94eb01f0-fe57-4c6b-b2b9-29eac2f6bfe7",
   "metadata": {},
   "source": [
    "# Worst Blocking Variables"
   ]
  },
  {
   "cell_type": "code",
   "execution_count": 8,
   "id": "c51818e9-f540-429b-8f14-d4bc38dd2c4a",
   "metadata": {},
   "outputs": [],
   "source": [
    "br_city_fname = block_on(\"city\", \"first_name\")\n",
    "largest_city_fname = n_largest_blocks(\n",
    "    table_or_tables=df,\n",
    "    blocking_rule=br_city_fname,\n",
    "    link_type=\"dedupe_only\",\n",
    "    db_api=db_api,\n",
    "    n_largest=3\n",
    ")"
   ]
  },
  {
   "cell_type": "code",
   "execution_count": 9,
   "id": "ae9589bd-0d39-4488-a5e7-1f3252581d82",
   "metadata": {},
   "outputs": [
    {
     "data": {
      "text/html": [
       "<div>\n",
       "<style scoped>\n",
       "    .dataframe tbody tr th:only-of-type {\n",
       "        vertical-align: middle;\n",
       "    }\n",
       "\n",
       "    .dataframe tbody tr th {\n",
       "        vertical-align: top;\n",
       "    }\n",
       "\n",
       "    .dataframe thead th {\n",
       "        text-align: right;\n",
       "    }\n",
       "</style>\n",
       "<table border=\"1\" class=\"dataframe\">\n",
       "  <thead>\n",
       "    <tr style=\"text-align: right;\">\n",
       "      <th></th>\n",
       "      <th>key_0</th>\n",
       "      <th>key_1</th>\n",
       "      <th>count_l</th>\n",
       "      <th>count_r</th>\n",
       "      <th>block_count</th>\n",
       "    </tr>\n",
       "  </thead>\n",
       "  <tbody>\n",
       "    <tr>\n",
       "      <th>0</th>\n",
       "      <td>Birmingham</td>\n",
       "      <td>Theodore</td>\n",
       "      <td>7</td>\n",
       "      <td>7</td>\n",
       "      <td>49</td>\n",
       "    </tr>\n",
       "    <tr>\n",
       "      <th>1</th>\n",
       "      <td>London</td>\n",
       "      <td>Oliver</td>\n",
       "      <td>7</td>\n",
       "      <td>7</td>\n",
       "      <td>49</td>\n",
       "    </tr>\n",
       "    <tr>\n",
       "      <th>2</th>\n",
       "      <td>London</td>\n",
       "      <td>James</td>\n",
       "      <td>6</td>\n",
       "      <td>6</td>\n",
       "      <td>36</td>\n",
       "    </tr>\n",
       "  </tbody>\n",
       "</table>\n",
       "</div>"
      ],
      "text/plain": [
       "        key_0     key_1  count_l  count_r  block_count\n",
       "0  Birmingham  Theodore        7        7           49\n",
       "1      London    Oliver        7        7           49\n",
       "2      London     James        6        6           36"
      ]
     },
     "execution_count": 9,
     "metadata": {},
     "output_type": "execute_result"
    }
   ],
   "source": [
    "largest_city_fname.as_pandas_dataframe()"
   ]
  },
  {
   "cell_type": "code",
   "execution_count": null,
   "id": "050cdc05-273b-4375-a5be-68562e403c3c",
   "metadata": {},
   "outputs": [],
   "source": []
  }
 ],
 "metadata": {
  "kernelspec": {
   "display_name": "Python 3 (ipykernel)",
   "language": "python",
   "name": "python3"
  },
  "language_info": {
   "codemirror_mode": {
    "name": "ipython",
    "version": 3
   },
   "file_extension": ".py",
   "mimetype": "text/x-python",
   "name": "python",
   "nbconvert_exporter": "python",
   "pygments_lexer": "ipython3",
   "version": "3.13.3"
  }
 },
 "nbformat": 4,
 "nbformat_minor": 5
}
